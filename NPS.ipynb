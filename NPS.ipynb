{
  "nbformat": 4,
  "nbformat_minor": 0,
  "metadata": {
    "colab": {
      "name": "Assignment 4.ipynb",
      "provenance": []
    },
    "kernelspec": {
      "name": "python3",
      "display_name": "Python 3"
    },
    "language_info": {
      "name": "python"
    }
  },
  "cells": [
    {
      "cell_type": "markdown",
      "metadata": {
        "id": "doCv9Uievr-R"
      },
      "source": [
        "#Aplicação com Pandas em análise de NPS"
      ]
    },
    {
      "cell_type": "markdown",
      "metadata": {
        "id": "pjU9GP906XH6"
      },
      "source": [
        "# Etapa 1 - Organizando os dados"
      ]
    },
    {
      "cell_type": "code",
      "metadata": {
        "id": "8aHjAiUcv0Pn"
      },
      "source": [
        "#importando as bibliotecas\n",
        "import pandas as pd\n",
        "import matplotlib.pyplot as plt\n",
        "import numpy as np"
      ],
      "execution_count": null,
      "outputs": []
    },
    {
      "cell_type": "code",
      "metadata": {
        "colab": {
          "resources": {
            "http://localhost:8080/nbextensions/google.colab/files.js": {
              "data": "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",
              "ok": true,
              "headers": [
                [
                  "content-type",
                  "application/javascript"
                ]
              ],
              "status": 200,
              "status_text": ""
            }
          },
          "base_uri": "https://localhost:8080/",
          "height": 73
        },
        "id": "014DU32Bwi48",
        "outputId": "372f6f51-7e95-4e8b-8605-7ba1d042a1d8"
      },
      "source": [
        "#carregando o dataset\n",
        "from google.colab import files\n",
        "uploaded = files.upload()"
      ],
      "execution_count": null,
      "outputs": [
        {
          "output_type": "display_data",
          "data": {
            "text/html": [
              "\n",
              "     <input type=\"file\" id=\"files-486aceb1-bd7d-4f1b-ae25-0e5d74d67a32\" name=\"files[]\" multiple disabled\n",
              "        style=\"border:none\" />\n",
              "     <output id=\"result-486aceb1-bd7d-4f1b-ae25-0e5d74d67a32\">\n",
              "      Upload widget is only available when the cell has been executed in the\n",
              "      current browser session. Please rerun this cell to enable.\n",
              "      </output>\n",
              "      <script src=\"/nbextensions/google.colab/files.js\"></script> "
            ],
            "text/plain": [
              "<IPython.core.display.HTML object>"
            ]
          },
          "metadata": {
            "tags": []
          }
        },
        {
          "output_type": "stream",
          "text": [
            "Saving Assignment_base de dados - Sheet1.csv to Assignment_base de dados - Sheet1.csv\n"
          ],
          "name": "stdout"
        }
      ]
    },
    {
      "cell_type": "code",
      "metadata": {
        "colab": {
          "base_uri": "https://localhost:8080/",
          "height": 202
        },
        "id": "7jDjP8lqwr6V",
        "outputId": "8e3b5023-68e7-4331-dcbf-ce37f583474e"
      },
      "source": [
        "df = pd.read_csv('Assignment_base de dados - Sheet1.csv')\n",
        "df.head()"
      ],
      "execution_count": null,
      "outputs": [
        {
          "output_type": "execute_result",
          "data": {
            "text/html": [
              "<div>\n",
              "<style scoped>\n",
              "    .dataframe tbody tr th:only-of-type {\n",
              "        vertical-align: middle;\n",
              "    }\n",
              "\n",
              "    .dataframe tbody tr th {\n",
              "        vertical-align: top;\n",
              "    }\n",
              "\n",
              "    .dataframe thead th {\n",
              "        text-align: right;\n",
              "    }\n",
              "</style>\n",
              "<table border=\"1\" class=\"dataframe\">\n",
              "  <thead>\n",
              "    <tr style=\"text-align: right;\">\n",
              "      <th></th>\n",
              "      <th>Plano fechado</th>\n",
              "      <th>NPS</th>\n",
              "      <th>ID_Pedido</th>\n",
              "    </tr>\n",
              "  </thead>\n",
              "  <tbody>\n",
              "    <tr>\n",
              "      <th>0</th>\n",
              "      <td>Basic</td>\n",
              "      <td>7</td>\n",
              "      <td>3880.0</td>\n",
              "    </tr>\n",
              "    <tr>\n",
              "      <th>1</th>\n",
              "      <td>Basic</td>\n",
              "      <td>5</td>\n",
              "      <td>3040.0</td>\n",
              "    </tr>\n",
              "    <tr>\n",
              "      <th>2</th>\n",
              "      <td>Premium</td>\n",
              "      <td>7</td>\n",
              "      <td>4332.0</td>\n",
              "    </tr>\n",
              "    <tr>\n",
              "      <th>3</th>\n",
              "      <td>Enteprise</td>\n",
              "      <td>5</td>\n",
              "      <td>6913.0</td>\n",
              "    </tr>\n",
              "    <tr>\n",
              "      <th>4</th>\n",
              "      <td>Basic</td>\n",
              "      <td>7</td>\n",
              "      <td>5107.0</td>\n",
              "    </tr>\n",
              "  </tbody>\n",
              "</table>\n",
              "</div>"
            ],
            "text/plain": [
              "  Plano fechado  NPS  ID_Pedido\n",
              "0         Basic    7     3880.0\n",
              "1         Basic    5     3040.0\n",
              "2       Premium    7     4332.0\n",
              "3     Enteprise    5     6913.0\n",
              "4         Basic    7     5107.0"
            ]
          },
          "metadata": {
            "tags": []
          },
          "execution_count": 36
        }
      ]
    },
    {
      "cell_type": "code",
      "metadata": {
        "colab": {
          "base_uri": "https://localhost:8080/"
        },
        "id": "bb1_fqSkzhJI",
        "outputId": "4caa5e3f-3c15-4349-c131-6af62978d435"
      },
      "source": [
        "#verificando os tipos de variáveis\n",
        "df.dtypes"
      ],
      "execution_count": null,
      "outputs": [
        {
          "output_type": "execute_result",
          "data": {
            "text/plain": [
              "Plano fechado     object\n",
              "NPS                int64\n",
              "ID_Pedido        float64\n",
              "dtype: object"
            ]
          },
          "metadata": {
            "tags": []
          },
          "execution_count": 7
        }
      ]
    },
    {
      "cell_type": "code",
      "metadata": {
        "colab": {
          "base_uri": "https://localhost:8080/"
        },
        "id": "xfnsuFqy1L7S",
        "outputId": "42cc77df-74c5-4788-f3fe-ad96827d740e"
      },
      "source": [
        "#convertendo para objeto os valores de ID_Pedido\n",
        "df['ID_Pedido']= df['ID_Pedido'].astype('object')\n",
        "df.dtypes"
      ],
      "execution_count": null,
      "outputs": [
        {
          "output_type": "execute_result",
          "data": {
            "text/plain": [
              "Plano fechado    object\n",
              "NPS               int64\n",
              "ID_Pedido        object\n",
              "dtype: object"
            ]
          },
          "metadata": {
            "tags": []
          },
          "execution_count": 8
        }
      ]
    },
    {
      "cell_type": "code",
      "metadata": {
        "colab": {
          "base_uri": "https://localhost:8080/",
          "height": 294
        },
        "id": "qwcf5z-a06jc",
        "outputId": "a87057d6-6c00-4733-8370-57c31b58013b"
      },
      "source": [
        "df.describe()"
      ],
      "execution_count": null,
      "outputs": [
        {
          "output_type": "execute_result",
          "data": {
            "text/html": [
              "<div>\n",
              "<style scoped>\n",
              "    .dataframe tbody tr th:only-of-type {\n",
              "        vertical-align: middle;\n",
              "    }\n",
              "\n",
              "    .dataframe tbody tr th {\n",
              "        vertical-align: top;\n",
              "    }\n",
              "\n",
              "    .dataframe thead th {\n",
              "        text-align: right;\n",
              "    }\n",
              "</style>\n",
              "<table border=\"1\" class=\"dataframe\">\n",
              "  <thead>\n",
              "    <tr style=\"text-align: right;\">\n",
              "      <th></th>\n",
              "      <th>NPS</th>\n",
              "    </tr>\n",
              "  </thead>\n",
              "  <tbody>\n",
              "    <tr>\n",
              "      <th>count</th>\n",
              "      <td>9260.000000</td>\n",
              "    </tr>\n",
              "    <tr>\n",
              "      <th>mean</th>\n",
              "      <td>6.844600</td>\n",
              "    </tr>\n",
              "    <tr>\n",
              "      <th>std</th>\n",
              "      <td>2.317572</td>\n",
              "    </tr>\n",
              "    <tr>\n",
              "      <th>min</th>\n",
              "      <td>1.000000</td>\n",
              "    </tr>\n",
              "    <tr>\n",
              "      <th>25%</th>\n",
              "      <td>5.000000</td>\n",
              "    </tr>\n",
              "    <tr>\n",
              "      <th>50%</th>\n",
              "      <td>7.000000</td>\n",
              "    </tr>\n",
              "    <tr>\n",
              "      <th>75%</th>\n",
              "      <td>9.000000</td>\n",
              "    </tr>\n",
              "    <tr>\n",
              "      <th>max</th>\n",
              "      <td>10.000000</td>\n",
              "    </tr>\n",
              "  </tbody>\n",
              "</table>\n",
              "</div>"
            ],
            "text/plain": [
              "               NPS\n",
              "count  9260.000000\n",
              "mean      6.844600\n",
              "std       2.317572\n",
              "min       1.000000\n",
              "25%       5.000000\n",
              "50%       7.000000\n",
              "75%       9.000000\n",
              "max      10.000000"
            ]
          },
          "metadata": {
            "tags": []
          },
          "execution_count": 9
        }
      ]
    },
    {
      "cell_type": "code",
      "metadata": {
        "colab": {
          "base_uri": "https://localhost:8080/",
          "height": 49
        },
        "id": "9s7Eg8gr1zQb",
        "outputId": "73c349e8-cb58-4f79-b63d-fb0ce112ffac"
      },
      "source": [
        "#Verificando a quantidade de null\n",
        "mask1 = pd.isnull(df['NPS'])\n",
        "df[mask1]"
      ],
      "execution_count": null,
      "outputs": [
        {
          "output_type": "execute_result",
          "data": {
            "text/html": [
              "<div>\n",
              "<style scoped>\n",
              "    .dataframe tbody tr th:only-of-type {\n",
              "        vertical-align: middle;\n",
              "    }\n",
              "\n",
              "    .dataframe tbody tr th {\n",
              "        vertical-align: top;\n",
              "    }\n",
              "\n",
              "    .dataframe thead th {\n",
              "        text-align: right;\n",
              "    }\n",
              "</style>\n",
              "<table border=\"1\" class=\"dataframe\">\n",
              "  <thead>\n",
              "    <tr style=\"text-align: right;\">\n",
              "      <th></th>\n",
              "      <th>Plano fechado</th>\n",
              "      <th>NPS</th>\n",
              "      <th>ID_Pedido</th>\n",
              "    </tr>\n",
              "  </thead>\n",
              "  <tbody>\n",
              "  </tbody>\n",
              "</table>\n",
              "</div>"
            ],
            "text/plain": [
              "Empty DataFrame\n",
              "Columns: [Plano fechado, NPS, ID_Pedido]\n",
              "Index: []"
            ]
          },
          "metadata": {
            "tags": []
          },
          "execution_count": 10
        }
      ]
    },
    {
      "cell_type": "code",
      "metadata": {
        "colab": {
          "base_uri": "https://localhost:8080/",
          "height": 172
        },
        "id": "8-PcT6Is1iVb",
        "outputId": "147e6a7d-1744-47cd-f419-39ee72d3412f"
      },
      "source": [
        "mask2 =pd.isnull(df['ID_Pedido'])\n",
        "df[mask2]"
      ],
      "execution_count": null,
      "outputs": [
        {
          "output_type": "execute_result",
          "data": {
            "text/html": [
              "<div>\n",
              "<style scoped>\n",
              "    .dataframe tbody tr th:only-of-type {\n",
              "        vertical-align: middle;\n",
              "    }\n",
              "\n",
              "    .dataframe tbody tr th {\n",
              "        vertical-align: top;\n",
              "    }\n",
              "\n",
              "    .dataframe thead th {\n",
              "        text-align: right;\n",
              "    }\n",
              "</style>\n",
              "<table border=\"1\" class=\"dataframe\">\n",
              "  <thead>\n",
              "    <tr style=\"text-align: right;\">\n",
              "      <th></th>\n",
              "      <th>Plano fechado</th>\n",
              "      <th>NPS</th>\n",
              "      <th>ID_Pedido</th>\n",
              "    </tr>\n",
              "  </thead>\n",
              "  <tbody>\n",
              "    <tr>\n",
              "      <th>2756</th>\n",
              "      <td>Premium</td>\n",
              "      <td>9</td>\n",
              "      <td>NaN</td>\n",
              "    </tr>\n",
              "    <tr>\n",
              "      <th>5389</th>\n",
              "      <td>Enteprise</td>\n",
              "      <td>1</td>\n",
              "      <td>NaN</td>\n",
              "    </tr>\n",
              "    <tr>\n",
              "      <th>6926</th>\n",
              "      <td>Basic</td>\n",
              "      <td>2</td>\n",
              "      <td>NaN</td>\n",
              "    </tr>\n",
              "    <tr>\n",
              "      <th>8155</th>\n",
              "      <td>Enteprise</td>\n",
              "      <td>5</td>\n",
              "      <td>NaN</td>\n",
              "    </tr>\n",
              "  </tbody>\n",
              "</table>\n",
              "</div>"
            ],
            "text/plain": [
              "     Plano fechado  NPS ID_Pedido\n",
              "2756       Premium    9       NaN\n",
              "5389     Enteprise    1       NaN\n",
              "6926         Basic    2       NaN\n",
              "8155     Enteprise    5       NaN"
            ]
          },
          "metadata": {
            "tags": []
          },
          "execution_count": 11
        }
      ]
    },
    {
      "cell_type": "code",
      "metadata": {
        "colab": {
          "base_uri": "https://localhost:8080/",
          "height": 172
        },
        "id": "S8QYRzum29o6",
        "outputId": "c3a4f3d3-7929-4ced-f6df-f91ea1f6eb7a"
      },
      "source": [
        "mask3=pd.isnull(df['Plano fechado'])\n",
        "df[mask3]"
      ],
      "execution_count": null,
      "outputs": [
        {
          "output_type": "execute_result",
          "data": {
            "text/html": [
              "<div>\n",
              "<style scoped>\n",
              "    .dataframe tbody tr th:only-of-type {\n",
              "        vertical-align: middle;\n",
              "    }\n",
              "\n",
              "    .dataframe tbody tr th {\n",
              "        vertical-align: top;\n",
              "    }\n",
              "\n",
              "    .dataframe thead th {\n",
              "        text-align: right;\n",
              "    }\n",
              "</style>\n",
              "<table border=\"1\" class=\"dataframe\">\n",
              "  <thead>\n",
              "    <tr style=\"text-align: right;\">\n",
              "      <th></th>\n",
              "      <th>Plano fechado</th>\n",
              "      <th>NPS</th>\n",
              "      <th>ID_Pedido</th>\n",
              "    </tr>\n",
              "  </thead>\n",
              "  <tbody>\n",
              "    <tr>\n",
              "      <th>146</th>\n",
              "      <td>NaN</td>\n",
              "      <td>5</td>\n",
              "      <td>4852</td>\n",
              "    </tr>\n",
              "    <tr>\n",
              "      <th>232</th>\n",
              "      <td>NaN</td>\n",
              "      <td>5</td>\n",
              "      <td>7159</td>\n",
              "    </tr>\n",
              "    <tr>\n",
              "      <th>7046</th>\n",
              "      <td>NaN</td>\n",
              "      <td>5</td>\n",
              "      <td>6007</td>\n",
              "    </tr>\n",
              "    <tr>\n",
              "      <th>9123</th>\n",
              "      <td>NaN</td>\n",
              "      <td>9</td>\n",
              "      <td>1406</td>\n",
              "    </tr>\n",
              "  </tbody>\n",
              "</table>\n",
              "</div>"
            ],
            "text/plain": [
              "     Plano fechado  NPS ID_Pedido\n",
              "146            NaN    5      4852\n",
              "232            NaN    5      7159\n",
              "7046           NaN    5      6007\n",
              "9123           NaN    9      1406"
            ]
          },
          "metadata": {
            "tags": []
          },
          "execution_count": 12
        }
      ]
    },
    {
      "cell_type": "code",
      "metadata": {
        "colab": {
          "base_uri": "https://localhost:8080/",
          "height": 415
        },
        "id": "lW4y-l-t3FTR",
        "outputId": "f568f9b0-4282-41dd-a632-f9b351c6c348"
      },
      "source": [
        "#removendo os valores nulos\n",
        "df_2 =df.dropna()\n",
        "df_2"
      ],
      "execution_count": null,
      "outputs": [
        {
          "output_type": "execute_result",
          "data": {
            "text/html": [
              "<div>\n",
              "<style scoped>\n",
              "    .dataframe tbody tr th:only-of-type {\n",
              "        vertical-align: middle;\n",
              "    }\n",
              "\n",
              "    .dataframe tbody tr th {\n",
              "        vertical-align: top;\n",
              "    }\n",
              "\n",
              "    .dataframe thead th {\n",
              "        text-align: right;\n",
              "    }\n",
              "</style>\n",
              "<table border=\"1\" class=\"dataframe\">\n",
              "  <thead>\n",
              "    <tr style=\"text-align: right;\">\n",
              "      <th></th>\n",
              "      <th>Plano fechado</th>\n",
              "      <th>NPS</th>\n",
              "      <th>ID_Pedido</th>\n",
              "    </tr>\n",
              "  </thead>\n",
              "  <tbody>\n",
              "    <tr>\n",
              "      <th>0</th>\n",
              "      <td>Basic</td>\n",
              "      <td>7</td>\n",
              "      <td>3880.0</td>\n",
              "    </tr>\n",
              "    <tr>\n",
              "      <th>1</th>\n",
              "      <td>Basic</td>\n",
              "      <td>5</td>\n",
              "      <td>3040.0</td>\n",
              "    </tr>\n",
              "    <tr>\n",
              "      <th>2</th>\n",
              "      <td>Premium</td>\n",
              "      <td>7</td>\n",
              "      <td>4332.0</td>\n",
              "    </tr>\n",
              "    <tr>\n",
              "      <th>3</th>\n",
              "      <td>Enteprise</td>\n",
              "      <td>5</td>\n",
              "      <td>6913.0</td>\n",
              "    </tr>\n",
              "    <tr>\n",
              "      <th>4</th>\n",
              "      <td>Basic</td>\n",
              "      <td>7</td>\n",
              "      <td>5107.0</td>\n",
              "    </tr>\n",
              "    <tr>\n",
              "      <th>...</th>\n",
              "      <td>...</td>\n",
              "      <td>...</td>\n",
              "      <td>...</td>\n",
              "    </tr>\n",
              "    <tr>\n",
              "      <th>9255</th>\n",
              "      <td>Premium</td>\n",
              "      <td>4</td>\n",
              "      <td>5078.0</td>\n",
              "    </tr>\n",
              "    <tr>\n",
              "      <th>9256</th>\n",
              "      <td>Enteprise</td>\n",
              "      <td>5</td>\n",
              "      <td>5844.0</td>\n",
              "    </tr>\n",
              "    <tr>\n",
              "      <th>9257</th>\n",
              "      <td>Basic</td>\n",
              "      <td>7</td>\n",
              "      <td>6761.0</td>\n",
              "    </tr>\n",
              "    <tr>\n",
              "      <th>9258</th>\n",
              "      <td>Enteprise</td>\n",
              "      <td>7</td>\n",
              "      <td>4087.0</td>\n",
              "    </tr>\n",
              "    <tr>\n",
              "      <th>9259</th>\n",
              "      <td>Enteprise</td>\n",
              "      <td>5</td>\n",
              "      <td>5041.0</td>\n",
              "    </tr>\n",
              "  </tbody>\n",
              "</table>\n",
              "<p>9252 rows × 3 columns</p>\n",
              "</div>"
            ],
            "text/plain": [
              "     Plano fechado  NPS  ID_Pedido\n",
              "0            Basic    7     3880.0\n",
              "1            Basic    5     3040.0\n",
              "2          Premium    7     4332.0\n",
              "3        Enteprise    5     6913.0\n",
              "4            Basic    7     5107.0\n",
              "...            ...  ...        ...\n",
              "9255       Premium    4     5078.0\n",
              "9256     Enteprise    5     5844.0\n",
              "9257         Basic    7     6761.0\n",
              "9258     Enteprise    7     4087.0\n",
              "9259     Enteprise    5     5041.0\n",
              "\n",
              "[9252 rows x 3 columns]"
            ]
          },
          "metadata": {
            "tags": []
          },
          "execution_count": 37
        }
      ]
    },
    {
      "cell_type": "code",
      "metadata": {
        "colab": {
          "base_uri": "https://localhost:8080/"
        },
        "id": "h3OqaG-l4RPn",
        "outputId": "25dff07a-3fc0-4690-9b60-28f2489ea61d"
      },
      "source": [
        "#conferindo se todos os nulls foram removidos\n",
        "df_2.isnull().sum()"
      ],
      "execution_count": null,
      "outputs": [
        {
          "output_type": "execute_result",
          "data": {
            "text/plain": [
              "Plano fechado    0\n",
              "NPS              0\n",
              "ID_Pedido        0\n",
              "dtype: int64"
            ]
          },
          "metadata": {
            "tags": []
          },
          "execution_count": 38
        }
      ]
    },
    {
      "cell_type": "code",
      "metadata": {
        "colab": {
          "base_uri": "https://localhost:8080/",
          "height": 446
        },
        "id": "JbsE5Q3sFuuu",
        "outputId": "414dc05e-535e-4c81-f9b5-d2409ee69a55"
      },
      "source": [
        "df_2.set_index('ID_Pedido', inplace=True)\n",
        "df_2"
      ],
      "execution_count": null,
      "outputs": [
        {
          "output_type": "execute_result",
          "data": {
            "text/html": [
              "<div>\n",
              "<style scoped>\n",
              "    .dataframe tbody tr th:only-of-type {\n",
              "        vertical-align: middle;\n",
              "    }\n",
              "\n",
              "    .dataframe tbody tr th {\n",
              "        vertical-align: top;\n",
              "    }\n",
              "\n",
              "    .dataframe thead th {\n",
              "        text-align: right;\n",
              "    }\n",
              "</style>\n",
              "<table border=\"1\" class=\"dataframe\">\n",
              "  <thead>\n",
              "    <tr style=\"text-align: right;\">\n",
              "      <th></th>\n",
              "      <th>Plano fechado</th>\n",
              "      <th>NPS</th>\n",
              "    </tr>\n",
              "    <tr>\n",
              "      <th>ID_Pedido</th>\n",
              "      <th></th>\n",
              "      <th></th>\n",
              "    </tr>\n",
              "  </thead>\n",
              "  <tbody>\n",
              "    <tr>\n",
              "      <th>3880.0</th>\n",
              "      <td>Basic</td>\n",
              "      <td>7</td>\n",
              "    </tr>\n",
              "    <tr>\n",
              "      <th>3040.0</th>\n",
              "      <td>Basic</td>\n",
              "      <td>5</td>\n",
              "    </tr>\n",
              "    <tr>\n",
              "      <th>4332.0</th>\n",
              "      <td>Premium</td>\n",
              "      <td>7</td>\n",
              "    </tr>\n",
              "    <tr>\n",
              "      <th>6913.0</th>\n",
              "      <td>Enteprise</td>\n",
              "      <td>5</td>\n",
              "    </tr>\n",
              "    <tr>\n",
              "      <th>5107.0</th>\n",
              "      <td>Basic</td>\n",
              "      <td>7</td>\n",
              "    </tr>\n",
              "    <tr>\n",
              "      <th>...</th>\n",
              "      <td>...</td>\n",
              "      <td>...</td>\n",
              "    </tr>\n",
              "    <tr>\n",
              "      <th>5078.0</th>\n",
              "      <td>Premium</td>\n",
              "      <td>4</td>\n",
              "    </tr>\n",
              "    <tr>\n",
              "      <th>5844.0</th>\n",
              "      <td>Enteprise</td>\n",
              "      <td>5</td>\n",
              "    </tr>\n",
              "    <tr>\n",
              "      <th>6761.0</th>\n",
              "      <td>Basic</td>\n",
              "      <td>7</td>\n",
              "    </tr>\n",
              "    <tr>\n",
              "      <th>4087.0</th>\n",
              "      <td>Enteprise</td>\n",
              "      <td>7</td>\n",
              "    </tr>\n",
              "    <tr>\n",
              "      <th>5041.0</th>\n",
              "      <td>Enteprise</td>\n",
              "      <td>5</td>\n",
              "    </tr>\n",
              "  </tbody>\n",
              "</table>\n",
              "<p>9252 rows × 2 columns</p>\n",
              "</div>"
            ],
            "text/plain": [
              "          Plano fechado  NPS\n",
              "ID_Pedido                   \n",
              "3880.0            Basic    7\n",
              "3040.0            Basic    5\n",
              "4332.0          Premium    7\n",
              "6913.0        Enteprise    5\n",
              "5107.0            Basic    7\n",
              "...                 ...  ...\n",
              "5078.0          Premium    4\n",
              "5844.0        Enteprise    5\n",
              "6761.0            Basic    7\n",
              "4087.0        Enteprise    7\n",
              "5041.0        Enteprise    5\n",
              "\n",
              "[9252 rows x 2 columns]"
            ]
          },
          "metadata": {
            "tags": []
          },
          "execution_count": 39
        }
      ]
    },
    {
      "cell_type": "markdown",
      "metadata": {
        "id": "hNAnYyH7FLpx"
      },
      "source": [
        "# 1.1 Basic"
      ]
    },
    {
      "cell_type": "code",
      "metadata": {
        "colab": {
          "base_uri": "https://localhost:8080/",
          "height": 446
        },
        "id": "i94oODPZSlk_",
        "outputId": "465f11b8-a2d7-46cc-ff74-2988918c0a55"
      },
      "source": [
        "#Filtrando apenas os planos \"Basic\"\n",
        "Basic = df_2[df_2['Plano fechado']=='Basic']\n",
        "Basic"
      ],
      "execution_count": null,
      "outputs": [
        {
          "output_type": "execute_result",
          "data": {
            "text/html": [
              "<div>\n",
              "<style scoped>\n",
              "    .dataframe tbody tr th:only-of-type {\n",
              "        vertical-align: middle;\n",
              "    }\n",
              "\n",
              "    .dataframe tbody tr th {\n",
              "        vertical-align: top;\n",
              "    }\n",
              "\n",
              "    .dataframe thead th {\n",
              "        text-align: right;\n",
              "    }\n",
              "</style>\n",
              "<table border=\"1\" class=\"dataframe\">\n",
              "  <thead>\n",
              "    <tr style=\"text-align: right;\">\n",
              "      <th></th>\n",
              "      <th>Plano fechado</th>\n",
              "      <th>NPS</th>\n",
              "    </tr>\n",
              "    <tr>\n",
              "      <th>ID_Pedido</th>\n",
              "      <th></th>\n",
              "      <th></th>\n",
              "    </tr>\n",
              "  </thead>\n",
              "  <tbody>\n",
              "    <tr>\n",
              "      <th>3880.0</th>\n",
              "      <td>Basic</td>\n",
              "      <td>7</td>\n",
              "    </tr>\n",
              "    <tr>\n",
              "      <th>3040.0</th>\n",
              "      <td>Basic</td>\n",
              "      <td>5</td>\n",
              "    </tr>\n",
              "    <tr>\n",
              "      <th>5107.0</th>\n",
              "      <td>Basic</td>\n",
              "      <td>7</td>\n",
              "    </tr>\n",
              "    <tr>\n",
              "      <th>1788.0</th>\n",
              "      <td>Basic</td>\n",
              "      <td>5</td>\n",
              "    </tr>\n",
              "    <tr>\n",
              "      <th>7639.0</th>\n",
              "      <td>Basic</td>\n",
              "      <td>10</td>\n",
              "    </tr>\n",
              "    <tr>\n",
              "      <th>...</th>\n",
              "      <td>...</td>\n",
              "      <td>...</td>\n",
              "    </tr>\n",
              "    <tr>\n",
              "      <th>1904.0</th>\n",
              "      <td>Basic</td>\n",
              "      <td>8</td>\n",
              "    </tr>\n",
              "    <tr>\n",
              "      <th>5336.0</th>\n",
              "      <td>Basic</td>\n",
              "      <td>8</td>\n",
              "    </tr>\n",
              "    <tr>\n",
              "      <th>6933.0</th>\n",
              "      <td>Basic</td>\n",
              "      <td>4</td>\n",
              "    </tr>\n",
              "    <tr>\n",
              "      <th>4792.0</th>\n",
              "      <td>Basic</td>\n",
              "      <td>7</td>\n",
              "    </tr>\n",
              "    <tr>\n",
              "      <th>6761.0</th>\n",
              "      <td>Basic</td>\n",
              "      <td>7</td>\n",
              "    </tr>\n",
              "  </tbody>\n",
              "</table>\n",
              "<p>4304 rows × 2 columns</p>\n",
              "</div>"
            ],
            "text/plain": [
              "          Plano fechado  NPS\n",
              "ID_Pedido                   \n",
              "3880.0            Basic    7\n",
              "3040.0            Basic    5\n",
              "5107.0            Basic    7\n",
              "1788.0            Basic    5\n",
              "7639.0            Basic   10\n",
              "...                 ...  ...\n",
              "1904.0            Basic    8\n",
              "5336.0            Basic    8\n",
              "6933.0            Basic    4\n",
              "4792.0            Basic    7\n",
              "6761.0            Basic    7\n",
              "\n",
              "[4304 rows x 2 columns]"
            ]
          },
          "metadata": {
            "tags": []
          },
          "execution_count": 71
        }
      ]
    },
    {
      "cell_type": "code",
      "metadata": {
        "colab": {
          "base_uri": "https://localhost:8080/",
          "height": 294
        },
        "id": "fyw_RWanTHeO",
        "outputId": "33afe09d-8f87-45eb-8704-d1f48e5d82bf"
      },
      "source": [
        "Basic_describe = Basic.describe()\n",
        "Basic_describe"
      ],
      "execution_count": null,
      "outputs": [
        {
          "output_type": "execute_result",
          "data": {
            "text/html": [
              "<div>\n",
              "<style scoped>\n",
              "    .dataframe tbody tr th:only-of-type {\n",
              "        vertical-align: middle;\n",
              "    }\n",
              "\n",
              "    .dataframe tbody tr th {\n",
              "        vertical-align: top;\n",
              "    }\n",
              "\n",
              "    .dataframe thead th {\n",
              "        text-align: right;\n",
              "    }\n",
              "</style>\n",
              "<table border=\"1\" class=\"dataframe\">\n",
              "  <thead>\n",
              "    <tr style=\"text-align: right;\">\n",
              "      <th></th>\n",
              "      <th>NPS</th>\n",
              "    </tr>\n",
              "  </thead>\n",
              "  <tbody>\n",
              "    <tr>\n",
              "      <th>count</th>\n",
              "      <td>4304.000000</td>\n",
              "    </tr>\n",
              "    <tr>\n",
              "      <th>mean</th>\n",
              "      <td>6.856645</td>\n",
              "    </tr>\n",
              "    <tr>\n",
              "      <th>std</th>\n",
              "      <td>2.315592</td>\n",
              "    </tr>\n",
              "    <tr>\n",
              "      <th>min</th>\n",
              "      <td>1.000000</td>\n",
              "    </tr>\n",
              "    <tr>\n",
              "      <th>25%</th>\n",
              "      <td>5.000000</td>\n",
              "    </tr>\n",
              "    <tr>\n",
              "      <th>50%</th>\n",
              "      <td>7.000000</td>\n",
              "    </tr>\n",
              "    <tr>\n",
              "      <th>75%</th>\n",
              "      <td>9.000000</td>\n",
              "    </tr>\n",
              "    <tr>\n",
              "      <th>max</th>\n",
              "      <td>10.000000</td>\n",
              "    </tr>\n",
              "  </tbody>\n",
              "</table>\n",
              "</div>"
            ],
            "text/plain": [
              "               NPS\n",
              "count  4304.000000\n",
              "mean      6.856645\n",
              "std       2.315592\n",
              "min       1.000000\n",
              "25%       5.000000\n",
              "50%       7.000000\n",
              "75%       9.000000\n",
              "max      10.000000"
            ]
          },
          "metadata": {
            "tags": []
          },
          "execution_count": 72
        }
      ]
    },
    {
      "cell_type": "code",
      "metadata": {
        "colab": {
          "base_uri": "https://localhost:8080/",
          "height": 446
        },
        "id": "S-0B9livEu0S",
        "outputId": "5593f54a-2688-4e20-f0e8-9a1ef488c2cc"
      },
      "source": [
        "#filtrando apenas NPS 1-6\n",
        "Basic_Red = Basic.query('6>= NPS >=1')\n",
        "Basic_Red"
      ],
      "execution_count": null,
      "outputs": [
        {
          "output_type": "execute_result",
          "data": {
            "text/html": [
              "<div>\n",
              "<style scoped>\n",
              "    .dataframe tbody tr th:only-of-type {\n",
              "        vertical-align: middle;\n",
              "    }\n",
              "\n",
              "    .dataframe tbody tr th {\n",
              "        vertical-align: top;\n",
              "    }\n",
              "\n",
              "    .dataframe thead th {\n",
              "        text-align: right;\n",
              "    }\n",
              "</style>\n",
              "<table border=\"1\" class=\"dataframe\">\n",
              "  <thead>\n",
              "    <tr style=\"text-align: right;\">\n",
              "      <th></th>\n",
              "      <th>Plano fechado</th>\n",
              "      <th>NPS</th>\n",
              "    </tr>\n",
              "    <tr>\n",
              "      <th>ID_Pedido</th>\n",
              "      <th></th>\n",
              "      <th></th>\n",
              "    </tr>\n",
              "  </thead>\n",
              "  <tbody>\n",
              "    <tr>\n",
              "      <th>3040.0</th>\n",
              "      <td>Basic</td>\n",
              "      <td>5</td>\n",
              "    </tr>\n",
              "    <tr>\n",
              "      <th>1788.0</th>\n",
              "      <td>Basic</td>\n",
              "      <td>5</td>\n",
              "    </tr>\n",
              "    <tr>\n",
              "      <th>7408.0</th>\n",
              "      <td>Basic</td>\n",
              "      <td>5</td>\n",
              "    </tr>\n",
              "    <tr>\n",
              "      <th>4095.0</th>\n",
              "      <td>Basic</td>\n",
              "      <td>6</td>\n",
              "    </tr>\n",
              "    <tr>\n",
              "      <th>3170.0</th>\n",
              "      <td>Basic</td>\n",
              "      <td>5</td>\n",
              "    </tr>\n",
              "    <tr>\n",
              "      <th>...</th>\n",
              "      <td>...</td>\n",
              "      <td>...</td>\n",
              "    </tr>\n",
              "    <tr>\n",
              "      <th>3042.0</th>\n",
              "      <td>Basic</td>\n",
              "      <td>4</td>\n",
              "    </tr>\n",
              "    <tr>\n",
              "      <th>2592.0</th>\n",
              "      <td>Basic</td>\n",
              "      <td>4</td>\n",
              "    </tr>\n",
              "    <tr>\n",
              "      <th>3854.0</th>\n",
              "      <td>Basic</td>\n",
              "      <td>6</td>\n",
              "    </tr>\n",
              "    <tr>\n",
              "      <th>4150.0</th>\n",
              "      <td>Basic</td>\n",
              "      <td>5</td>\n",
              "    </tr>\n",
              "    <tr>\n",
              "      <th>6933.0</th>\n",
              "      <td>Basic</td>\n",
              "      <td>4</td>\n",
              "    </tr>\n",
              "  </tbody>\n",
              "</table>\n",
              "<p>1804 rows × 2 columns</p>\n",
              "</div>"
            ],
            "text/plain": [
              "          Plano fechado  NPS\n",
              "ID_Pedido                   \n",
              "3040.0            Basic    5\n",
              "1788.0            Basic    5\n",
              "7408.0            Basic    5\n",
              "4095.0            Basic    6\n",
              "3170.0            Basic    5\n",
              "...                 ...  ...\n",
              "3042.0            Basic    4\n",
              "2592.0            Basic    4\n",
              "3854.0            Basic    6\n",
              "4150.0            Basic    5\n",
              "6933.0            Basic    4\n",
              "\n",
              "[1804 rows x 2 columns]"
            ]
          },
          "metadata": {
            "tags": []
          },
          "execution_count": 84
        }
      ]
    },
    {
      "cell_type": "code",
      "metadata": {
        "colab": {
          "base_uri": "https://localhost:8080/"
        },
        "id": "VjMPFrPCFbvQ",
        "outputId": "19d7a326-d767-4f30-e91c-12da976fb735"
      },
      "source": [
        "print(Basic_Red.value_counts(),'\\n',len(Basic_Red))"
      ],
      "execution_count": null,
      "outputs": [
        {
          "output_type": "stream",
          "text": [
            "Plano fechado  NPS\n",
            "Basic          5      589\n",
            "               6      584\n",
            "               4      280\n",
            "               2      119\n",
            "               3      117\n",
            "               1      115\n",
            "dtype: int64 \n",
            " 1804\n"
          ],
          "name": "stdout"
        }
      ]
    },
    {
      "cell_type": "code",
      "metadata": {
        "colab": {
          "base_uri": "https://localhost:8080/"
        },
        "id": "ZPax-dP0829K",
        "outputId": "86a5981e-38a6-4483-cac7-8f60ee8f3a98"
      },
      "source": [
        "#porcentagem de valores Basic com NPS entre 1-6\n",
        "Basic_Red_porc = len(Basic_Red)/len(Basic)\n",
        "Basic_Red_porc"
      ],
      "execution_count": null,
      "outputs": [
        {
          "output_type": "execute_result",
          "data": {
            "text/plain": [
              "0.4191449814126394"
            ]
          },
          "metadata": {
            "tags": []
          },
          "execution_count": 105
        }
      ]
    },
    {
      "cell_type": "code",
      "metadata": {
        "colab": {
          "base_uri": "https://localhost:8080/",
          "height": 446
        },
        "id": "vPZ4Ko0bHQNB",
        "outputId": "142f733c-8988-4b25-9a93-c7ed6a02b0d2"
      },
      "source": [
        "#filtrando NPS 7-8\n",
        "Basic_Yellow = Basic.query('8>= NPS >=7')\n",
        "Basic_Yellow "
      ],
      "execution_count": null,
      "outputs": [
        {
          "output_type": "execute_result",
          "data": {
            "text/html": [
              "<div>\n",
              "<style scoped>\n",
              "    .dataframe tbody tr th:only-of-type {\n",
              "        vertical-align: middle;\n",
              "    }\n",
              "\n",
              "    .dataframe tbody tr th {\n",
              "        vertical-align: top;\n",
              "    }\n",
              "\n",
              "    .dataframe thead th {\n",
              "        text-align: right;\n",
              "    }\n",
              "</style>\n",
              "<table border=\"1\" class=\"dataframe\">\n",
              "  <thead>\n",
              "    <tr style=\"text-align: right;\">\n",
              "      <th></th>\n",
              "      <th>Plano fechado</th>\n",
              "      <th>NPS</th>\n",
              "    </tr>\n",
              "    <tr>\n",
              "      <th>ID_Pedido</th>\n",
              "      <th></th>\n",
              "      <th></th>\n",
              "    </tr>\n",
              "  </thead>\n",
              "  <tbody>\n",
              "    <tr>\n",
              "      <th>3880.0</th>\n",
              "      <td>Basic</td>\n",
              "      <td>7</td>\n",
              "    </tr>\n",
              "    <tr>\n",
              "      <th>5107.0</th>\n",
              "      <td>Basic</td>\n",
              "      <td>7</td>\n",
              "    </tr>\n",
              "    <tr>\n",
              "      <th>3408.0</th>\n",
              "      <td>Basic</td>\n",
              "      <td>8</td>\n",
              "    </tr>\n",
              "    <tr>\n",
              "      <th>1504.0</th>\n",
              "      <td>Basic</td>\n",
              "      <td>8</td>\n",
              "    </tr>\n",
              "    <tr>\n",
              "      <th>2781.0</th>\n",
              "      <td>Basic</td>\n",
              "      <td>8</td>\n",
              "    </tr>\n",
              "    <tr>\n",
              "      <th>...</th>\n",
              "      <td>...</td>\n",
              "      <td>...</td>\n",
              "    </tr>\n",
              "    <tr>\n",
              "      <th>4955.0</th>\n",
              "      <td>Basic</td>\n",
              "      <td>8</td>\n",
              "    </tr>\n",
              "    <tr>\n",
              "      <th>1904.0</th>\n",
              "      <td>Basic</td>\n",
              "      <td>8</td>\n",
              "    </tr>\n",
              "    <tr>\n",
              "      <th>5336.0</th>\n",
              "      <td>Basic</td>\n",
              "      <td>8</td>\n",
              "    </tr>\n",
              "    <tr>\n",
              "      <th>4792.0</th>\n",
              "      <td>Basic</td>\n",
              "      <td>7</td>\n",
              "    </tr>\n",
              "    <tr>\n",
              "      <th>6761.0</th>\n",
              "      <td>Basic</td>\n",
              "      <td>7</td>\n",
              "    </tr>\n",
              "  </tbody>\n",
              "</table>\n",
              "<p>1244 rows × 2 columns</p>\n",
              "</div>"
            ],
            "text/plain": [
              "          Plano fechado  NPS\n",
              "ID_Pedido                   \n",
              "3880.0            Basic    7\n",
              "5107.0            Basic    7\n",
              "3408.0            Basic    8\n",
              "1504.0            Basic    8\n",
              "2781.0            Basic    8\n",
              "...                 ...  ...\n",
              "4955.0            Basic    8\n",
              "1904.0            Basic    8\n",
              "5336.0            Basic    8\n",
              "4792.0            Basic    7\n",
              "6761.0            Basic    7\n",
              "\n",
              "[1244 rows x 2 columns]"
            ]
          },
          "metadata": {
            "tags": []
          },
          "execution_count": 98
        }
      ]
    },
    {
      "cell_type": "code",
      "metadata": {
        "colab": {
          "base_uri": "https://localhost:8080/"
        },
        "id": "hxB0p9CQHhwj",
        "outputId": "3f5536a7-d3fe-4234-f636-d539fa3877ee"
      },
      "source": [
        "print(Basic_Yellow.value_counts(),'\\n',len(Basic_Yellow))"
      ],
      "execution_count": null,
      "outputs": [
        {
          "output_type": "stream",
          "text": [
            "Plano fechado  NPS\n",
            "Basic          7      634\n",
            "               8      610\n",
            "dtype: int64 \n",
            " 1244\n"
          ],
          "name": "stdout"
        }
      ]
    },
    {
      "cell_type": "code",
      "metadata": {
        "colab": {
          "base_uri": "https://localhost:8080/"
        },
        "id": "pcUCv_PgHmQQ",
        "outputId": "4e3357f5-0d81-4957-b132-6d24a94a50a5"
      },
      "source": [
        "#porcentagem de valores Basic com NPS entre 7-8\n",
        "Basic_Yellow_porc = len(Basic_Yellow)/len(Basic)\n",
        "Basic_Yellow_porc"
      ],
      "execution_count": null,
      "outputs": [
        {
          "output_type": "execute_result",
          "data": {
            "text/plain": [
              "0.28903345724907065"
            ]
          },
          "metadata": {
            "tags": []
          },
          "execution_count": 106
        }
      ]
    },
    {
      "cell_type": "code",
      "metadata": {
        "colab": {
          "base_uri": "https://localhost:8080/",
          "height": 446
        },
        "id": "xEnMsyZKH0xb",
        "outputId": "14f6e457-59d9-4b30-920b-520afb31603f"
      },
      "source": [
        "#filtrando NPS 9-10\n",
        "Basic_Green = Basic.query('10>= NPS >=9')\n",
        "Basic_Green"
      ],
      "execution_count": null,
      "outputs": [
        {
          "output_type": "execute_result",
          "data": {
            "text/html": [
              "<div>\n",
              "<style scoped>\n",
              "    .dataframe tbody tr th:only-of-type {\n",
              "        vertical-align: middle;\n",
              "    }\n",
              "\n",
              "    .dataframe tbody tr th {\n",
              "        vertical-align: top;\n",
              "    }\n",
              "\n",
              "    .dataframe thead th {\n",
              "        text-align: right;\n",
              "    }\n",
              "</style>\n",
              "<table border=\"1\" class=\"dataframe\">\n",
              "  <thead>\n",
              "    <tr style=\"text-align: right;\">\n",
              "      <th></th>\n",
              "      <th>Plano fechado</th>\n",
              "      <th>NPS</th>\n",
              "    </tr>\n",
              "    <tr>\n",
              "      <th>ID_Pedido</th>\n",
              "      <th></th>\n",
              "      <th></th>\n",
              "    </tr>\n",
              "  </thead>\n",
              "  <tbody>\n",
              "    <tr>\n",
              "      <th>7639.0</th>\n",
              "      <td>Basic</td>\n",
              "      <td>10</td>\n",
              "    </tr>\n",
              "    <tr>\n",
              "      <th>1697.0</th>\n",
              "      <td>Basic</td>\n",
              "      <td>9</td>\n",
              "    </tr>\n",
              "    <tr>\n",
              "      <th>4925.0</th>\n",
              "      <td>Basic</td>\n",
              "      <td>9</td>\n",
              "    </tr>\n",
              "    <tr>\n",
              "      <th>1892.0</th>\n",
              "      <td>Basic</td>\n",
              "      <td>9</td>\n",
              "    </tr>\n",
              "    <tr>\n",
              "      <th>2990.0</th>\n",
              "      <td>Basic</td>\n",
              "      <td>9</td>\n",
              "    </tr>\n",
              "    <tr>\n",
              "      <th>...</th>\n",
              "      <td>...</td>\n",
              "      <td>...</td>\n",
              "    </tr>\n",
              "    <tr>\n",
              "      <th>1513.0</th>\n",
              "      <td>Basic</td>\n",
              "      <td>9</td>\n",
              "    </tr>\n",
              "    <tr>\n",
              "      <th>7621.0</th>\n",
              "      <td>Basic</td>\n",
              "      <td>9</td>\n",
              "    </tr>\n",
              "    <tr>\n",
              "      <th>3395.0</th>\n",
              "      <td>Basic</td>\n",
              "      <td>9</td>\n",
              "    </tr>\n",
              "    <tr>\n",
              "      <th>7930.0</th>\n",
              "      <td>Basic</td>\n",
              "      <td>9</td>\n",
              "    </tr>\n",
              "    <tr>\n",
              "      <th>2558.0</th>\n",
              "      <td>Basic</td>\n",
              "      <td>9</td>\n",
              "    </tr>\n",
              "  </tbody>\n",
              "</table>\n",
              "<p>1256 rows × 2 columns</p>\n",
              "</div>"
            ],
            "text/plain": [
              "          Plano fechado  NPS\n",
              "ID_Pedido                   \n",
              "7639.0            Basic   10\n",
              "1697.0            Basic    9\n",
              "4925.0            Basic    9\n",
              "1892.0            Basic    9\n",
              "2990.0            Basic    9\n",
              "...                 ...  ...\n",
              "1513.0            Basic    9\n",
              "7621.0            Basic    9\n",
              "3395.0            Basic    9\n",
              "7930.0            Basic    9\n",
              "2558.0            Basic    9\n",
              "\n",
              "[1256 rows x 2 columns]"
            ]
          },
          "metadata": {
            "tags": []
          },
          "execution_count": 102
        }
      ]
    },
    {
      "cell_type": "code",
      "metadata": {
        "colab": {
          "base_uri": "https://localhost:8080/"
        },
        "id": "O5a_y1YTIA1m",
        "outputId": "bbfdd013-11a7-48bb-8ff1-eabcd035bf57"
      },
      "source": [
        "print(Basic_Green.value_counts(),'\\n',len(Basic_Green))"
      ],
      "execution_count": null,
      "outputs": [
        {
          "output_type": "stream",
          "text": [
            "Plano fechado  NPS\n",
            "Basic          9      640\n",
            "               10     616\n",
            "dtype: int64 \n",
            " 1256\n"
          ],
          "name": "stdout"
        }
      ]
    },
    {
      "cell_type": "code",
      "metadata": {
        "colab": {
          "base_uri": "https://localhost:8080/"
        },
        "id": "dW7QeGD3IEjf",
        "outputId": "3f68e2e0-0cec-4b64-fda1-51bc07b900dd"
      },
      "source": [
        "#porcentagem de valores Basic com NPS entre 9-10\n",
        "Basic_Green_porc = len(Basic_Green)/len(Basic)\n",
        "Basic_Green_porc"
      ],
      "execution_count": null,
      "outputs": [
        {
          "output_type": "execute_result",
          "data": {
            "text/plain": [
              "0.29182156133828996"
            ]
          },
          "metadata": {
            "tags": []
          },
          "execution_count": 107
        }
      ]
    },
    {
      "cell_type": "markdown",
      "metadata": {
        "id": "pbEhslJqFjqx"
      },
      "source": [
        "#1.2 Enterprise"
      ]
    },
    {
      "cell_type": "code",
      "metadata": {
        "colab": {
          "base_uri": "https://localhost:8080/",
          "height": 446
        },
        "id": "9WA1vitSS3p4",
        "outputId": "dd9dd2b9-2c75-4fcf-d1c8-20f0eaff7b58"
      },
      "source": [
        "#Filtrando apenas os planos Enterprise\n",
        "Enterprise = df_2[df_2['Plano fechado']==\"Enteprise\"]\n",
        "Enterprise"
      ],
      "execution_count": null,
      "outputs": [
        {
          "output_type": "execute_result",
          "data": {
            "text/html": [
              "<div>\n",
              "<style scoped>\n",
              "    .dataframe tbody tr th:only-of-type {\n",
              "        vertical-align: middle;\n",
              "    }\n",
              "\n",
              "    .dataframe tbody tr th {\n",
              "        vertical-align: top;\n",
              "    }\n",
              "\n",
              "    .dataframe thead th {\n",
              "        text-align: right;\n",
              "    }\n",
              "</style>\n",
              "<table border=\"1\" class=\"dataframe\">\n",
              "  <thead>\n",
              "    <tr style=\"text-align: right;\">\n",
              "      <th></th>\n",
              "      <th>Plano fechado</th>\n",
              "      <th>NPS</th>\n",
              "    </tr>\n",
              "    <tr>\n",
              "      <th>ID_Pedido</th>\n",
              "      <th></th>\n",
              "      <th></th>\n",
              "    </tr>\n",
              "  </thead>\n",
              "  <tbody>\n",
              "    <tr>\n",
              "      <th>6913.0</th>\n",
              "      <td>Enteprise</td>\n",
              "      <td>5</td>\n",
              "    </tr>\n",
              "    <tr>\n",
              "      <th>4408.0</th>\n",
              "      <td>Enteprise</td>\n",
              "      <td>10</td>\n",
              "    </tr>\n",
              "    <tr>\n",
              "      <th>5493.0</th>\n",
              "      <td>Enteprise</td>\n",
              "      <td>7</td>\n",
              "    </tr>\n",
              "    <tr>\n",
              "      <th>5162.0</th>\n",
              "      <td>Enteprise</td>\n",
              "      <td>7</td>\n",
              "    </tr>\n",
              "    <tr>\n",
              "      <th>1553.0</th>\n",
              "      <td>Enteprise</td>\n",
              "      <td>5</td>\n",
              "    </tr>\n",
              "    <tr>\n",
              "      <th>...</th>\n",
              "      <td>...</td>\n",
              "      <td>...</td>\n",
              "    </tr>\n",
              "    <tr>\n",
              "      <th>5201.0</th>\n",
              "      <td>Enteprise</td>\n",
              "      <td>8</td>\n",
              "    </tr>\n",
              "    <tr>\n",
              "      <th>2081.0</th>\n",
              "      <td>Enteprise</td>\n",
              "      <td>10</td>\n",
              "    </tr>\n",
              "    <tr>\n",
              "      <th>5844.0</th>\n",
              "      <td>Enteprise</td>\n",
              "      <td>5</td>\n",
              "    </tr>\n",
              "    <tr>\n",
              "      <th>4087.0</th>\n",
              "      <td>Enteprise</td>\n",
              "      <td>7</td>\n",
              "    </tr>\n",
              "    <tr>\n",
              "      <th>5041.0</th>\n",
              "      <td>Enteprise</td>\n",
              "      <td>5</td>\n",
              "    </tr>\n",
              "  </tbody>\n",
              "</table>\n",
              "<p>2859 rows × 2 columns</p>\n",
              "</div>"
            ],
            "text/plain": [
              "          Plano fechado  NPS\n",
              "ID_Pedido                   \n",
              "6913.0        Enteprise    5\n",
              "4408.0        Enteprise   10\n",
              "5493.0        Enteprise    7\n",
              "5162.0        Enteprise    7\n",
              "1553.0        Enteprise    5\n",
              "...                 ...  ...\n",
              "5201.0        Enteprise    8\n",
              "2081.0        Enteprise   10\n",
              "5844.0        Enteprise    5\n",
              "4087.0        Enteprise    7\n",
              "5041.0        Enteprise    5\n",
              "\n",
              "[2859 rows x 2 columns]"
            ]
          },
          "metadata": {
            "tags": []
          },
          "execution_count": 19
        }
      ]
    },
    {
      "cell_type": "code",
      "metadata": {
        "colab": {
          "base_uri": "https://localhost:8080/",
          "height": 294
        },
        "id": "emjEnGyZTVKt",
        "outputId": "19c7154c-803e-4c62-dfd7-0ecda4fe110a"
      },
      "source": [
        "Enterprise_describe = Enterprise.describe()\n",
        "Enterprise_describe"
      ],
      "execution_count": null,
      "outputs": [
        {
          "output_type": "execute_result",
          "data": {
            "text/html": [
              "<div>\n",
              "<style scoped>\n",
              "    .dataframe tbody tr th:only-of-type {\n",
              "        vertical-align: middle;\n",
              "    }\n",
              "\n",
              "    .dataframe tbody tr th {\n",
              "        vertical-align: top;\n",
              "    }\n",
              "\n",
              "    .dataframe thead th {\n",
              "        text-align: right;\n",
              "    }\n",
              "</style>\n",
              "<table border=\"1\" class=\"dataframe\">\n",
              "  <thead>\n",
              "    <tr style=\"text-align: right;\">\n",
              "      <th></th>\n",
              "      <th>NPS</th>\n",
              "    </tr>\n",
              "  </thead>\n",
              "  <tbody>\n",
              "    <tr>\n",
              "      <th>count</th>\n",
              "      <td>2859.000000</td>\n",
              "    </tr>\n",
              "    <tr>\n",
              "      <th>mean</th>\n",
              "      <td>6.883526</td>\n",
              "    </tr>\n",
              "    <tr>\n",
              "      <th>std</th>\n",
              "      <td>2.300258</td>\n",
              "    </tr>\n",
              "    <tr>\n",
              "      <th>min</th>\n",
              "      <td>1.000000</td>\n",
              "    </tr>\n",
              "    <tr>\n",
              "      <th>25%</th>\n",
              "      <td>5.000000</td>\n",
              "    </tr>\n",
              "    <tr>\n",
              "      <th>50%</th>\n",
              "      <td>7.000000</td>\n",
              "    </tr>\n",
              "    <tr>\n",
              "      <th>75%</th>\n",
              "      <td>9.000000</td>\n",
              "    </tr>\n",
              "    <tr>\n",
              "      <th>max</th>\n",
              "      <td>10.000000</td>\n",
              "    </tr>\n",
              "  </tbody>\n",
              "</table>\n",
              "</div>"
            ],
            "text/plain": [
              "               NPS\n",
              "count  2859.000000\n",
              "mean      6.883526\n",
              "std       2.300258\n",
              "min       1.000000\n",
              "25%       5.000000\n",
              "50%       7.000000\n",
              "75%       9.000000\n",
              "max      10.000000"
            ]
          },
          "metadata": {
            "tags": []
          },
          "execution_count": 20
        }
      ]
    },
    {
      "cell_type": "code",
      "metadata": {
        "colab": {
          "base_uri": "https://localhost:8080/",
          "height": 446
        },
        "id": "OOLtDHlyI4G8",
        "outputId": "2ab11cd8-5ca6-4d70-e0d1-231bdfa427ce"
      },
      "source": [
        "#filtrando apenas NPS 1-6\n",
        "Enterprise_Red = Enterprise.query('6>= NPS >=1')\n",
        "Enterprise_Red"
      ],
      "execution_count": null,
      "outputs": [
        {
          "output_type": "execute_result",
          "data": {
            "text/html": [
              "<div>\n",
              "<style scoped>\n",
              "    .dataframe tbody tr th:only-of-type {\n",
              "        vertical-align: middle;\n",
              "    }\n",
              "\n",
              "    .dataframe tbody tr th {\n",
              "        vertical-align: top;\n",
              "    }\n",
              "\n",
              "    .dataframe thead th {\n",
              "        text-align: right;\n",
              "    }\n",
              "</style>\n",
              "<table border=\"1\" class=\"dataframe\">\n",
              "  <thead>\n",
              "    <tr style=\"text-align: right;\">\n",
              "      <th></th>\n",
              "      <th>Plano fechado</th>\n",
              "      <th>NPS</th>\n",
              "    </tr>\n",
              "    <tr>\n",
              "      <th>ID_Pedido</th>\n",
              "      <th></th>\n",
              "      <th></th>\n",
              "    </tr>\n",
              "  </thead>\n",
              "  <tbody>\n",
              "    <tr>\n",
              "      <th>6913.0</th>\n",
              "      <td>Enteprise</td>\n",
              "      <td>5</td>\n",
              "    </tr>\n",
              "    <tr>\n",
              "      <th>1553.0</th>\n",
              "      <td>Enteprise</td>\n",
              "      <td>5</td>\n",
              "    </tr>\n",
              "    <tr>\n",
              "      <th>2575.0</th>\n",
              "      <td>Enteprise</td>\n",
              "      <td>5</td>\n",
              "    </tr>\n",
              "    <tr>\n",
              "      <th>3216.0</th>\n",
              "      <td>Enteprise</td>\n",
              "      <td>6</td>\n",
              "    </tr>\n",
              "    <tr>\n",
              "      <th>2610.0</th>\n",
              "      <td>Enteprise</td>\n",
              "      <td>5</td>\n",
              "    </tr>\n",
              "    <tr>\n",
              "      <th>...</th>\n",
              "      <td>...</td>\n",
              "      <td>...</td>\n",
              "    </tr>\n",
              "    <tr>\n",
              "      <th>4995.0</th>\n",
              "      <td>Enteprise</td>\n",
              "      <td>5</td>\n",
              "    </tr>\n",
              "    <tr>\n",
              "      <th>2247.0</th>\n",
              "      <td>Enteprise</td>\n",
              "      <td>6</td>\n",
              "    </tr>\n",
              "    <tr>\n",
              "      <th>7645.0</th>\n",
              "      <td>Enteprise</td>\n",
              "      <td>5</td>\n",
              "    </tr>\n",
              "    <tr>\n",
              "      <th>5844.0</th>\n",
              "      <td>Enteprise</td>\n",
              "      <td>5</td>\n",
              "    </tr>\n",
              "    <tr>\n",
              "      <th>5041.0</th>\n",
              "      <td>Enteprise</td>\n",
              "      <td>5</td>\n",
              "    </tr>\n",
              "  </tbody>\n",
              "</table>\n",
              "<p>1166 rows × 2 columns</p>\n",
              "</div>"
            ],
            "text/plain": [
              "          Plano fechado  NPS\n",
              "ID_Pedido                   \n",
              "6913.0        Enteprise    5\n",
              "1553.0        Enteprise    5\n",
              "2575.0        Enteprise    5\n",
              "3216.0        Enteprise    6\n",
              "2610.0        Enteprise    5\n",
              "...                 ...  ...\n",
              "4995.0        Enteprise    5\n",
              "2247.0        Enteprise    6\n",
              "7645.0        Enteprise    5\n",
              "5844.0        Enteprise    5\n",
              "5041.0        Enteprise    5\n",
              "\n",
              "[1166 rows x 2 columns]"
            ]
          },
          "metadata": {
            "tags": []
          },
          "execution_count": 109
        }
      ]
    },
    {
      "cell_type": "code",
      "metadata": {
        "colab": {
          "base_uri": "https://localhost:8080/"
        },
        "id": "5co7115zJFLf",
        "outputId": "8a726d8c-f69e-4c26-9979-b99d1e6c8139"
      },
      "source": [
        "print(Enterprise_Red.value_counts(),'\\n',len(Enterprise_Red))"
      ],
      "execution_count": null,
      "outputs": [
        {
          "output_type": "stream",
          "text": [
            "Plano fechado  NPS\n",
            "Enteprise      5      415\n",
            "               6      366\n",
            "               4      143\n",
            "               2       93\n",
            "               3       77\n",
            "               1       72\n",
            "dtype: int64 \n",
            " 1166\n"
          ],
          "name": "stdout"
        }
      ]
    },
    {
      "cell_type": "code",
      "metadata": {
        "colab": {
          "base_uri": "https://localhost:8080/"
        },
        "id": "zvQmEVPuJJaK",
        "outputId": "3c9670c3-48da-422c-8eef-7d6cf27412c2"
      },
      "source": [
        "#porcentagem de valores Enterprise com NPS entre 1-6\n",
        "Enterprise_Red_porc = len(Enterprise_Red)/len(Enterprise)\n",
        "Enterprise_Red_porc"
      ],
      "execution_count": null,
      "outputs": [
        {
          "output_type": "execute_result",
          "data": {
            "text/plain": [
              "0.40783490731024835"
            ]
          },
          "metadata": {
            "tags": []
          },
          "execution_count": 111
        }
      ]
    },
    {
      "cell_type": "code",
      "metadata": {
        "colab": {
          "base_uri": "https://localhost:8080/",
          "height": 446
        },
        "id": "D09aei24JdC1",
        "outputId": "4af61d8d-26f9-4fc0-c5a1-f63ba3f0d98c"
      },
      "source": [
        "#filtrando apenas NPS 7-8\n",
        "Enterprise_Yellow = Enterprise.query('8>= NPS >=7')\n",
        "Enterprise_Yellow"
      ],
      "execution_count": null,
      "outputs": [
        {
          "output_type": "execute_result",
          "data": {
            "text/html": [
              "<div>\n",
              "<style scoped>\n",
              "    .dataframe tbody tr th:only-of-type {\n",
              "        vertical-align: middle;\n",
              "    }\n",
              "\n",
              "    .dataframe tbody tr th {\n",
              "        vertical-align: top;\n",
              "    }\n",
              "\n",
              "    .dataframe thead th {\n",
              "        text-align: right;\n",
              "    }\n",
              "</style>\n",
              "<table border=\"1\" class=\"dataframe\">\n",
              "  <thead>\n",
              "    <tr style=\"text-align: right;\">\n",
              "      <th></th>\n",
              "      <th>Plano fechado</th>\n",
              "      <th>NPS</th>\n",
              "    </tr>\n",
              "    <tr>\n",
              "      <th>ID_Pedido</th>\n",
              "      <th></th>\n",
              "      <th></th>\n",
              "    </tr>\n",
              "  </thead>\n",
              "  <tbody>\n",
              "    <tr>\n",
              "      <th>5493.0</th>\n",
              "      <td>Enteprise</td>\n",
              "      <td>7</td>\n",
              "    </tr>\n",
              "    <tr>\n",
              "      <th>5162.0</th>\n",
              "      <td>Enteprise</td>\n",
              "      <td>7</td>\n",
              "    </tr>\n",
              "    <tr>\n",
              "      <th>1074.0</th>\n",
              "      <td>Enteprise</td>\n",
              "      <td>8</td>\n",
              "    </tr>\n",
              "    <tr>\n",
              "      <th>3492.0</th>\n",
              "      <td>Enteprise</td>\n",
              "      <td>8</td>\n",
              "    </tr>\n",
              "    <tr>\n",
              "      <th>7706.0</th>\n",
              "      <td>Enteprise</td>\n",
              "      <td>8</td>\n",
              "    </tr>\n",
              "    <tr>\n",
              "      <th>...</th>\n",
              "      <td>...</td>\n",
              "      <td>...</td>\n",
              "    </tr>\n",
              "    <tr>\n",
              "      <th>5505.0</th>\n",
              "      <td>Enteprise</td>\n",
              "      <td>7</td>\n",
              "    </tr>\n",
              "    <tr>\n",
              "      <th>4570.0</th>\n",
              "      <td>Enteprise</td>\n",
              "      <td>8</td>\n",
              "    </tr>\n",
              "    <tr>\n",
              "      <th>7501.0</th>\n",
              "      <td>Enteprise</td>\n",
              "      <td>7</td>\n",
              "    </tr>\n",
              "    <tr>\n",
              "      <th>5201.0</th>\n",
              "      <td>Enteprise</td>\n",
              "      <td>8</td>\n",
              "    </tr>\n",
              "    <tr>\n",
              "      <th>4087.0</th>\n",
              "      <td>Enteprise</td>\n",
              "      <td>7</td>\n",
              "    </tr>\n",
              "  </tbody>\n",
              "</table>\n",
              "<p>872 rows × 2 columns</p>\n",
              "</div>"
            ],
            "text/plain": [
              "          Plano fechado  NPS\n",
              "ID_Pedido                   \n",
              "5493.0        Enteprise    7\n",
              "5162.0        Enteprise    7\n",
              "1074.0        Enteprise    8\n",
              "3492.0        Enteprise    8\n",
              "7706.0        Enteprise    8\n",
              "...                 ...  ...\n",
              "5505.0        Enteprise    7\n",
              "4570.0        Enteprise    8\n",
              "7501.0        Enteprise    7\n",
              "5201.0        Enteprise    8\n",
              "4087.0        Enteprise    7\n",
              "\n",
              "[872 rows x 2 columns]"
            ]
          },
          "metadata": {
            "tags": []
          },
          "execution_count": 112
        }
      ]
    },
    {
      "cell_type": "code",
      "metadata": {
        "colab": {
          "base_uri": "https://localhost:8080/"
        },
        "id": "-D3UwVPRJmp3",
        "outputId": "f956d26b-c1a6-4bac-ae8c-aa9410a0137f"
      },
      "source": [
        "print(Enterprise_Yellow.value_counts(),'\\n',len(Enterprise_Yellow))"
      ],
      "execution_count": null,
      "outputs": [
        {
          "output_type": "stream",
          "text": [
            "Plano fechado  NPS\n",
            "Enteprise      8      465\n",
            "               7      407\n",
            "dtype: int64 \n",
            " 872\n"
          ],
          "name": "stdout"
        }
      ]
    },
    {
      "cell_type": "code",
      "metadata": {
        "colab": {
          "base_uri": "https://localhost:8080/"
        },
        "id": "9fipiHHjJtfu",
        "outputId": "1ad2c8de-801a-4526-b3a6-c6fb3c25e0da"
      },
      "source": [
        "#porcentagem de valores Enterprise com NPS entre 7-8\n",
        "Enterprise_Yellow_porc = len(Enterprise_Yellow)/len(Enterprise)\n",
        "Enterprise_Yellow_porc"
      ],
      "execution_count": null,
      "outputs": [
        {
          "output_type": "execute_result",
          "data": {
            "text/plain": [
              "0.3050017488632389"
            ]
          },
          "metadata": {
            "tags": []
          },
          "execution_count": 114
        }
      ]
    },
    {
      "cell_type": "code",
      "metadata": {
        "colab": {
          "base_uri": "https://localhost:8080/",
          "height": 446
        },
        "id": "_qZ1jTezJ0lh",
        "outputId": "5d2f2206-08df-4e8c-cfea-e47c11198cef"
      },
      "source": [
        "#filtrando apenas NPS 9-10\n",
        "Enterprise_Green = Enterprise.query('10>= NPS >=9')\n",
        "Enterprise_Green"
      ],
      "execution_count": null,
      "outputs": [
        {
          "output_type": "execute_result",
          "data": {
            "text/html": [
              "<div>\n",
              "<style scoped>\n",
              "    .dataframe tbody tr th:only-of-type {\n",
              "        vertical-align: middle;\n",
              "    }\n",
              "\n",
              "    .dataframe tbody tr th {\n",
              "        vertical-align: top;\n",
              "    }\n",
              "\n",
              "    .dataframe thead th {\n",
              "        text-align: right;\n",
              "    }\n",
              "</style>\n",
              "<table border=\"1\" class=\"dataframe\">\n",
              "  <thead>\n",
              "    <tr style=\"text-align: right;\">\n",
              "      <th></th>\n",
              "      <th>Plano fechado</th>\n",
              "      <th>NPS</th>\n",
              "    </tr>\n",
              "    <tr>\n",
              "      <th>ID_Pedido</th>\n",
              "      <th></th>\n",
              "      <th></th>\n",
              "    </tr>\n",
              "  </thead>\n",
              "  <tbody>\n",
              "    <tr>\n",
              "      <th>4408.0</th>\n",
              "      <td>Enteprise</td>\n",
              "      <td>10</td>\n",
              "    </tr>\n",
              "    <tr>\n",
              "      <th>4798.0</th>\n",
              "      <td>Enteprise</td>\n",
              "      <td>9</td>\n",
              "    </tr>\n",
              "    <tr>\n",
              "      <th>5641.0</th>\n",
              "      <td>Enteprise</td>\n",
              "      <td>10</td>\n",
              "    </tr>\n",
              "    <tr>\n",
              "      <th>3508.0</th>\n",
              "      <td>Enteprise</td>\n",
              "      <td>10</td>\n",
              "    </tr>\n",
              "    <tr>\n",
              "      <th>7592.0</th>\n",
              "      <td>Enteprise</td>\n",
              "      <td>10</td>\n",
              "    </tr>\n",
              "    <tr>\n",
              "      <th>...</th>\n",
              "      <td>...</td>\n",
              "      <td>...</td>\n",
              "    </tr>\n",
              "    <tr>\n",
              "      <th>2382.0</th>\n",
              "      <td>Enteprise</td>\n",
              "      <td>9</td>\n",
              "    </tr>\n",
              "    <tr>\n",
              "      <th>3083.0</th>\n",
              "      <td>Enteprise</td>\n",
              "      <td>10</td>\n",
              "    </tr>\n",
              "    <tr>\n",
              "      <th>1238.0</th>\n",
              "      <td>Enteprise</td>\n",
              "      <td>10</td>\n",
              "    </tr>\n",
              "    <tr>\n",
              "      <th>5536.0</th>\n",
              "      <td>Enteprise</td>\n",
              "      <td>10</td>\n",
              "    </tr>\n",
              "    <tr>\n",
              "      <th>2081.0</th>\n",
              "      <td>Enteprise</td>\n",
              "      <td>10</td>\n",
              "    </tr>\n",
              "  </tbody>\n",
              "</table>\n",
              "<p>821 rows × 2 columns</p>\n",
              "</div>"
            ],
            "text/plain": [
              "          Plano fechado  NPS\n",
              "ID_Pedido                   \n",
              "4408.0        Enteprise   10\n",
              "4798.0        Enteprise    9\n",
              "5641.0        Enteprise   10\n",
              "3508.0        Enteprise   10\n",
              "7592.0        Enteprise   10\n",
              "...                 ...  ...\n",
              "2382.0        Enteprise    9\n",
              "3083.0        Enteprise   10\n",
              "1238.0        Enteprise   10\n",
              "5536.0        Enteprise   10\n",
              "2081.0        Enteprise   10\n",
              "\n",
              "[821 rows x 2 columns]"
            ]
          },
          "metadata": {
            "tags": []
          },
          "execution_count": 115
        }
      ]
    },
    {
      "cell_type": "code",
      "metadata": {
        "colab": {
          "base_uri": "https://localhost:8080/"
        },
        "id": "ORnMQSTvJ9bh",
        "outputId": "f95271aa-b98a-4fb9-d37d-22dbb21ed0dd"
      },
      "source": [
        "print(Enterprise_Green.value_counts(),'\\n',len(Enterprise_Green))"
      ],
      "execution_count": null,
      "outputs": [
        {
          "output_type": "stream",
          "text": [
            "Plano fechado  NPS\n",
            "Enteprise      9      431\n",
            "               10     390\n",
            "dtype: int64 \n",
            " 821\n"
          ],
          "name": "stdout"
        }
      ]
    },
    {
      "cell_type": "code",
      "metadata": {
        "colab": {
          "base_uri": "https://localhost:8080/"
        },
        "id": "CSrVx-tFKDXL",
        "outputId": "9aada3d1-b98e-4fad-cfdc-d42fce0070e3"
      },
      "source": [
        "#porcentagem de valores Enterprise com NPS entre 9-10\n",
        "Enterprise_Green_porc = len(Enterprise_Green)/len(Enterprise)\n",
        "Enterprise_Green_porc"
      ],
      "execution_count": null,
      "outputs": [
        {
          "output_type": "execute_result",
          "data": {
            "text/plain": [
              "0.28716334382651276"
            ]
          },
          "metadata": {
            "tags": []
          },
          "execution_count": 117
        }
      ]
    },
    {
      "cell_type": "markdown",
      "metadata": {
        "id": "wCebeWe7KePC"
      },
      "source": [
        "#1.3 Premium"
      ]
    },
    {
      "cell_type": "code",
      "metadata": {
        "colab": {
          "base_uri": "https://localhost:8080/",
          "height": 446
        },
        "id": "csUs7W5YS-mW",
        "outputId": "a6f65cbd-2e64-48aa-d81f-edfb673e4c09"
      },
      "source": [
        "#filtrando apenas os planos Premium \n",
        "Premium = df_2[df_2['Plano fechado']==\"Premium\"]\n",
        "Premium"
      ],
      "execution_count": null,
      "outputs": [
        {
          "output_type": "execute_result",
          "data": {
            "text/html": [
              "<div>\n",
              "<style scoped>\n",
              "    .dataframe tbody tr th:only-of-type {\n",
              "        vertical-align: middle;\n",
              "    }\n",
              "\n",
              "    .dataframe tbody tr th {\n",
              "        vertical-align: top;\n",
              "    }\n",
              "\n",
              "    .dataframe thead th {\n",
              "        text-align: right;\n",
              "    }\n",
              "</style>\n",
              "<table border=\"1\" class=\"dataframe\">\n",
              "  <thead>\n",
              "    <tr style=\"text-align: right;\">\n",
              "      <th></th>\n",
              "      <th>Plano fechado</th>\n",
              "      <th>NPS</th>\n",
              "    </tr>\n",
              "    <tr>\n",
              "      <th>ID_Pedido</th>\n",
              "      <th></th>\n",
              "      <th></th>\n",
              "    </tr>\n",
              "  </thead>\n",
              "  <tbody>\n",
              "    <tr>\n",
              "      <th>4332.0</th>\n",
              "      <td>Premium</td>\n",
              "      <td>7</td>\n",
              "    </tr>\n",
              "    <tr>\n",
              "      <th>7336.0</th>\n",
              "      <td>Premium</td>\n",
              "      <td>5</td>\n",
              "    </tr>\n",
              "    <tr>\n",
              "      <th>2077.0</th>\n",
              "      <td>Premium</td>\n",
              "      <td>6</td>\n",
              "    </tr>\n",
              "    <tr>\n",
              "      <th>5027.0</th>\n",
              "      <td>Premium</td>\n",
              "      <td>6</td>\n",
              "    </tr>\n",
              "    <tr>\n",
              "      <th>5276.0</th>\n",
              "      <td>Premium</td>\n",
              "      <td>10</td>\n",
              "    </tr>\n",
              "    <tr>\n",
              "      <th>...</th>\n",
              "      <td>...</td>\n",
              "      <td>...</td>\n",
              "    </tr>\n",
              "    <tr>\n",
              "      <th>3949.0</th>\n",
              "      <td>Premium</td>\n",
              "      <td>9</td>\n",
              "    </tr>\n",
              "    <tr>\n",
              "      <th>3099.0</th>\n",
              "      <td>Premium</td>\n",
              "      <td>8</td>\n",
              "    </tr>\n",
              "    <tr>\n",
              "      <th>1320.0</th>\n",
              "      <td>Premium</td>\n",
              "      <td>8</td>\n",
              "    </tr>\n",
              "    <tr>\n",
              "      <th>6144.0</th>\n",
              "      <td>Premium</td>\n",
              "      <td>5</td>\n",
              "    </tr>\n",
              "    <tr>\n",
              "      <th>5078.0</th>\n",
              "      <td>Premium</td>\n",
              "      <td>4</td>\n",
              "    </tr>\n",
              "  </tbody>\n",
              "</table>\n",
              "<p>2089 rows × 2 columns</p>\n",
              "</div>"
            ],
            "text/plain": [
              "          Plano fechado  NPS\n",
              "ID_Pedido                   \n",
              "4332.0          Premium    7\n",
              "7336.0          Premium    5\n",
              "2077.0          Premium    6\n",
              "5027.0          Premium    6\n",
              "5276.0          Premium   10\n",
              "...                 ...  ...\n",
              "3949.0          Premium    9\n",
              "3099.0          Premium    8\n",
              "1320.0          Premium    8\n",
              "6144.0          Premium    5\n",
              "5078.0          Premium    4\n",
              "\n",
              "[2089 rows x 2 columns]"
            ]
          },
          "metadata": {
            "tags": []
          },
          "execution_count": 21
        }
      ]
    },
    {
      "cell_type": "code",
      "metadata": {
        "colab": {
          "base_uri": "https://localhost:8080/",
          "height": 294
        },
        "id": "0xQHrRT3ThbG",
        "outputId": "ed6b530f-f454-45d4-bd50-3c81049f8432"
      },
      "source": [
        "Premium_describe = Premium.describe()\n",
        "Premium_describe"
      ],
      "execution_count": null,
      "outputs": [
        {
          "output_type": "execute_result",
          "data": {
            "text/html": [
              "<div>\n",
              "<style scoped>\n",
              "    .dataframe tbody tr th:only-of-type {\n",
              "        vertical-align: middle;\n",
              "    }\n",
              "\n",
              "    .dataframe tbody tr th {\n",
              "        vertical-align: top;\n",
              "    }\n",
              "\n",
              "    .dataframe thead th {\n",
              "        text-align: right;\n",
              "    }\n",
              "</style>\n",
              "<table border=\"1\" class=\"dataframe\">\n",
              "  <thead>\n",
              "    <tr style=\"text-align: right;\">\n",
              "      <th></th>\n",
              "      <th>NPS</th>\n",
              "    </tr>\n",
              "  </thead>\n",
              "  <tbody>\n",
              "    <tr>\n",
              "      <th>count</th>\n",
              "      <td>2089.000000</td>\n",
              "    </tr>\n",
              "    <tr>\n",
              "      <th>mean</th>\n",
              "      <td>6.773097</td>\n",
              "    </tr>\n",
              "    <tr>\n",
              "      <th>std</th>\n",
              "      <td>2.340757</td>\n",
              "    </tr>\n",
              "    <tr>\n",
              "      <th>min</th>\n",
              "      <td>1.000000</td>\n",
              "    </tr>\n",
              "    <tr>\n",
              "      <th>25%</th>\n",
              "      <td>5.000000</td>\n",
              "    </tr>\n",
              "    <tr>\n",
              "      <th>50%</th>\n",
              "      <td>7.000000</td>\n",
              "    </tr>\n",
              "    <tr>\n",
              "      <th>75%</th>\n",
              "      <td>9.000000</td>\n",
              "    </tr>\n",
              "    <tr>\n",
              "      <th>max</th>\n",
              "      <td>10.000000</td>\n",
              "    </tr>\n",
              "  </tbody>\n",
              "</table>\n",
              "</div>"
            ],
            "text/plain": [
              "               NPS\n",
              "count  2089.000000\n",
              "mean      6.773097\n",
              "std       2.340757\n",
              "min       1.000000\n",
              "25%       5.000000\n",
              "50%       7.000000\n",
              "75%       9.000000\n",
              "max      10.000000"
            ]
          },
          "metadata": {
            "tags": []
          },
          "execution_count": 45
        }
      ]
    },
    {
      "cell_type": "code",
      "metadata": {
        "colab": {
          "base_uri": "https://localhost:8080/",
          "height": 446
        },
        "id": "12twX3w2KbmV",
        "outputId": "262b3014-1578-493c-b198-99860da05183"
      },
      "source": [
        "#filtrando apenas NPS 1-6\n",
        "Premium_Red = Premium.query('6>= NPS >=1')\n",
        "Premium_Red"
      ],
      "execution_count": null,
      "outputs": [
        {
          "output_type": "execute_result",
          "data": {
            "text/html": [
              "<div>\n",
              "<style scoped>\n",
              "    .dataframe tbody tr th:only-of-type {\n",
              "        vertical-align: middle;\n",
              "    }\n",
              "\n",
              "    .dataframe tbody tr th {\n",
              "        vertical-align: top;\n",
              "    }\n",
              "\n",
              "    .dataframe thead th {\n",
              "        text-align: right;\n",
              "    }\n",
              "</style>\n",
              "<table border=\"1\" class=\"dataframe\">\n",
              "  <thead>\n",
              "    <tr style=\"text-align: right;\">\n",
              "      <th></th>\n",
              "      <th>Plano fechado</th>\n",
              "      <th>NPS</th>\n",
              "    </tr>\n",
              "    <tr>\n",
              "      <th>ID_Pedido</th>\n",
              "      <th></th>\n",
              "      <th></th>\n",
              "    </tr>\n",
              "  </thead>\n",
              "  <tbody>\n",
              "    <tr>\n",
              "      <th>7336.0</th>\n",
              "      <td>Premium</td>\n",
              "      <td>5</td>\n",
              "    </tr>\n",
              "    <tr>\n",
              "      <th>2077.0</th>\n",
              "      <td>Premium</td>\n",
              "      <td>6</td>\n",
              "    </tr>\n",
              "    <tr>\n",
              "      <th>5027.0</th>\n",
              "      <td>Premium</td>\n",
              "      <td>6</td>\n",
              "    </tr>\n",
              "    <tr>\n",
              "      <th>2861.0</th>\n",
              "      <td>Premium</td>\n",
              "      <td>6</td>\n",
              "    </tr>\n",
              "    <tr>\n",
              "      <th>2788.0</th>\n",
              "      <td>Premium</td>\n",
              "      <td>6</td>\n",
              "    </tr>\n",
              "    <tr>\n",
              "      <th>...</th>\n",
              "      <td>...</td>\n",
              "      <td>...</td>\n",
              "    </tr>\n",
              "    <tr>\n",
              "      <th>2981.0</th>\n",
              "      <td>Premium</td>\n",
              "      <td>5</td>\n",
              "    </tr>\n",
              "    <tr>\n",
              "      <th>7118.0</th>\n",
              "      <td>Premium</td>\n",
              "      <td>5</td>\n",
              "    </tr>\n",
              "    <tr>\n",
              "      <th>2651.0</th>\n",
              "      <td>Premium</td>\n",
              "      <td>6</td>\n",
              "    </tr>\n",
              "    <tr>\n",
              "      <th>6144.0</th>\n",
              "      <td>Premium</td>\n",
              "      <td>5</td>\n",
              "    </tr>\n",
              "    <tr>\n",
              "      <th>5078.0</th>\n",
              "      <td>Premium</td>\n",
              "      <td>4</td>\n",
              "    </tr>\n",
              "  </tbody>\n",
              "</table>\n",
              "<p>952 rows × 2 columns</p>\n",
              "</div>"
            ],
            "text/plain": [
              "          Plano fechado  NPS\n",
              "ID_Pedido                   \n",
              "7336.0          Premium    5\n",
              "2077.0          Premium    6\n",
              "5027.0          Premium    6\n",
              "2861.0          Premium    6\n",
              "2788.0          Premium    6\n",
              "...                 ...  ...\n",
              "2981.0          Premium    5\n",
              "7118.0          Premium    5\n",
              "2651.0          Premium    6\n",
              "6144.0          Premium    5\n",
              "5078.0          Premium    4\n",
              "\n",
              "[952 rows x 2 columns]"
            ]
          },
          "metadata": {
            "tags": []
          },
          "execution_count": 119
        }
      ]
    },
    {
      "cell_type": "code",
      "metadata": {
        "colab": {
          "base_uri": "https://localhost:8080/"
        },
        "id": "vOEZPRUnKohX",
        "outputId": "ac7e1109-86ff-40d5-fb7b-6614719c5641"
      },
      "source": [
        "print(Premium_Red.value_counts(),'\\n',len(Premium_Red))"
      ],
      "execution_count": null,
      "outputs": [
        {
          "output_type": "stream",
          "text": [
            "Plano fechado  NPS\n",
            "Premium        5      328\n",
            "               6      309\n",
            "               4      138\n",
            "               3       67\n",
            "               2       55\n",
            "               1       55\n",
            "dtype: int64 \n",
            " 952\n"
          ],
          "name": "stdout"
        }
      ]
    },
    {
      "cell_type": "code",
      "metadata": {
        "colab": {
          "base_uri": "https://localhost:8080/"
        },
        "id": "Dn_VUezFKywV",
        "outputId": "962074f9-dc88-48a5-8514-4b90b85f7d90"
      },
      "source": [
        "#porcentagem de valores Premium com NPS entre 1-6\n",
        "Premium_Red_porc = len(Premium_Red)/len(Premium)\n",
        "Premium_Red_porc"
      ],
      "execution_count": null,
      "outputs": [
        {
          "output_type": "execute_result",
          "data": {
            "text/plain": [
              "0.4557204404021063"
            ]
          },
          "metadata": {
            "tags": []
          },
          "execution_count": 121
        }
      ]
    },
    {
      "cell_type": "code",
      "metadata": {
        "colab": {
          "base_uri": "https://localhost:8080/",
          "height": 446
        },
        "id": "pstTNfl3K_Gb",
        "outputId": "a8710fd6-20d0-4a9c-c81c-965b3561ab0f"
      },
      "source": [
        "#filtrando apenas NPS 7-8\n",
        "Premium_Yellow = Premium.query('8>= NPS >=7')\n",
        "Premium_Yellow"
      ],
      "execution_count": null,
      "outputs": [
        {
          "output_type": "execute_result",
          "data": {
            "text/html": [
              "<div>\n",
              "<style scoped>\n",
              "    .dataframe tbody tr th:only-of-type {\n",
              "        vertical-align: middle;\n",
              "    }\n",
              "\n",
              "    .dataframe tbody tr th {\n",
              "        vertical-align: top;\n",
              "    }\n",
              "\n",
              "    .dataframe thead th {\n",
              "        text-align: right;\n",
              "    }\n",
              "</style>\n",
              "<table border=\"1\" class=\"dataframe\">\n",
              "  <thead>\n",
              "    <tr style=\"text-align: right;\">\n",
              "      <th></th>\n",
              "      <th>Plano fechado</th>\n",
              "      <th>NPS</th>\n",
              "    </tr>\n",
              "    <tr>\n",
              "      <th>ID_Pedido</th>\n",
              "      <th></th>\n",
              "      <th></th>\n",
              "    </tr>\n",
              "  </thead>\n",
              "  <tbody>\n",
              "    <tr>\n",
              "      <th>4332.0</th>\n",
              "      <td>Premium</td>\n",
              "      <td>7</td>\n",
              "    </tr>\n",
              "    <tr>\n",
              "      <th>3123.0</th>\n",
              "      <td>Premium</td>\n",
              "      <td>8</td>\n",
              "    </tr>\n",
              "    <tr>\n",
              "      <th>4924.0</th>\n",
              "      <td>Premium</td>\n",
              "      <td>8</td>\n",
              "    </tr>\n",
              "    <tr>\n",
              "      <th>1211.0</th>\n",
              "      <td>Premium</td>\n",
              "      <td>8</td>\n",
              "    </tr>\n",
              "    <tr>\n",
              "      <th>4978.0</th>\n",
              "      <td>Premium</td>\n",
              "      <td>7</td>\n",
              "    </tr>\n",
              "    <tr>\n",
              "      <th>...</th>\n",
              "      <td>...</td>\n",
              "      <td>...</td>\n",
              "    </tr>\n",
              "    <tr>\n",
              "      <th>2188.0</th>\n",
              "      <td>Premium</td>\n",
              "      <td>7</td>\n",
              "    </tr>\n",
              "    <tr>\n",
              "      <th>5083.0</th>\n",
              "      <td>Premium</td>\n",
              "      <td>7</td>\n",
              "    </tr>\n",
              "    <tr>\n",
              "      <th>2512.0</th>\n",
              "      <td>Premium</td>\n",
              "      <td>7</td>\n",
              "    </tr>\n",
              "    <tr>\n",
              "      <th>3099.0</th>\n",
              "      <td>Premium</td>\n",
              "      <td>8</td>\n",
              "    </tr>\n",
              "    <tr>\n",
              "      <th>1320.0</th>\n",
              "      <td>Premium</td>\n",
              "      <td>8</td>\n",
              "    </tr>\n",
              "  </tbody>\n",
              "</table>\n",
              "<p>533 rows × 2 columns</p>\n",
              "</div>"
            ],
            "text/plain": [
              "          Plano fechado  NPS\n",
              "ID_Pedido                   \n",
              "4332.0          Premium    7\n",
              "3123.0          Premium    8\n",
              "4924.0          Premium    8\n",
              "1211.0          Premium    8\n",
              "4978.0          Premium    7\n",
              "...                 ...  ...\n",
              "2188.0          Premium    7\n",
              "5083.0          Premium    7\n",
              "2512.0          Premium    7\n",
              "3099.0          Premium    8\n",
              "1320.0          Premium    8\n",
              "\n",
              "[533 rows x 2 columns]"
            ]
          },
          "metadata": {
            "tags": []
          },
          "execution_count": 122
        }
      ]
    },
    {
      "cell_type": "code",
      "metadata": {
        "colab": {
          "base_uri": "https://localhost:8080/"
        },
        "id": "aJyxa9gKLF4_",
        "outputId": "977852fe-0ab4-4ada-bdc5-4b7fe0ff1743"
      },
      "source": [
        "print(Premium_Yellow.value_counts(),'\\n',len(Premium_Yellow))"
      ],
      "execution_count": null,
      "outputs": [
        {
          "output_type": "stream",
          "text": [
            "Plano fechado  NPS\n",
            "Premium        7      281\n",
            "               8      252\n",
            "dtype: int64 \n",
            " 533\n"
          ],
          "name": "stdout"
        }
      ]
    },
    {
      "cell_type": "code",
      "metadata": {
        "colab": {
          "base_uri": "https://localhost:8080/"
        },
        "id": "aO58WbZYLKxX",
        "outputId": "e8467169-14e1-4ed0-abd0-b085efd35a91"
      },
      "source": [
        "#porcentagem de valores Premium com NPS entre 1-6\n",
        "Premium_Yellow_porc = len(Premium_Yellow)/len(Premium)\n",
        "Premium_Yellow_porc"
      ],
      "execution_count": null,
      "outputs": [
        {
          "output_type": "execute_result",
          "data": {
            "text/plain": [
              "0.25514600287218764"
            ]
          },
          "metadata": {
            "tags": []
          },
          "execution_count": 124
        }
      ]
    },
    {
      "cell_type": "code",
      "metadata": {
        "colab": {
          "base_uri": "https://localhost:8080/",
          "height": 446
        },
        "id": "IqUAOgc1LRSu",
        "outputId": "4b7815d0-8646-476a-9f8e-f078fc656164"
      },
      "source": [
        "#filtrando apenas NPS 9-10\n",
        "Premium_Green = Premium.query('10>= NPS >=9')\n",
        "Premium_Green"
      ],
      "execution_count": null,
      "outputs": [
        {
          "output_type": "execute_result",
          "data": {
            "text/html": [
              "<div>\n",
              "<style scoped>\n",
              "    .dataframe tbody tr th:only-of-type {\n",
              "        vertical-align: middle;\n",
              "    }\n",
              "\n",
              "    .dataframe tbody tr th {\n",
              "        vertical-align: top;\n",
              "    }\n",
              "\n",
              "    .dataframe thead th {\n",
              "        text-align: right;\n",
              "    }\n",
              "</style>\n",
              "<table border=\"1\" class=\"dataframe\">\n",
              "  <thead>\n",
              "    <tr style=\"text-align: right;\">\n",
              "      <th></th>\n",
              "      <th>Plano fechado</th>\n",
              "      <th>NPS</th>\n",
              "    </tr>\n",
              "    <tr>\n",
              "      <th>ID_Pedido</th>\n",
              "      <th></th>\n",
              "      <th></th>\n",
              "    </tr>\n",
              "  </thead>\n",
              "  <tbody>\n",
              "    <tr>\n",
              "      <th>5276.0</th>\n",
              "      <td>Premium</td>\n",
              "      <td>10</td>\n",
              "    </tr>\n",
              "    <tr>\n",
              "      <th>5623.0</th>\n",
              "      <td>Premium</td>\n",
              "      <td>9</td>\n",
              "    </tr>\n",
              "    <tr>\n",
              "      <th>5936.0</th>\n",
              "      <td>Premium</td>\n",
              "      <td>10</td>\n",
              "    </tr>\n",
              "    <tr>\n",
              "      <th>2081.0</th>\n",
              "      <td>Premium</td>\n",
              "      <td>10</td>\n",
              "    </tr>\n",
              "    <tr>\n",
              "      <th>5471.0</th>\n",
              "      <td>Premium</td>\n",
              "      <td>10</td>\n",
              "    </tr>\n",
              "    <tr>\n",
              "      <th>...</th>\n",
              "      <td>...</td>\n",
              "      <td>...</td>\n",
              "    </tr>\n",
              "    <tr>\n",
              "      <th>5632.0</th>\n",
              "      <td>Premium</td>\n",
              "      <td>10</td>\n",
              "    </tr>\n",
              "    <tr>\n",
              "      <th>6035.0</th>\n",
              "      <td>Premium</td>\n",
              "      <td>10</td>\n",
              "    </tr>\n",
              "    <tr>\n",
              "      <th>4081.0</th>\n",
              "      <td>Premium</td>\n",
              "      <td>9</td>\n",
              "    </tr>\n",
              "    <tr>\n",
              "      <th>5631.0</th>\n",
              "      <td>Premium</td>\n",
              "      <td>9</td>\n",
              "    </tr>\n",
              "    <tr>\n",
              "      <th>3949.0</th>\n",
              "      <td>Premium</td>\n",
              "      <td>9</td>\n",
              "    </tr>\n",
              "  </tbody>\n",
              "</table>\n",
              "<p>604 rows × 2 columns</p>\n",
              "</div>"
            ],
            "text/plain": [
              "          Plano fechado  NPS\n",
              "ID_Pedido                   \n",
              "5276.0          Premium   10\n",
              "5623.0          Premium    9\n",
              "5936.0          Premium   10\n",
              "2081.0          Premium   10\n",
              "5471.0          Premium   10\n",
              "...                 ...  ...\n",
              "5632.0          Premium   10\n",
              "6035.0          Premium   10\n",
              "4081.0          Premium    9\n",
              "5631.0          Premium    9\n",
              "3949.0          Premium    9\n",
              "\n",
              "[604 rows x 2 columns]"
            ]
          },
          "metadata": {
            "tags": []
          },
          "execution_count": 125
        }
      ]
    },
    {
      "cell_type": "code",
      "metadata": {
        "colab": {
          "base_uri": "https://localhost:8080/"
        },
        "id": "xrA0fBiILbLS",
        "outputId": "e08157e2-912e-4de3-8685-1fdf9d96014a"
      },
      "source": [
        "print(Premium_Green.value_counts(),'\\n',len(Premium_Green))"
      ],
      "execution_count": null,
      "outputs": [
        {
          "output_type": "stream",
          "text": [
            "Plano fechado  NPS\n",
            "Premium        10     318\n",
            "               9      286\n",
            "dtype: int64 \n",
            " 604\n"
          ],
          "name": "stdout"
        }
      ]
    },
    {
      "cell_type": "code",
      "metadata": {
        "colab": {
          "base_uri": "https://localhost:8080/"
        },
        "id": "VlMQF13iLhYC",
        "outputId": "be510207-789d-4d45-96d5-31943c1d8da3"
      },
      "source": [
        "#porcentagem de valores Premium com NPS entre 1-6\n",
        "Premium_Green_porc = len(Premium_Green)/len(Premium)\n",
        "Premium_Green_porc"
      ],
      "execution_count": null,
      "outputs": [
        {
          "output_type": "execute_result",
          "data": {
            "text/plain": [
              "0.28913355672570606"
            ]
          },
          "metadata": {
            "tags": []
          },
          "execution_count": 127
        }
      ]
    },
    {
      "cell_type": "markdown",
      "metadata": {
        "id": "lXcchNJo6b5S"
      },
      "source": [
        "# Etapa 2 - Investigando e visualizando os dados"
      ]
    },
    {
      "cell_type": "code",
      "metadata": {
        "id": "PQDhvN0V6j2H"
      },
      "source": [
        "#plotando a relação entre Plano fechado x NPS\n",
        "import seaborn as sns \n",
        "import plotly.express as px"
      ],
      "execution_count": null,
      "outputs": []
    },
    {
      "cell_type": "code",
      "metadata": {
        "colab": {
          "base_uri": "https://localhost:8080/",
          "height": 542
        },
        "id": "oD4CZafrVr_G",
        "outputId": "b46e0898-29ba-4e74-c343-6e71fdce6e0c"
      },
      "source": [
        "px.box(df, x='Plano fechado', y='NPS')"
      ],
      "execution_count": null,
      "outputs": [
        {
          "output_type": "display_data",
          "data": {
            "text/html": [
              "<html>\n",
              "<head><meta charset=\"utf-8\" /></head>\n",
              "<body>\n",
              "    <div>\n",
              "            <script src=\"https://cdnjs.cloudflare.com/ajax/libs/mathjax/2.7.5/MathJax.js?config=TeX-AMS-MML_SVG\"></script><script type=\"text/javascript\">if (window.MathJax) {MathJax.Hub.Config({SVG: {font: \"STIX-Web\"}});}</script>\n",
              "                <script type=\"text/javascript\">window.PlotlyConfig = {MathJaxConfig: 'local'};</script>\n",
              "        <script src=\"https://cdn.plot.ly/plotly-latest.min.js\"></script>    \n",
              "            <div id=\"c6411f67-f1b0-4bac-bdf8-7286edd89a83\" class=\"plotly-graph-div\" style=\"height:525px; width:100%;\"></div>\n",
              "            <script type=\"text/javascript\">\n",
              "                \n",
              "                    window.PLOTLYENV=window.PLOTLYENV || {};\n",
              "                    \n",
              "                if (document.getElementById(\"c6411f67-f1b0-4bac-bdf8-7286edd89a83\")) {\n",
              "                    Plotly.newPlot(\n",
              "                        'c6411f67-f1b0-4bac-bdf8-7286edd89a83',\n",
              "                        [{\"alignmentgroup\": \"True\", \"hoverlabel\": {\"namelength\": 0}, \"hovertemplate\": \"Plano fechado=%{x}<br>NPS=%{y}\", \"legendgroup\": \"\", \"marker\": {\"color\": \"#636efa\"}, \"name\": \"\", \"notched\": false, \"offsetgroup\": \"\", \"orientation\": \"v\", \"showlegend\": false, \"type\": \"box\", \"x\": [\"Basic\", \"Basic\", \"Premium\", \"Enteprise\", \"Basic\", \"Basic\", \"Basic\", \"Enteprise\", \"Premium\", \"Basic\", \"Enteprise\", \"Enteprise\", \"Basic\", \"Premium\", \"Basic\", \"Basic\", \"Basic\", \"Enteprise\", \"Premium\", \"Basic\", \"Enteprise\", \"Enteprise\", \"Basic\", \"Enteprise\", \"Premium\", \"Basic\", \"Enteprise\", \"Enteprise\", \"Basic\", \"Premium\", \"Enteprise\", \"Premium\", \"Basic\", \"Basic\", \"Basic\", \"Enteprise\", \"Premium\", \"Enteprise\", \"Basic\", \"Basic\", \"Enteprise\", \"Basic\", \"Premium\", \"Basic\", \"Basic\", \"Premium\", \"Enteprise\", \"Basic\", \"Basic\", \"Basic\", \"Enteprise\", \"Premium\", \"Basic\", \"Enteprise\", \"Enteprise\", \"Basic\", \"Premium\", \"Basic\", \"Basic\", \"Enteprise\", \"Premium\", \"Basic\", \"Enteprise\", \"Basic\", \"Premium\", \"Basic\", \"Enteprise\", \"Premium\", \"Basic\", \"Enteprise\", \"Enteprise\", \"Basic\", \"Premium\", \"Basic\", \"Basic\", \"Enteprise\", \"Premium\", \"Basic\", \"Enteprise\", \"Basic\", \"Premium\", \"Premium\", \"Basic\", \"Enteprise\", \"Basic\", \"Premium\", \"Basic\", \"Basic\", \"Basic\", \"Basic\", \"Enteprise\", \"Enteprise\", \"Basic\", \"Premium\", \"Basic\", \"Premium\", \"Enteprise\", \"Basic\", \"Enteprise\", \"Premium\", \"Basic\", \"Basic\", \"Enteprise\", \"Enteprise\", \"Basic\", \"Premium\", \"Basic\", \"Premium\", \"Enteprise\", \"Basic\", \"Enteprise\", \"Enteprise\", \"Basic\", \"Basic\", \"Basic\", \"Enteprise\", \"Premium\", \"Basic\", \"Enteprise\", \"Enteprise\", \"Basic\", \"Premium\", \"Basic\", \"Basic\", \"Basic\", \"Enteprise\", \"Basic\", \"Basic\", \"Basic\", \"Enteprise\", \"Premium\", \"Basic\", \"Enteprise\", \"Enteprise\", \"Basic\", \"Premium\", \"Basic\", \"Basic\", \"Basic\", \"Enteprise\", \"Premium\", \"Basic\", \"Enteprise\", \"Enteprise\", \"Basic\", \"Premium\", null, \"Basic\", \"Premium\", \"Premium\", \"Enteprise\", \"Basic\", \"Premium\", \"Enteprise\", \"Basic\", \"Premium\", \"Basic\", \"Basic\", \"Basic\", \"Enteprise\", \"Premium\", \"Basic\", \"Enteprise\", \"Enteprise\", \"Basic\", \"Premium\", \"Enteprise\", \"Basic\", \"Premium\", \"Premium\", \"Enteprise\", \"Basic\", \"Premium\", \"Basic\", \"Basic\", \"Basic\", \"Enteprise\", \"Premium\", \"Basic\", \"Enteprise\", \"Enteprise\", \"Basic\", \"Premium\", \"Enteprise\", \"Basic\", \"Premium\", \"Premium\", \"Enteprise\", \"Basic\", \"Basic\", \"Basic\", \"Basic\", \"Enteprise\", \"Premium\", \"Basic\", \"Enteprise\", \"Enteprise\", \"Basic\", \"Premium\", \"Basic\", \"Basic\", \"Basic\", \"Enteprise\", \"Premium\", \"Basic\", \"Basic\", \"Enteprise\", \"Premium\", \"Basic\", \"Enteprise\", \"Enteprise\", \"Basic\", \"Premium\", \"Basic\", \"Basic\", \"Basic\", \"Enteprise\", \"Premium\", \"Basic\", \"Enteprise\", \"Enteprise\", \"Basic\", \"Enteprise\", \"Premium\", \"Basic\", \"Enteprise\", \"Enteprise\", \"Basic\", \"Premium\", \"Enteprise\", \"Premium\", \"Basic\", null, \"Basic\", \"Enteprise\", \"Premium\", \"Enteprise\", \"Basic\", \"Basic\", \"Enteprise\", \"Basic\", \"Premium\", \"Basic\", \"Basic\", \"Premium\", \"Enteprise\", \"Basic\", \"Basic\", \"Basic\", \"Enteprise\", \"Premium\", \"Basic\", \"Enteprise\", \"Enteprise\", \"Basic\", \"Premium\", \"Basic\", \"Basic\", \"Enteprise\", \"Premium\", \"Basic\", \"Enteprise\", \"Basic\", \"Premium\", \"Basic\", \"Enteprise\", \"Premium\", \"Basic\", \"Enteprise\", \"Enteprise\", \"Basic\", \"Premium\", \"Basic\", \"Basic\", \"Enteprise\", \"Premium\", \"Basic\", \"Enteprise\", \"Basic\", \"Premium\", \"Premium\", \"Basic\", \"Enteprise\", \"Basic\", \"Premium\", \"Basic\", \"Basic\", \"Basic\", \"Basic\", \"Enteprise\", \"Enteprise\", \"Basic\", \"Premium\", \"Basic\", \"Premium\", \"Enteprise\", \"Basic\", \"Enteprise\", \"Premium\", \"Basic\", \"Basic\", \"Enteprise\", \"Enteprise\", \"Basic\", \"Premium\", \"Basic\", \"Premium\", \"Enteprise\", \"Basic\", \"Enteprise\", \"Enteprise\", \"Basic\", \"Basic\", \"Basic\", \"Enteprise\", \"Premium\", \"Basic\", \"Enteprise\", \"Premium\", \"Basic\", \"Enteprise\", \"Enteprise\", \"Basic\", \"Premium\", \"Basic\", \"Basic\", \"Basic\", \"Enteprise\", \"Premium\", \"Basic\", \"Basic\", \"Enteprise\", \"Premium\", \"Basic\", \"Enteprise\", \"Enteprise\", \"Basic\", \"Premium\", \"Basic\", \"Basic\", \"Basic\", \"Enteprise\", \"Premium\", \"Basic\", \"Enteprise\", \"Enteprise\", \"Basic\", \"Enteprise\", \"Premium\", \"Basic\", \"Enteprise\", \"Enteprise\", \"Basic\", \"Premium\", \"Enteprise\", \"Premium\", \"Basic\", \"Basic\", \"Basic\", \"Enteprise\", \"Premium\", \"Enteprise\", \"Basic\", \"Basic\", \"Enteprise\", \"Basic\", \"Premium\", \"Basic\", \"Basic\", \"Premium\", \"Enteprise\", \"Basic\", \"Basic\", \"Basic\", \"Enteprise\", \"Premium\", \"Basic\", \"Enteprise\", \"Enteprise\", \"Basic\", \"Premium\", \"Basic\", \"Basic\", \"Enteprise\", \"Premium\", \"Basic\", \"Enteprise\", \"Basic\", \"Premium\", \"Basic\", \"Enteprise\", \"Premium\", \"Basic\", \"Enteprise\", \"Enteprise\", \"Basic\", \"Premium\", \"Basic\", \"Basic\", \"Enteprise\", \"Premium\", \"Basic\", \"Enteprise\", \"Basic\", \"Premium\", \"Premium\", \"Basic\", \"Enteprise\", \"Basic\", \"Premium\", \"Basic\", \"Basic\", \"Basic\", \"Basic\", \"Enteprise\", \"Enteprise\", \"Basic\", \"Premium\", \"Basic\", \"Premium\", \"Enteprise\", \"Basic\", \"Enteprise\", \"Premium\", \"Basic\", \"Basic\", \"Enteprise\", \"Enteprise\", \"Basic\", \"Premium\", \"Basic\", \"Premium\", \"Enteprise\", \"Basic\", \"Enteprise\", \"Enteprise\", \"Basic\", \"Basic\", \"Basic\", \"Enteprise\", \"Premium\", \"Basic\", \"Enteprise\", \"Premium\", \"Basic\", \"Enteprise\", \"Enteprise\", \"Basic\", \"Premium\", \"Basic\", \"Basic\", \"Basic\", \"Enteprise\", \"Premium\", \"Basic\", \"Basic\", \"Enteprise\", \"Premium\", \"Basic\", \"Enteprise\", \"Enteprise\", \"Basic\", \"Premium\", \"Basic\", \"Basic\", \"Basic\", \"Enteprise\", \"Premium\", \"Basic\", \"Enteprise\", \"Enteprise\", \"Basic\", \"Enteprise\", \"Premium\", \"Basic\", \"Enteprise\", \"Enteprise\", \"Basic\", \"Premium\", \"Enteprise\", \"Premium\", \"Basic\", \"Basic\", \"Basic\", \"Enteprise\", \"Premium\", \"Enteprise\", \"Basic\", \"Basic\", \"Enteprise\", \"Basic\", \"Premium\", \"Basic\", \"Basic\", \"Premium\", \"Enteprise\", \"Basic\", \"Basic\", \"Basic\", \"Enteprise\", \"Premium\", \"Basic\", \"Enteprise\", \"Enteprise\", \"Basic\", \"Premium\", \"Basic\", \"Basic\", \"Enteprise\", \"Premium\", \"Basic\", \"Enteprise\", \"Basic\", \"Premium\", \"Basic\", \"Enteprise\", \"Premium\", \"Basic\", \"Enteprise\", \"Enteprise\", \"Basic\", \"Premium\", \"Basic\", \"Basic\", \"Enteprise\", \"Premium\", \"Basic\", \"Enteprise\", \"Basic\", \"Premium\", \"Premium\", \"Basic\", \"Enteprise\", \"Basic\", \"Premium\", \"Basic\", \"Basic\", \"Basic\", \"Basic\", \"Enteprise\", \"Enteprise\", \"Basic\", \"Premium\", \"Basic\", \"Premium\", \"Enteprise\", \"Basic\", \"Enteprise\", \"Premium\", \"Basic\", \"Basic\", \"Enteprise\", \"Enteprise\", \"Basic\", \"Premium\", \"Basic\", \"Premium\", \"Enteprise\", \"Basic\", \"Enteprise\", \"Enteprise\", \"Basic\", \"Basic\", \"Basic\", \"Enteprise\", \"Premium\", \"Basic\", \"Enteprise\", \"Enteprise\", \"Premium\", \"Basic\", \"Basic\", \"Enteprise\", \"Basic\", \"Basic\", \"Enteprise\", \"Basic\", \"Premium\", \"Basic\", \"Enteprise\", \"Basic\", \"Enteprise\", \"Premium\", \"Premium\", \"Enteprise\", \"Basic\", \"Basic\", \"Basic\", \"Premium\", \"Basic\", \"Basic\", \"Basic\", \"Enteprise\", \"Basic\", \"Premium\", \"Enteprise\", \"Premium\", \"Basic\", \"Enteprise\", \"Enteprise\", \"Basic\", \"Premium\", \"Basic\", \"Basic\", \"Basic\", \"Enteprise\", \"Premium\", \"Basic\", \"Basic\", \"Enteprise\", \"Premium\", \"Basic\", \"Enteprise\", \"Enteprise\", \"Basic\", \"Premium\", \"Basic\", \"Basic\", \"Basic\", \"Enteprise\", \"Premium\", \"Basic\", \"Enteprise\", \"Enteprise\", \"Basic\", \"Enteprise\", \"Premium\", \"Basic\", \"Enteprise\", \"Enteprise\", \"Basic\", \"Premium\", \"Enteprise\", \"Premium\", \"Basic\", \"Basic\", \"Basic\", \"Enteprise\", \"Premium\", \"Enteprise\", \"Basic\", \"Basic\", \"Enteprise\", \"Basic\", \"Premium\", \"Basic\", \"Basic\", \"Premium\", \"Enteprise\", \"Basic\", \"Basic\", \"Basic\", \"Enteprise\", \"Premium\", \"Basic\", \"Enteprise\", \"Enteprise\", \"Basic\", \"Premium\", \"Basic\", \"Basic\", \"Enteprise\", \"Premium\", \"Basic\", \"Enteprise\", \"Basic\", \"Premium\", \"Basic\", \"Enteprise\", \"Premium\", \"Basic\", \"Enteprise\", \"Enteprise\", \"Basic\", \"Premium\", \"Basic\", \"Basic\", \"Enteprise\", \"Premium\", \"Basic\", \"Enteprise\", \"Basic\", \"Premium\", \"Premium\", \"Basic\", \"Enteprise\", \"Basic\", \"Premium\", \"Basic\", \"Basic\", \"Basic\", \"Basic\", \"Enteprise\", \"Enteprise\", \"Basic\", \"Premium\", \"Basic\", \"Premium\", \"Enteprise\", \"Basic\", \"Enteprise\", \"Premium\", \"Basic\", \"Basic\", \"Enteprise\", \"Enteprise\", \"Basic\", \"Premium\", \"Basic\", \"Premium\", \"Enteprise\", \"Basic\", \"Enteprise\", \"Enteprise\", \"Basic\", \"Basic\", \"Basic\", \"Enteprise\", \"Premium\", \"Basic\", \"Enteprise\", \"Premium\", \"Basic\", \"Enteprise\", \"Enteprise\", \"Basic\", \"Premium\", \"Basic\", \"Basic\", \"Basic\", \"Enteprise\", \"Premium\", \"Basic\", \"Basic\", \"Enteprise\", \"Premium\", \"Basic\", \"Enteprise\", \"Enteprise\", \"Basic\", \"Premium\", \"Basic\", \"Basic\", \"Basic\", \"Enteprise\", \"Premium\", \"Basic\", \"Enteprise\", \"Enteprise\", \"Basic\", \"Enteprise\", \"Premium\", \"Basic\", \"Enteprise\", \"Enteprise\", \"Basic\", \"Premium\", \"Enteprise\", \"Premium\", \"Basic\", \"Basic\", \"Basic\", \"Enteprise\", \"Premium\", \"Enteprise\", \"Basic\", \"Basic\", \"Enteprise\", \"Basic\", \"Premium\", \"Basic\", \"Basic\", \"Premium\", \"Enteprise\", \"Basic\", \"Basic\", \"Basic\", \"Enteprise\", \"Premium\", \"Basic\", \"Enteprise\", \"Enteprise\", \"Basic\", \"Premium\", \"Basic\", \"Basic\", \"Enteprise\", \"Premium\", \"Basic\", \"Enteprise\", \"Basic\", \"Premium\", \"Basic\", \"Enteprise\", \"Premium\", \"Basic\", \"Enteprise\", \"Enteprise\", \"Basic\", \"Premium\", \"Basic\", \"Basic\", \"Enteprise\", \"Premium\", \"Basic\", \"Enteprise\", \"Basic\", \"Premium\", \"Premium\", \"Basic\", \"Enteprise\", \"Basic\", \"Premium\", \"Basic\", \"Basic\", \"Basic\", \"Basic\", \"Enteprise\", \"Enteprise\", \"Basic\", \"Premium\", \"Basic\", \"Premium\", \"Enteprise\", \"Basic\", \"Enteprise\", \"Premium\", \"Basic\", \"Basic\", \"Enteprise\", \"Enteprise\", \"Basic\", \"Premium\", \"Basic\", \"Premium\", \"Enteprise\", \"Basic\", \"Enteprise\", \"Enteprise\", \"Basic\", \"Basic\", \"Basic\", \"Enteprise\", \"Premium\", \"Basic\", \"Enteprise\", \"Enteprise\", \"Basic\", \"Enteprise\", \"Premium\", \"Basic\", \"Enteprise\", \"Enteprise\", \"Basic\", \"Premium\", \"Enteprise\", \"Premium\", \"Basic\", \"Basic\", \"Basic\", \"Enteprise\", \"Premium\", \"Enteprise\", \"Basic\", \"Basic\", \"Enteprise\", \"Basic\", \"Premium\", \"Basic\", \"Basic\", \"Premium\", \"Enteprise\", \"Basic\", \"Basic\", \"Basic\", \"Enteprise\", \"Premium\", \"Basic\", \"Enteprise\", \"Enteprise\", \"Basic\", \"Premium\", \"Basic\", \"Basic\", \"Enteprise\", \"Premium\", \"Basic\", \"Enteprise\", \"Basic\", \"Premium\", \"Basic\", \"Enteprise\", \"Premium\", \"Basic\", \"Enteprise\", \"Enteprise\", \"Basic\", \"Premium\", \"Basic\", \"Basic\", \"Enteprise\", \"Premium\", \"Basic\", \"Enteprise\", \"Basic\", \"Premium\", \"Premium\", \"Basic\", \"Enteprise\", \"Basic\", \"Premium\", \"Basic\", \"Basic\", \"Basic\", \"Basic\", \"Enteprise\", \"Enteprise\", \"Basic\", \"Premium\", \"Basic\", \"Premium\", \"Enteprise\", \"Basic\", \"Enteprise\", \"Premium\", \"Basic\", \"Basic\", \"Enteprise\", \"Enteprise\", \"Basic\", \"Premium\", \"Basic\", \"Premium\", \"Enteprise\", \"Basic\", \"Enteprise\", \"Enteprise\", \"Basic\", \"Basic\", \"Basic\", \"Enteprise\", \"Premium\", \"Basic\", \"Enteprise\", \"Enteprise\", \"Premium\", \"Basic\", \"Basic\", \"Enteprise\", \"Basic\", \"Basic\", \"Enteprise\", \"Basic\", \"Premium\", \"Basic\", \"Enteprise\", \"Basic\", \"Enteprise\", \"Premium\", \"Premium\", \"Enteprise\", \"Basic\", \"Basic\", \"Basic\", \"Premium\", \"Basic\", \"Basic\", \"Basic\", \"Enteprise\", \"Basic\", \"Premium\", \"Enteprise\", \"Premium\", \"Basic\", \"Enteprise\", \"Enteprise\", \"Basic\", \"Premium\", \"Basic\", \"Basic\", \"Basic\", \"Enteprise\", \"Premium\", \"Basic\", \"Basic\", \"Enteprise\", \"Premium\", \"Basic\", \"Enteprise\", \"Enteprise\", \"Basic\", \"Premium\", \"Basic\", \"Basic\", \"Basic\", \"Enteprise\", \"Premium\", \"Basic\", \"Enteprise\", \"Enteprise\", \"Basic\", \"Enteprise\", \"Premium\", \"Basic\", \"Enteprise\", \"Enteprise\", \"Basic\", \"Premium\", \"Enteprise\", \"Premium\", \"Basic\", \"Basic\", \"Basic\", \"Enteprise\", \"Premium\", \"Enteprise\", \"Basic\", \"Basic\", \"Enteprise\", \"Basic\", \"Premium\", \"Basic\", \"Basic\", \"Premium\", \"Enteprise\", \"Basic\", \"Basic\", \"Basic\", \"Enteprise\", \"Premium\", \"Basic\", \"Enteprise\", \"Enteprise\", \"Basic\", \"Premium\", \"Basic\", \"Basic\", \"Enteprise\", \"Premium\", \"Basic\", \"Enteprise\", \"Basic\", \"Premium\", \"Basic\", \"Enteprise\", \"Premium\", \"Basic\", \"Enteprise\", \"Enteprise\", \"Basic\", \"Premium\", \"Basic\", \"Basic\", \"Enteprise\", \"Premium\", \"Basic\", \"Enteprise\", \"Basic\", \"Premium\", \"Premium\", \"Basic\", \"Enteprise\", \"Basic\", \"Premium\", \"Basic\", \"Basic\", \"Basic\", \"Basic\", \"Enteprise\", \"Enteprise\", \"Basic\", \"Premium\", \"Basic\", \"Premium\", \"Enteprise\", \"Basic\", \"Enteprise\", \"Premium\", \"Basic\", \"Basic\", \"Enteprise\", \"Enteprise\", \"Basic\", \"Premium\", \"Basic\", \"Premium\", \"Enteprise\", \"Basic\", \"Enteprise\", \"Enteprise\", \"Basic\", \"Basic\", \"Basic\", \"Enteprise\", \"Premium\", \"Basic\", \"Enteprise\", \"Premium\", \"Basic\", \"Enteprise\", \"Enteprise\", \"Basic\", \"Premium\", \"Basic\", \"Basic\", \"Basic\", \"Enteprise\", \"Premium\", \"Basic\", \"Basic\", \"Enteprise\", \"Premium\", \"Basic\", \"Enteprise\", \"Enteprise\", \"Basic\", \"Premium\", \"Basic\", \"Basic\", \"Basic\", \"Enteprise\", \"Premium\", \"Basic\", \"Enteprise\", \"Enteprise\", \"Basic\", \"Enteprise\", \"Premium\", \"Basic\", \"Enteprise\", \"Enteprise\", \"Basic\", \"Premium\", \"Enteprise\", \"Premium\", \"Basic\", \"Basic\", \"Basic\", \"Enteprise\", \"Premium\", \"Enteprise\", \"Basic\", \"Basic\", \"Enteprise\", \"Basic\", \"Premium\", \"Basic\", \"Basic\", \"Premium\", \"Enteprise\", \"Basic\", \"Basic\", \"Basic\", \"Enteprise\", \"Premium\", \"Basic\", \"Enteprise\", \"Enteprise\", \"Basic\", \"Premium\", \"Basic\", \"Basic\", \"Enteprise\", \"Premium\", \"Basic\", \"Enteprise\", \"Basic\", \"Premium\", \"Basic\", \"Enteprise\", \"Premium\", \"Basic\", \"Enteprise\", \"Enteprise\", \"Basic\", \"Premium\", \"Basic\", \"Basic\", \"Enteprise\", \"Premium\", \"Basic\", \"Enteprise\", \"Basic\", \"Premium\", \"Premium\", \"Basic\", \"Enteprise\", \"Basic\", \"Premium\", \"Basic\", \"Basic\", \"Basic\", \"Basic\", \"Enteprise\", \"Enteprise\", \"Basic\", \"Premium\", \"Basic\", \"Premium\", \"Enteprise\", \"Basic\", \"Enteprise\", \"Premium\", \"Basic\", \"Basic\", \"Enteprise\", \"Enteprise\", \"Basic\", \"Premium\", \"Basic\", \"Premium\", \"Enteprise\", \"Basic\", \"Premium\", \"Basic\", \"Basic\", \"Enteprise\", \"Basic\", \"Enteprise\", \"Premium\", \"Basic\", \"Enteprise\", \"Enteprise\", \"Basic\", \"Premium\", \"Enteprise\", \"Premium\", \"Basic\", \"Basic\", \"Basic\", \"Enteprise\", \"Premium\", \"Enteprise\", \"Basic\", \"Basic\", \"Enteprise\", \"Basic\", \"Premium\", \"Basic\", \"Basic\", \"Premium\", \"Enteprise\", \"Basic\", \"Basic\", \"Basic\", \"Enteprise\", \"Premium\", \"Basic\", \"Enteprise\", \"Enteprise\", \"Basic\", \"Premium\", \"Basic\", \"Basic\", \"Enteprise\", \"Premium\", \"Basic\", \"Enteprise\", \"Basic\", \"Premium\", \"Basic\", \"Enteprise\", \"Premium\", \"Basic\", \"Enteprise\", \"Enteprise\", \"Basic\", \"Premium\", \"Basic\", \"Basic\", \"Enteprise\", \"Premium\", \"Basic\", \"Enteprise\", \"Basic\", \"Premium\", \"Premium\", \"Basic\", \"Enteprise\", \"Basic\", \"Premium\", \"Basic\", \"Basic\", \"Basic\", \"Basic\", \"Enteprise\", \"Enteprise\", \"Basic\", \"Premium\", \"Basic\", \"Premium\", \"Enteprise\", \"Basic\", \"Enteprise\", \"Premium\", \"Basic\", \"Basic\", \"Enteprise\", \"Enteprise\", \"Basic\", \"Premium\", \"Basic\", \"Premium\", \"Enteprise\", \"Basic\", \"Enteprise\", \"Enteprise\", \"Basic\", \"Basic\", \"Basic\", \"Enteprise\", \"Premium\", \"Basic\", \"Enteprise\", \"Enteprise\", \"Premium\", \"Basic\", \"Basic\", \"Enteprise\", \"Basic\", \"Basic\", \"Enteprise\", \"Basic\", \"Premium\", \"Basic\", \"Enteprise\", \"Basic\", \"Enteprise\", \"Premium\", \"Premium\", \"Enteprise\", \"Basic\", \"Basic\", \"Basic\", \"Premium\", \"Basic\", \"Basic\", \"Basic\", \"Enteprise\", \"Basic\", \"Premium\", \"Enteprise\", \"Premium\", \"Basic\", \"Enteprise\", \"Enteprise\", \"Basic\", \"Premium\", \"Basic\", \"Basic\", \"Basic\", \"Enteprise\", \"Premium\", \"Basic\", \"Basic\", \"Enteprise\", \"Premium\", \"Basic\", \"Enteprise\", \"Enteprise\", \"Basic\", \"Premium\", \"Basic\", \"Basic\", \"Basic\", \"Enteprise\", \"Premium\", \"Basic\", \"Enteprise\", \"Enteprise\", \"Basic\", \"Enteprise\", \"Premium\", \"Basic\", \"Enteprise\", \"Enteprise\", \"Basic\", \"Premium\", \"Enteprise\", \"Premium\", \"Basic\", \"Basic\", \"Basic\", \"Enteprise\", \"Premium\", \"Enteprise\", \"Basic\", \"Basic\", \"Enteprise\", \"Basic\", \"Premium\", \"Basic\", \"Basic\", \"Premium\", \"Enteprise\", \"Basic\", \"Basic\", \"Basic\", \"Enteprise\", \"Premium\", \"Basic\", \"Enteprise\", \"Enteprise\", \"Basic\", \"Premium\", \"Basic\", \"Basic\", \"Enteprise\", \"Premium\", \"Basic\", \"Enteprise\", \"Basic\", \"Premium\", \"Basic\", \"Enteprise\", \"Premium\", \"Basic\", \"Enteprise\", \"Enteprise\", \"Basic\", \"Premium\", \"Basic\", \"Basic\", \"Enteprise\", \"Premium\", \"Basic\", \"Enteprise\", \"Basic\", \"Premium\", \"Premium\", \"Basic\", \"Enteprise\", \"Basic\", \"Premium\", \"Basic\", \"Basic\", \"Basic\", \"Basic\", \"Enteprise\", \"Enteprise\", \"Basic\", \"Premium\", \"Basic\", \"Premium\", \"Enteprise\", \"Basic\", \"Enteprise\", \"Premium\", \"Basic\", \"Basic\", \"Enteprise\", \"Enteprise\", \"Basic\", \"Premium\", \"Basic\", \"Premium\", \"Enteprise\", \"Basic\", \"Enteprise\", \"Enteprise\", \"Basic\", \"Basic\", \"Basic\", \"Enteprise\", \"Premium\", \"Basic\", \"Enteprise\", \"Premium\", \"Basic\", \"Enteprise\", \"Enteprise\", \"Basic\", \"Premium\", \"Basic\", \"Basic\", \"Basic\", \"Enteprise\", \"Premium\", \"Basic\", \"Basic\", \"Enteprise\", \"Premium\", \"Basic\", \"Enteprise\", \"Enteprise\", \"Basic\", \"Premium\", \"Basic\", \"Basic\", \"Basic\", \"Enteprise\", \"Premium\", \"Basic\", \"Enteprise\", \"Enteprise\", \"Basic\", \"Enteprise\", \"Premium\", \"Basic\", \"Enteprise\", \"Enteprise\", \"Basic\", \"Premium\", \"Enteprise\", \"Premium\", \"Basic\", \"Basic\", \"Basic\", \"Enteprise\", \"Premium\", \"Enteprise\", \"Basic\", \"Basic\", \"Enteprise\", \"Basic\", \"Premium\", \"Basic\", \"Basic\", \"Premium\", \"Enteprise\", \"Basic\", \"Basic\", \"Basic\", \"Enteprise\", \"Premium\", \"Basic\", \"Enteprise\", \"Enteprise\", \"Basic\", \"Premium\", \"Basic\", \"Basic\", \"Enteprise\", \"Premium\", \"Basic\", \"Enteprise\", \"Basic\", \"Premium\", \"Basic\", \"Enteprise\", \"Premium\", \"Basic\", \"Enteprise\", \"Enteprise\", \"Basic\", \"Premium\", \"Basic\", \"Basic\", \"Enteprise\", \"Premium\", \"Basic\", \"Enteprise\", \"Basic\", \"Premium\", \"Premium\", \"Basic\", \"Enteprise\", \"Basic\", \"Premium\", \"Basic\", \"Basic\", \"Basic\", \"Basic\", \"Enteprise\", \"Enteprise\", \"Basic\", \"Premium\", \"Basic\", \"Premium\", \"Enteprise\", \"Basic\", \"Enteprise\", \"Premium\", \"Basic\", \"Basic\", \"Enteprise\", \"Enteprise\", \"Basic\", \"Premium\", \"Basic\", \"Premium\", \"Enteprise\", \"Basic\", \"Enteprise\", \"Premium\", \"Basic\", \"Enteprise\", \"Enteprise\", \"Basic\", \"Enteprise\", \"Premium\", \"Basic\", \"Enteprise\", \"Enteprise\", \"Basic\", \"Premium\", \"Enteprise\", \"Premium\", \"Basic\", \"Basic\", \"Basic\", \"Enteprise\", \"Premium\", \"Enteprise\", \"Basic\", \"Basic\", \"Enteprise\", \"Basic\", \"Premium\", \"Basic\", \"Basic\", \"Premium\", \"Enteprise\", \"Basic\", \"Basic\", \"Basic\", \"Enteprise\", \"Premium\", \"Basic\", \"Enteprise\", \"Enteprise\", \"Basic\", \"Premium\", \"Basic\", \"Basic\", \"Enteprise\", \"Premium\", \"Basic\", \"Enteprise\", \"Basic\", \"Premium\", \"Basic\", \"Enteprise\", \"Premium\", \"Basic\", \"Enteprise\", \"Enteprise\", \"Basic\", \"Premium\", \"Basic\", \"Basic\", \"Enteprise\", \"Premium\", \"Basic\", \"Enteprise\", \"Basic\", \"Premium\", \"Premium\", \"Basic\", \"Enteprise\", \"Basic\", \"Premium\", \"Basic\", \"Basic\", \"Basic\", \"Basic\", \"Enteprise\", \"Enteprise\", \"Basic\", \"Premium\", \"Basic\", \"Premium\", \"Enteprise\", \"Basic\", \"Enteprise\", \"Premium\", \"Basic\", \"Basic\", \"Enteprise\", \"Enteprise\", \"Basic\", \"Premium\", \"Basic\", \"Premium\", \"Enteprise\", \"Basic\", \"Enteprise\", \"Enteprise\", \"Basic\", \"Basic\", \"Basic\", \"Enteprise\", \"Premium\", \"Basic\", \"Enteprise\", \"Enteprise\", \"Premium\", \"Basic\", \"Basic\", \"Enteprise\", \"Basic\", \"Basic\", \"Enteprise\", \"Basic\", \"Premium\", \"Basic\", \"Enteprise\", \"Basic\", \"Enteprise\", \"Premium\", \"Premium\", \"Enteprise\", \"Basic\", \"Basic\", \"Basic\", \"Premium\", \"Basic\", \"Basic\", \"Basic\", \"Enteprise\", \"Basic\", \"Premium\", \"Enteprise\", \"Premium\", \"Basic\", \"Enteprise\", \"Enteprise\", \"Basic\", \"Premium\", \"Basic\", \"Basic\", \"Basic\", \"Enteprise\", \"Premium\", \"Basic\", \"Basic\", \"Enteprise\", \"Premium\", \"Basic\", \"Enteprise\", \"Enteprise\", \"Basic\", \"Premium\", \"Basic\", \"Basic\", \"Basic\", \"Enteprise\", \"Premium\", \"Basic\", \"Enteprise\", \"Enteprise\", \"Basic\", \"Enteprise\", \"Premium\", \"Basic\", \"Enteprise\", \"Enteprise\", \"Basic\", \"Premium\", \"Enteprise\", \"Premium\", \"Basic\", \"Basic\", \"Basic\", \"Enteprise\", \"Premium\", \"Enteprise\", \"Basic\", \"Basic\", \"Enteprise\", \"Basic\", \"Premium\", \"Basic\", \"Basic\", \"Premium\", \"Enteprise\", \"Basic\", \"Basic\", \"Basic\", \"Enteprise\", \"Premium\", \"Basic\", \"Enteprise\", \"Enteprise\", \"Basic\", \"Premium\", \"Basic\", \"Basic\", \"Enteprise\", \"Premium\", \"Basic\", \"Enteprise\", \"Basic\", \"Premium\", \"Basic\", \"Enteprise\", \"Premium\", \"Basic\", \"Enteprise\", \"Enteprise\", \"Basic\", \"Premium\", \"Basic\", \"Basic\", \"Enteprise\", \"Premium\", \"Basic\", \"Enteprise\", \"Basic\", \"Premium\", \"Premium\", \"Basic\", \"Enteprise\", \"Basic\", \"Premium\", \"Basic\", \"Basic\", \"Basic\", \"Basic\", \"Enteprise\", \"Enteprise\", \"Basic\", \"Premium\", \"Basic\", \"Premium\", \"Enteprise\", \"Basic\", \"Enteprise\", \"Premium\", \"Basic\", \"Basic\", \"Enteprise\", \"Enteprise\", \"Basic\", \"Premium\", \"Basic\", \"Premium\", \"Enteprise\", \"Basic\", \"Enteprise\", \"Enteprise\", \"Basic\", \"Basic\", \"Basic\", \"Enteprise\", \"Premium\", \"Basic\", \"Enteprise\", \"Premium\", \"Basic\", \"Enteprise\", \"Enteprise\", \"Basic\", \"Premium\", \"Basic\", \"Basic\", \"Basic\", \"Enteprise\", \"Premium\", \"Basic\", \"Basic\", \"Enteprise\", \"Premium\", \"Basic\", \"Enteprise\", \"Enteprise\", \"Basic\", \"Premium\", \"Basic\", \"Basic\", \"Basic\", \"Enteprise\", \"Premium\", \"Basic\", \"Enteprise\", \"Enteprise\", \"Basic\", \"Enteprise\", \"Premium\", \"Basic\", \"Enteprise\", \"Enteprise\", \"Basic\", \"Premium\", \"Enteprise\", \"Premium\", \"Basic\", \"Basic\", \"Basic\", \"Enteprise\", \"Premium\", \"Enteprise\", \"Basic\", \"Basic\", \"Enteprise\", \"Basic\", \"Premium\", \"Basic\", \"Basic\", \"Premium\", \"Enteprise\", \"Basic\", \"Basic\", \"Basic\", \"Enteprise\", \"Premium\", \"Basic\", \"Enteprise\", \"Enteprise\", \"Basic\", \"Premium\", \"Basic\", \"Basic\", \"Enteprise\", \"Premium\", \"Basic\", \"Enteprise\", \"Basic\", \"Premium\", \"Basic\", \"Enteprise\", \"Premium\", \"Basic\", \"Enteprise\", \"Enteprise\", \"Basic\", \"Premium\", \"Basic\", \"Basic\", \"Enteprise\", \"Premium\", \"Basic\", \"Enteprise\", \"Basic\", \"Premium\", \"Premium\", \"Basic\", \"Enteprise\", \"Basic\", \"Premium\", \"Basic\", \"Basic\", \"Basic\", \"Basic\", \"Enteprise\", \"Enteprise\", \"Basic\", \"Premium\", \"Basic\", \"Premium\", \"Enteprise\", \"Basic\", \"Enteprise\", \"Premium\", \"Basic\", \"Basic\", \"Enteprise\", \"Enteprise\", \"Basic\", \"Premium\", \"Basic\", \"Premium\", \"Enteprise\", \"Basic\", \"Enteprise\", \"Enteprise\", \"Basic\", \"Basic\", \"Enteprise\", \"Enteprise\", \"Basic\", \"Premium\", \"Basic\", \"Premium\", \"Enteprise\", \"Basic\", \"Enteprise\", \"Premium\", \"Basic\", \"Basic\", \"Enteprise\", \"Enteprise\", \"Basic\", \"Premium\", \"Basic\", \"Premium\", \"Enteprise\", \"Basic\", \"Enteprise\", \"Enteprise\", \"Basic\", \"Basic\", \"Basic\", \"Enteprise\", \"Premium\", \"Basic\", \"Enteprise\", \"Enteprise\", \"Premium\", \"Basic\", \"Basic\", \"Enteprise\", \"Basic\", \"Basic\", \"Enteprise\", \"Basic\", \"Premium\", \"Basic\", \"Enteprise\", \"Basic\", \"Enteprise\", \"Premium\", \"Premium\", \"Enteprise\", \"Basic\", \"Basic\", \"Basic\", \"Premium\", \"Basic\", \"Basic\", \"Basic\", \"Enteprise\", \"Basic\", \"Premium\", \"Enteprise\", \"Premium\", \"Basic\", \"Enteprise\", \"Enteprise\", \"Basic\", \"Premium\", \"Basic\", \"Basic\", \"Basic\", \"Enteprise\", \"Premium\", \"Basic\", \"Basic\", \"Enteprise\", \"Premium\", \"Basic\", \"Enteprise\", \"Enteprise\", \"Basic\", \"Premium\", \"Basic\", \"Basic\", \"Basic\", \"Enteprise\", \"Premium\", \"Basic\", \"Enteprise\", \"Enteprise\", \"Basic\", \"Enteprise\", \"Premium\", \"Basic\", \"Enteprise\", \"Enteprise\", \"Basic\", \"Premium\", \"Enteprise\", \"Premium\", \"Basic\", \"Basic\", \"Basic\", \"Enteprise\", \"Premium\", \"Enteprise\", \"Basic\", \"Basic\", \"Enteprise\", \"Basic\", \"Premium\", \"Basic\", \"Basic\", \"Premium\", \"Enteprise\", \"Basic\", \"Basic\", \"Basic\", \"Enteprise\", \"Premium\", \"Basic\", \"Enteprise\", \"Enteprise\", \"Basic\", \"Premium\", \"Basic\", \"Basic\", \"Enteprise\", \"Premium\", \"Basic\", \"Enteprise\", \"Basic\", \"Premium\", \"Basic\", \"Enteprise\", \"Premium\", \"Basic\", \"Enteprise\", \"Enteprise\", \"Basic\", \"Premium\", \"Basic\", \"Basic\", \"Enteprise\", \"Premium\", \"Basic\", \"Enteprise\", \"Basic\", \"Premium\", \"Premium\", \"Basic\", \"Enteprise\", \"Basic\", \"Premium\", \"Basic\", \"Basic\", \"Basic\", \"Basic\", \"Enteprise\", \"Enteprise\", \"Basic\", \"Premium\", \"Basic\", \"Premium\", \"Enteprise\", \"Basic\", \"Enteprise\", \"Premium\", \"Basic\", \"Basic\", \"Enteprise\", \"Enteprise\", \"Basic\", \"Premium\", \"Basic\", \"Premium\", \"Enteprise\", \"Basic\", \"Enteprise\", \"Enteprise\", \"Basic\", \"Basic\", \"Basic\", \"Enteprise\", \"Premium\", \"Basic\", \"Enteprise\", \"Premium\", \"Basic\", \"Enteprise\", \"Enteprise\", \"Basic\", \"Premium\", \"Basic\", \"Basic\", \"Basic\", \"Enteprise\", \"Premium\", \"Basic\", \"Basic\", \"Enteprise\", \"Premium\", \"Basic\", \"Enteprise\", \"Enteprise\", \"Basic\", \"Premium\", \"Basic\", \"Basic\", \"Basic\", \"Enteprise\", \"Premium\", \"Basic\", \"Enteprise\", \"Enteprise\", \"Basic\", \"Enteprise\", \"Premium\", \"Basic\", \"Enteprise\", \"Enteprise\", \"Basic\", \"Premium\", \"Enteprise\", \"Premium\", \"Basic\", \"Basic\", \"Basic\", \"Enteprise\", \"Premium\", \"Enteprise\", \"Basic\", \"Basic\", \"Enteprise\", \"Basic\", \"Premium\", \"Basic\", \"Basic\", \"Premium\", \"Enteprise\", \"Basic\", \"Basic\", \"Basic\", \"Enteprise\", \"Premium\", \"Basic\", \"Enteprise\", \"Enteprise\", \"Basic\", \"Premium\", \"Basic\", \"Basic\", \"Enteprise\", \"Premium\", \"Basic\", \"Enteprise\", \"Basic\", \"Premium\", \"Basic\", \"Enteprise\", \"Premium\", \"Basic\", \"Enteprise\", \"Enteprise\", \"Basic\", \"Premium\", \"Basic\", \"Basic\", \"Enteprise\", \"Premium\", \"Basic\", \"Enteprise\", \"Basic\", \"Premium\", \"Premium\", \"Basic\", \"Enteprise\", \"Basic\", \"Premium\", \"Basic\", \"Basic\", \"Basic\", \"Basic\", \"Enteprise\", \"Enteprise\", \"Basic\", \"Premium\", \"Basic\", \"Premium\", \"Enteprise\", \"Basic\", \"Enteprise\", \"Premium\", \"Basic\", \"Basic\", \"Enteprise\", \"Enteprise\", \"Basic\", \"Premium\", \"Basic\", \"Premium\", \"Enteprise\", \"Basic\", \"Premium\", \"Basic\", \"Basic\", \"Enteprise\", \"Basic\", \"Enteprise\", \"Premium\", \"Basic\", \"Enteprise\", \"Enteprise\", \"Basic\", \"Premium\", \"Enteprise\", \"Premium\", \"Basic\", \"Basic\", \"Basic\", \"Enteprise\", \"Premium\", \"Enteprise\", \"Basic\", \"Basic\", \"Enteprise\", \"Basic\", \"Premium\", \"Basic\", \"Basic\", \"Premium\", \"Enteprise\", \"Basic\", \"Basic\", \"Basic\", \"Enteprise\", \"Premium\", \"Basic\", \"Enteprise\", \"Enteprise\", \"Basic\", \"Premium\", \"Basic\", \"Basic\", \"Enteprise\", \"Premium\", \"Basic\", \"Enteprise\", \"Basic\", \"Premium\", \"Basic\", \"Enteprise\", \"Premium\", \"Basic\", \"Enteprise\", \"Enteprise\", \"Basic\", \"Premium\", \"Basic\", \"Basic\", \"Enteprise\", \"Premium\", \"Basic\", \"Enteprise\", \"Basic\", \"Premium\", \"Premium\", \"Basic\", \"Enteprise\", \"Basic\", \"Premium\", \"Basic\", \"Basic\", \"Basic\", \"Basic\", \"Enteprise\", \"Enteprise\", \"Basic\", \"Premium\", \"Basic\", \"Premium\", \"Enteprise\", \"Basic\", \"Enteprise\", \"Premium\", \"Basic\", \"Basic\", \"Enteprise\", \"Enteprise\", \"Basic\", \"Premium\", \"Basic\", \"Premium\", \"Enteprise\", \"Basic\", \"Enteprise\", \"Enteprise\", \"Basic\", \"Basic\", \"Basic\", \"Enteprise\", \"Premium\", \"Basic\", \"Enteprise\", \"Enteprise\", \"Premium\", \"Basic\", \"Basic\", \"Enteprise\", \"Basic\", \"Basic\", \"Enteprise\", \"Basic\", \"Premium\", \"Basic\", \"Enteprise\", \"Basic\", \"Enteprise\", \"Premium\", \"Premium\", \"Enteprise\", \"Basic\", \"Basic\", \"Basic\", \"Premium\", \"Basic\", \"Basic\", \"Basic\", \"Enteprise\", \"Basic\", \"Premium\", \"Enteprise\", \"Premium\", \"Basic\", \"Enteprise\", \"Enteprise\", \"Basic\", \"Premium\", \"Basic\", \"Basic\", \"Basic\", \"Enteprise\", \"Premium\", \"Basic\", \"Basic\", \"Enteprise\", \"Premium\", \"Basic\", \"Enteprise\", \"Enteprise\", \"Basic\", \"Premium\", \"Basic\", \"Basic\", \"Basic\", \"Enteprise\", \"Premium\", \"Basic\", \"Enteprise\", \"Enteprise\", \"Basic\", \"Enteprise\", \"Premium\", \"Basic\", \"Enteprise\", \"Enteprise\", \"Basic\", \"Premium\", \"Enteprise\", \"Premium\", \"Basic\", \"Basic\", \"Basic\", \"Enteprise\", \"Premium\", \"Enteprise\", \"Basic\", \"Basic\", \"Enteprise\", \"Basic\", \"Premium\", \"Basic\", \"Basic\", \"Premium\", \"Enteprise\", \"Basic\", \"Basic\", \"Basic\", \"Enteprise\", \"Premium\", \"Basic\", \"Enteprise\", \"Enteprise\", \"Basic\", \"Premium\", \"Basic\", \"Basic\", \"Enteprise\", \"Premium\", \"Basic\", \"Enteprise\", \"Basic\", \"Premium\", \"Basic\", \"Enteprise\", \"Premium\", \"Basic\", \"Enteprise\", \"Enteprise\", \"Basic\", \"Premium\", \"Basic\", \"Basic\", \"Enteprise\", \"Premium\", \"Basic\", \"Enteprise\", \"Basic\", \"Premium\", \"Premium\", \"Basic\", \"Enteprise\", \"Basic\", \"Premium\", \"Basic\", \"Basic\", \"Basic\", \"Basic\", \"Enteprise\", \"Enteprise\", \"Basic\", \"Premium\", \"Basic\", \"Premium\", \"Enteprise\", \"Basic\", \"Enteprise\", \"Premium\", \"Basic\", \"Basic\", \"Enteprise\", \"Enteprise\", \"Basic\", \"Premium\", \"Basic\", \"Premium\", \"Enteprise\", \"Basic\", \"Enteprise\", \"Enteprise\", \"Basic\", \"Basic\", \"Basic\", \"Enteprise\", \"Premium\", \"Basic\", \"Enteprise\", \"Premium\", \"Basic\", \"Enteprise\", \"Enteprise\", \"Basic\", \"Premium\", \"Basic\", \"Basic\", \"Basic\", \"Enteprise\", \"Premium\", \"Basic\", \"Basic\", \"Enteprise\", \"Premium\", \"Basic\", \"Enteprise\", \"Enteprise\", \"Basic\", \"Premium\", \"Basic\", \"Basic\", \"Basic\", \"Enteprise\", \"Premium\", \"Basic\", \"Enteprise\", \"Enteprise\", \"Basic\", \"Enteprise\", \"Premium\", \"Basic\", \"Enteprise\", \"Enteprise\", \"Basic\", \"Premium\", \"Enteprise\", \"Premium\", \"Basic\", \"Basic\", \"Basic\", \"Enteprise\", \"Premium\", \"Enteprise\", \"Basic\", \"Basic\", \"Enteprise\", \"Basic\", \"Premium\", \"Basic\", \"Basic\", \"Premium\", \"Enteprise\", \"Basic\", \"Basic\", \"Basic\", \"Enteprise\", \"Premium\", \"Basic\", \"Enteprise\", \"Enteprise\", \"Basic\", \"Premium\", \"Basic\", \"Basic\", \"Enteprise\", \"Premium\", \"Basic\", \"Enteprise\", \"Basic\", \"Premium\", \"Basic\", \"Enteprise\", \"Premium\", \"Basic\", \"Enteprise\", \"Enteprise\", \"Basic\", \"Premium\", \"Basic\", \"Basic\", \"Enteprise\", \"Premium\", \"Basic\", \"Enteprise\", \"Basic\", \"Premium\", \"Premium\", \"Basic\", \"Enteprise\", \"Basic\", \"Premium\", \"Basic\", \"Basic\", \"Basic\", \"Basic\", \"Enteprise\", \"Enteprise\", \"Basic\", \"Premium\", \"Basic\", \"Premium\", \"Enteprise\", \"Basic\", \"Enteprise\", \"Premium\", \"Basic\", \"Basic\", \"Enteprise\", \"Enteprise\", \"Basic\", \"Premium\", \"Basic\", \"Premium\", \"Enteprise\", \"Basic\", \"Enteprise\", \"Premium\", \"Basic\", \"Enteprise\", \"Enteprise\", \"Basic\", \"Enteprise\", \"Premium\", \"Basic\", \"Enteprise\", \"Enteprise\", \"Basic\", \"Premium\", \"Enteprise\", \"Premium\", \"Basic\", \"Basic\", \"Basic\", \"Enteprise\", \"Premium\", \"Enteprise\", \"Basic\", \"Basic\", \"Enteprise\", \"Basic\", \"Premium\", \"Basic\", \"Basic\", \"Premium\", \"Enteprise\", \"Basic\", \"Basic\", \"Basic\", \"Enteprise\", \"Premium\", \"Basic\", \"Enteprise\", \"Enteprise\", \"Basic\", \"Premium\", \"Basic\", \"Basic\", \"Enteprise\", \"Premium\", \"Basic\", \"Enteprise\", \"Basic\", \"Premium\", \"Basic\", \"Enteprise\", \"Premium\", \"Basic\", \"Enteprise\", \"Enteprise\", \"Basic\", \"Premium\", \"Basic\", \"Basic\", \"Enteprise\", \"Premium\", \"Basic\", \"Enteprise\", \"Basic\", \"Premium\", \"Premium\", \"Basic\", \"Enteprise\", \"Basic\", \"Premium\", \"Basic\", \"Basic\", \"Basic\", \"Basic\", \"Enteprise\", \"Enteprise\", \"Basic\", \"Premium\", \"Basic\", \"Premium\", \"Enteprise\", \"Basic\", \"Enteprise\", \"Premium\", \"Basic\", \"Basic\", \"Enteprise\", \"Enteprise\", \"Basic\", \"Premium\", \"Basic\", \"Premium\", \"Enteprise\", \"Basic\", \"Enteprise\", \"Enteprise\", \"Basic\", \"Basic\", \"Basic\", \"Enteprise\", \"Premium\", \"Basic\", \"Enteprise\", \"Enteprise\", \"Premium\", \"Basic\", \"Basic\", \"Enteprise\", \"Basic\", \"Basic\", \"Enteprise\", \"Basic\", \"Premium\", \"Basic\", \"Enteprise\", \"Basic\", \"Enteprise\", \"Premium\", \"Premium\", \"Enteprise\", \"Basic\", \"Basic\", \"Basic\", \"Premium\", \"Basic\", \"Basic\", \"Basic\", \"Enteprise\", \"Basic\", \"Premium\", \"Enteprise\", \"Premium\", \"Basic\", \"Enteprise\", \"Enteprise\", \"Basic\", \"Premium\", \"Basic\", \"Basic\", \"Basic\", \"Enteprise\", \"Premium\", \"Basic\", \"Basic\", \"Enteprise\", \"Premium\", \"Basic\", \"Enteprise\", \"Enteprise\", \"Basic\", \"Premium\", \"Basic\", \"Basic\", \"Basic\", \"Enteprise\", \"Premium\", \"Basic\", \"Enteprise\", \"Enteprise\", \"Basic\", \"Enteprise\", \"Premium\", \"Basic\", \"Enteprise\", \"Enteprise\", \"Basic\", \"Premium\", \"Enteprise\", \"Premium\", \"Basic\", \"Basic\", \"Basic\", \"Enteprise\", \"Premium\", \"Enteprise\", \"Basic\", \"Basic\", \"Enteprise\", \"Basic\", \"Premium\", \"Basic\", \"Basic\", \"Premium\", \"Enteprise\", \"Basic\", \"Basic\", \"Basic\", \"Enteprise\", \"Premium\", \"Basic\", \"Enteprise\", \"Enteprise\", \"Basic\", \"Premium\", \"Basic\", \"Basic\", \"Enteprise\", \"Premium\", \"Basic\", \"Enteprise\", \"Basic\", \"Premium\", \"Basic\", \"Enteprise\", \"Premium\", \"Basic\", \"Enteprise\", \"Enteprise\", \"Basic\", \"Premium\", \"Basic\", \"Basic\", \"Enteprise\", \"Premium\", \"Basic\", \"Enteprise\", \"Basic\", \"Premium\", \"Premium\", \"Basic\", \"Enteprise\", \"Basic\", \"Premium\", \"Basic\", \"Basic\", \"Basic\", \"Basic\", \"Enteprise\", \"Enteprise\", \"Basic\", \"Premium\", \"Basic\", \"Premium\", \"Enteprise\", \"Basic\", \"Enteprise\", \"Premium\", \"Basic\", \"Basic\", \"Enteprise\", \"Enteprise\", \"Basic\", \"Premium\", \"Basic\", \"Premium\", \"Enteprise\", \"Basic\", \"Enteprise\", \"Enteprise\", \"Basic\", \"Basic\", \"Basic\", \"Enteprise\", \"Premium\", \"Basic\", \"Enteprise\", \"Premium\", \"Basic\", \"Enteprise\", \"Enteprise\", \"Basic\", \"Premium\", \"Basic\", \"Basic\", \"Basic\", \"Enteprise\", \"Premium\", \"Basic\", \"Basic\", \"Enteprise\", \"Premium\", \"Basic\", \"Enteprise\", \"Enteprise\", \"Basic\", \"Premium\", \"Basic\", \"Basic\", \"Basic\", \"Enteprise\", \"Premium\", \"Basic\", \"Enteprise\", \"Enteprise\", \"Basic\", \"Enteprise\", \"Premium\", \"Basic\", \"Enteprise\", \"Enteprise\", \"Basic\", \"Premium\", \"Enteprise\", \"Premium\", \"Basic\", \"Basic\", \"Basic\", \"Enteprise\", \"Premium\", \"Enteprise\", \"Basic\", \"Basic\", \"Enteprise\", \"Basic\", \"Premium\", \"Basic\", \"Basic\", \"Premium\", \"Enteprise\", \"Basic\", \"Basic\", \"Basic\", \"Enteprise\", \"Premium\", \"Basic\", \"Enteprise\", \"Enteprise\", \"Basic\", \"Premium\", \"Basic\", \"Basic\", \"Enteprise\", \"Premium\", \"Basic\", \"Enteprise\", \"Basic\", \"Premium\", \"Basic\", \"Enteprise\", \"Premium\", \"Basic\", \"Enteprise\", \"Enteprise\", \"Basic\", \"Premium\", \"Basic\", \"Basic\", \"Enteprise\", \"Premium\", \"Basic\", \"Enteprise\", \"Basic\", \"Premium\", \"Premium\", \"Basic\", \"Enteprise\", \"Basic\", \"Premium\", \"Basic\", \"Basic\", \"Basic\", \"Basic\", \"Enteprise\", \"Enteprise\", \"Basic\", \"Premium\", \"Basic\", \"Premium\", \"Enteprise\", \"Basic\", \"Enteprise\", \"Premium\", \"Basic\", \"Basic\", \"Enteprise\", \"Enteprise\", \"Basic\", \"Premium\", \"Basic\", \"Premium\", \"Enteprise\", \"Basic\", \"Enteprise\", \"Premium\", \"Basic\", \"Enteprise\", \"Enteprise\", \"Basic\", \"Premium\", \"Basic\", \"Premium\", \"Enteprise\", \"Basic\", \"Enteprise\", \"Premium\", \"Basic\", \"Basic\", \"Enteprise\", \"Enteprise\", \"Basic\", \"Premium\", \"Basic\", \"Premium\", \"Enteprise\", \"Basic\", \"Enteprise\", \"Enteprise\", \"Basic\", \"Basic\", \"Basic\", \"Enteprise\", \"Premium\", \"Basic\", \"Enteprise\", \"Enteprise\", \"Premium\", \"Basic\", \"Basic\", \"Enteprise\", \"Basic\", \"Basic\", \"Enteprise\", \"Basic\", \"Premium\", \"Basic\", \"Enteprise\", \"Basic\", \"Enteprise\", \"Premium\", \"Premium\", \"Enteprise\", \"Basic\", \"Basic\", \"Basic\", \"Premium\", \"Basic\", \"Basic\", \"Basic\", \"Enteprise\", \"Basic\", \"Premium\", \"Enteprise\", \"Premium\", \"Basic\", \"Enteprise\", \"Enteprise\", \"Basic\", \"Premium\", \"Basic\", \"Basic\", \"Basic\", \"Enteprise\", \"Premium\", \"Basic\", \"Basic\", \"Enteprise\", \"Premium\", \"Basic\", \"Enteprise\", \"Enteprise\", \"Basic\", \"Premium\", \"Basic\", \"Basic\", \"Basic\", \"Enteprise\", \"Premium\", \"Basic\", \"Enteprise\", \"Enteprise\", \"Basic\", \"Enteprise\", \"Premium\", \"Basic\", \"Enteprise\", \"Enteprise\", \"Basic\", \"Premium\", \"Enteprise\", \"Premium\", \"Basic\", \"Basic\", \"Basic\", \"Enteprise\", \"Premium\", \"Enteprise\", \"Basic\", \"Basic\", \"Enteprise\", \"Basic\", \"Premium\", \"Basic\", \"Basic\", \"Premium\", \"Enteprise\", \"Basic\", \"Basic\", \"Basic\", \"Enteprise\", \"Premium\", \"Basic\", \"Enteprise\", \"Enteprise\", \"Basic\", \"Premium\", \"Basic\", \"Basic\", \"Enteprise\", \"Premium\", \"Basic\", \"Enteprise\", \"Basic\", \"Premium\", \"Basic\", \"Enteprise\", \"Premium\", \"Basic\", \"Enteprise\", \"Enteprise\", \"Basic\", \"Premium\", \"Basic\", \"Basic\", \"Enteprise\", \"Premium\", \"Basic\", \"Enteprise\", \"Basic\", \"Premium\", \"Premium\", \"Basic\", \"Enteprise\", \"Basic\", \"Premium\", \"Basic\", \"Basic\", \"Basic\", \"Basic\", \"Enteprise\", \"Enteprise\", \"Basic\", \"Premium\", \"Basic\", \"Premium\", \"Enteprise\", \"Basic\", \"Enteprise\", \"Premium\", \"Basic\", \"Basic\", \"Enteprise\", \"Enteprise\", \"Basic\", \"Premium\", \"Basic\", \"Premium\", \"Enteprise\", \"Basic\", \"Enteprise\", \"Enteprise\", \"Basic\", \"Basic\", \"Basic\", \"Enteprise\", \"Premium\", \"Basic\", \"Enteprise\", \"Premium\", \"Basic\", \"Enteprise\", \"Enteprise\", \"Basic\", \"Premium\", \"Basic\", \"Basic\", \"Basic\", \"Enteprise\", \"Premium\", \"Basic\", \"Basic\", \"Enteprise\", \"Premium\", \"Basic\", \"Enteprise\", \"Enteprise\", \"Basic\", \"Premium\", \"Basic\", \"Basic\", \"Basic\", \"Enteprise\", \"Premium\", \"Basic\", \"Enteprise\", \"Enteprise\", \"Basic\", \"Enteprise\", \"Premium\", \"Basic\", \"Enteprise\", \"Enteprise\", \"Basic\", \"Premium\", \"Enteprise\", \"Premium\", \"Basic\", \"Basic\", \"Basic\", \"Enteprise\", \"Premium\", \"Enteprise\", \"Basic\", \"Basic\", \"Enteprise\", \"Basic\", \"Premium\", \"Basic\", \"Basic\", \"Premium\", \"Enteprise\", \"Basic\", \"Basic\", \"Basic\", \"Enteprise\", \"Premium\", \"Basic\", \"Enteprise\", \"Enteprise\", \"Basic\", \"Premium\", \"Basic\", \"Basic\", \"Enteprise\", \"Premium\", \"Basic\", \"Enteprise\", \"Basic\", \"Premium\", \"Basic\", \"Enteprise\", \"Premium\", \"Basic\", \"Enteprise\", \"Enteprise\", \"Basic\", \"Premium\", \"Basic\", \"Basic\", \"Enteprise\", \"Premium\", \"Basic\", \"Enteprise\", \"Basic\", \"Premium\", \"Premium\", \"Basic\", \"Enteprise\", \"Basic\", \"Premium\", \"Basic\", \"Basic\", \"Basic\", \"Basic\", \"Enteprise\", \"Enteprise\", \"Basic\", \"Premium\", \"Basic\", \"Premium\", \"Enteprise\", \"Basic\", \"Enteprise\", \"Premium\", \"Basic\", \"Basic\", \"Enteprise\", \"Enteprise\", \"Basic\", \"Premium\", \"Basic\", \"Premium\", \"Enteprise\", \"Basic\", \"Premium\", \"Basic\", \"Basic\", \"Enteprise\", \"Basic\", \"Enteprise\", \"Premium\", \"Basic\", \"Enteprise\", \"Enteprise\", \"Basic\", \"Premium\", \"Enteprise\", \"Premium\", \"Basic\", \"Basic\", \"Basic\", \"Enteprise\", \"Premium\", \"Enteprise\", \"Basic\", \"Basic\", \"Enteprise\", \"Basic\", \"Premium\", \"Basic\", \"Basic\", \"Premium\", \"Enteprise\", \"Basic\", \"Basic\", \"Basic\", \"Enteprise\", \"Premium\", \"Basic\", \"Enteprise\", \"Enteprise\", \"Basic\", \"Premium\", \"Basic\", \"Basic\", \"Enteprise\", \"Premium\", \"Basic\", \"Enteprise\", \"Basic\", \"Premium\", \"Basic\", \"Enteprise\", \"Premium\", \"Basic\", \"Enteprise\", \"Enteprise\", \"Basic\", \"Premium\", \"Basic\", \"Basic\", \"Enteprise\", \"Premium\", \"Basic\", \"Enteprise\", \"Basic\", \"Premium\", \"Premium\", \"Basic\", \"Enteprise\", \"Basic\", \"Premium\", \"Basic\", \"Basic\", \"Basic\", \"Basic\", \"Enteprise\", \"Enteprise\", \"Basic\", \"Premium\", \"Basic\", \"Premium\", \"Enteprise\", \"Basic\", \"Enteprise\", \"Premium\", \"Basic\", \"Basic\", \"Enteprise\", \"Enteprise\", \"Basic\", \"Premium\", \"Basic\", \"Premium\", \"Enteprise\", \"Basic\", \"Enteprise\", \"Enteprise\", \"Basic\", \"Basic\", \"Basic\", \"Enteprise\", \"Premium\", \"Basic\", \"Enteprise\", \"Enteprise\", \"Premium\", \"Basic\", \"Basic\", \"Enteprise\", \"Basic\", \"Basic\", \"Enteprise\", \"Basic\", \"Premium\", \"Basic\", \"Enteprise\", \"Basic\", \"Enteprise\", \"Premium\", \"Premium\", \"Enteprise\", \"Basic\", \"Basic\", \"Basic\", \"Premium\", \"Basic\", \"Basic\", \"Basic\", \"Enteprise\", \"Basic\", \"Premium\", \"Enteprise\", \"Premium\", \"Basic\", \"Enteprise\", \"Enteprise\", \"Basic\", \"Premium\", \"Basic\", \"Basic\", \"Basic\", \"Enteprise\", \"Premium\", \"Basic\", \"Basic\", \"Enteprise\", \"Premium\", \"Basic\", \"Enteprise\", \"Enteprise\", \"Basic\", \"Premium\", \"Basic\", \"Basic\", \"Basic\", \"Enteprise\", \"Premium\", \"Basic\", \"Enteprise\", \"Enteprise\", \"Basic\", \"Enteprise\", \"Premium\", \"Basic\", \"Enteprise\", \"Enteprise\", \"Basic\", \"Premium\", \"Enteprise\", \"Premium\", \"Basic\", \"Basic\", \"Basic\", \"Enteprise\", \"Premium\", \"Enteprise\", \"Basic\", \"Basic\", \"Enteprise\", \"Basic\", \"Premium\", \"Basic\", \"Basic\", \"Premium\", \"Enteprise\", \"Basic\", \"Basic\", \"Basic\", \"Enteprise\", \"Premium\", \"Basic\", \"Enteprise\", \"Enteprise\", \"Basic\", \"Premium\", \"Basic\", \"Basic\", \"Enteprise\", \"Premium\", \"Basic\", \"Enteprise\", \"Basic\", \"Premium\", \"Basic\", \"Enteprise\", \"Premium\", \"Basic\", \"Enteprise\", \"Enteprise\", \"Basic\", \"Premium\", \"Basic\", \"Basic\", \"Enteprise\", \"Premium\", \"Basic\", \"Enteprise\", \"Basic\", \"Premium\", \"Premium\", \"Basic\", \"Enteprise\", \"Basic\", \"Premium\", \"Basic\", \"Basic\", \"Basic\", \"Basic\", \"Enteprise\", \"Enteprise\", \"Basic\", \"Premium\", \"Basic\", \"Premium\", \"Enteprise\", \"Basic\", \"Enteprise\", \"Premium\", \"Basic\", \"Basic\", \"Enteprise\", \"Enteprise\", \"Basic\", \"Premium\", \"Basic\", \"Premium\", \"Enteprise\", \"Basic\", \"Enteprise\", \"Enteprise\", \"Basic\", \"Basic\", \"Basic\", \"Enteprise\", \"Premium\", \"Basic\", \"Enteprise\", \"Premium\", \"Basic\", \"Enteprise\", \"Enteprise\", \"Basic\", \"Premium\", \"Basic\", \"Basic\", \"Basic\", \"Enteprise\", \"Premium\", \"Basic\", \"Basic\", \"Enteprise\", \"Premium\", \"Basic\", \"Enteprise\", \"Enteprise\", \"Basic\", \"Premium\", \"Basic\", \"Basic\", \"Basic\", \"Enteprise\", \"Premium\", \"Basic\", \"Enteprise\", \"Enteprise\", \"Basic\", \"Enteprise\", \"Premium\", \"Basic\", \"Enteprise\", \"Enteprise\", \"Basic\", \"Premium\", \"Enteprise\", \"Premium\", \"Basic\", \"Basic\", \"Basic\", \"Enteprise\", \"Premium\", \"Enteprise\", \"Basic\", \"Basic\", \"Enteprise\", \"Basic\", \"Premium\", \"Basic\", \"Basic\", \"Premium\", \"Enteprise\", \"Basic\", \"Basic\", \"Basic\", \"Enteprise\", \"Premium\", \"Basic\", \"Enteprise\", \"Enteprise\", \"Basic\", \"Premium\", \"Basic\", \"Basic\", \"Enteprise\", \"Premium\", \"Basic\", \"Enteprise\", \"Basic\", \"Premium\", \"Basic\", \"Enteprise\", \"Premium\", \"Basic\", \"Enteprise\", \"Enteprise\", \"Basic\", \"Premium\", \"Basic\", \"Basic\", \"Enteprise\", \"Premium\", \"Basic\", \"Enteprise\", \"Basic\", \"Premium\", \"Premium\", \"Basic\", \"Enteprise\", \"Basic\", \"Premium\", \"Basic\", \"Basic\", \"Basic\", \"Basic\", \"Enteprise\", \"Enteprise\", \"Basic\", \"Premium\", \"Basic\", \"Premium\", \"Enteprise\", \"Basic\", \"Enteprise\", \"Premium\", \"Basic\", \"Basic\", \"Enteprise\", \"Enteprise\", \"Basic\", \"Premium\", \"Basic\", \"Premium\", \"Enteprise\", \"Basic\", \"Enteprise\", \"Premium\", \"Basic\", \"Enteprise\", \"Enteprise\", \"Basic\", \"Enteprise\", \"Premium\", \"Basic\", \"Enteprise\", \"Enteprise\", \"Basic\", \"Premium\", \"Enteprise\", \"Premium\", \"Basic\", \"Basic\", \"Basic\", \"Enteprise\", \"Premium\", \"Enteprise\", \"Basic\", \"Basic\", \"Enteprise\", \"Basic\", \"Premium\", \"Basic\", \"Basic\", \"Premium\", \"Enteprise\", \"Basic\", \"Basic\", \"Basic\", \"Enteprise\", \"Premium\", \"Basic\", \"Enteprise\", \"Enteprise\", \"Basic\", \"Premium\", \"Basic\", \"Basic\", \"Enteprise\", \"Premium\", \"Basic\", \"Enteprise\", \"Basic\", \"Premium\", \"Basic\", \"Enteprise\", \"Premium\", \"Basic\", \"Enteprise\", \"Enteprise\", \"Basic\", \"Premium\", \"Basic\", \"Basic\", \"Enteprise\", \"Premium\", \"Basic\", \"Enteprise\", \"Basic\", \"Premium\", \"Premium\", \"Basic\", \"Enteprise\", \"Basic\", \"Premium\", \"Basic\", \"Basic\", \"Basic\", \"Basic\", \"Enteprise\", \"Enteprise\", \"Basic\", \"Premium\", \"Basic\", \"Premium\", \"Enteprise\", \"Basic\", \"Enteprise\", \"Premium\", \"Basic\", \"Basic\", \"Enteprise\", \"Enteprise\", \"Basic\", \"Premium\", \"Basic\", \"Premium\", \"Enteprise\", \"Basic\", \"Enteprise\", \"Enteprise\", \"Basic\", \"Basic\", \"Basic\", \"Enteprise\", \"Premium\", \"Basic\", \"Enteprise\", \"Enteprise\", \"Premium\", \"Basic\", \"Basic\", \"Enteprise\", \"Basic\", \"Basic\", \"Enteprise\", \"Basic\", \"Premium\", \"Basic\", \"Enteprise\", \"Basic\", \"Enteprise\", \"Premium\", \"Premium\", \"Enteprise\", \"Basic\", \"Basic\", \"Basic\", \"Premium\", \"Basic\", \"Basic\", \"Basic\", \"Enteprise\", \"Basic\", \"Premium\", \"Enteprise\", \"Premium\", \"Basic\", \"Enteprise\", \"Enteprise\", \"Basic\", \"Premium\", \"Basic\", \"Basic\", \"Basic\", \"Enteprise\", \"Premium\", \"Basic\", \"Basic\", \"Enteprise\", \"Premium\", \"Basic\", \"Enteprise\", \"Enteprise\", \"Basic\", \"Premium\", \"Basic\", \"Basic\", \"Basic\", \"Enteprise\", \"Premium\", \"Basic\", \"Enteprise\", \"Enteprise\", \"Basic\", \"Enteprise\", \"Premium\", \"Basic\", \"Enteprise\", \"Enteprise\", \"Basic\", \"Premium\", \"Enteprise\", \"Premium\", \"Basic\", \"Basic\", \"Basic\", \"Enteprise\", \"Premium\", \"Enteprise\", \"Basic\", \"Basic\", \"Enteprise\", \"Basic\", \"Premium\", \"Basic\", \"Basic\", \"Premium\", \"Enteprise\", \"Basic\", \"Basic\", \"Basic\", \"Enteprise\", \"Premium\", \"Basic\", \"Enteprise\", \"Enteprise\", \"Basic\", \"Premium\", \"Basic\", \"Basic\", \"Enteprise\", \"Premium\", \"Basic\", \"Enteprise\", \"Basic\", \"Premium\", \"Basic\", \"Enteprise\", \"Premium\", \"Basic\", \"Enteprise\", \"Enteprise\", \"Basic\", \"Premium\", \"Basic\", \"Basic\", \"Enteprise\", \"Premium\", \"Basic\", \"Enteprise\", \"Basic\", \"Premium\", \"Premium\", \"Basic\", \"Enteprise\", \"Basic\", \"Premium\", \"Basic\", \"Basic\", \"Basic\", \"Basic\", \"Enteprise\", \"Enteprise\", \"Basic\", \"Premium\", \"Basic\", \"Premium\", \"Enteprise\", \"Basic\", \"Enteprise\", \"Premium\", \"Basic\", \"Basic\", \"Enteprise\", \"Enteprise\", \"Basic\", \"Premium\", \"Basic\", \"Premium\", \"Enteprise\", \"Basic\", \"Enteprise\", \"Enteprise\", \"Basic\", \"Basic\", \"Basic\", \"Enteprise\", \"Premium\", \"Basic\", \"Enteprise\", \"Premium\", \"Basic\", \"Enteprise\", \"Enteprise\", \"Basic\", \"Premium\", \"Basic\", \"Basic\", \"Basic\", \"Enteprise\", \"Premium\", \"Basic\", \"Basic\", \"Enteprise\", \"Premium\", \"Basic\", \"Enteprise\", \"Enteprise\", \"Basic\", \"Premium\", \"Basic\", \"Basic\", \"Basic\", \"Enteprise\", \"Premium\", \"Basic\", \"Enteprise\", \"Enteprise\", \"Basic\", \"Enteprise\", \"Premium\", \"Basic\", \"Enteprise\", \"Enteprise\", \"Basic\", \"Premium\", \"Enteprise\", \"Premium\", \"Basic\", \"Basic\", \"Basic\", \"Enteprise\", \"Premium\", \"Enteprise\", \"Basic\", \"Basic\", \"Enteprise\", \"Basic\", \"Premium\", \"Basic\", \"Basic\", \"Premium\", \"Enteprise\", \"Basic\", \"Basic\", \"Basic\", \"Enteprise\", \"Premium\", \"Basic\", \"Enteprise\", \"Enteprise\", \"Basic\", \"Premium\", \"Basic\", \"Basic\", \"Enteprise\", \"Premium\", \"Basic\", \"Enteprise\", \"Basic\", \"Premium\", \"Basic\", \"Enteprise\", \"Premium\", \"Basic\", \"Enteprise\", \"Enteprise\", \"Basic\", \"Premium\", \"Basic\", \"Basic\", \"Enteprise\", \"Premium\", \"Basic\", \"Enteprise\", \"Basic\", \"Premium\", \"Premium\", \"Basic\", \"Enteprise\", \"Basic\", \"Premium\", \"Basic\", \"Basic\", \"Basic\", \"Basic\", \"Enteprise\", \"Enteprise\", \"Basic\", \"Premium\", \"Basic\", \"Premium\", \"Enteprise\", \"Basic\", \"Enteprise\", \"Premium\", \"Basic\", \"Basic\", \"Enteprise\", \"Enteprise\", \"Basic\", \"Premium\", \"Basic\", \"Premium\", \"Enteprise\", \"Basic\", \"Enteprise\", \"Basic\", \"Basic\", \"Enteprise\", \"Enteprise\", \"Basic\", \"Premium\", \"Basic\", \"Premium\", \"Enteprise\", \"Basic\", \"Enteprise\", \"Premium\", \"Basic\", \"Basic\", \"Enteprise\", \"Enteprise\", \"Basic\", \"Premium\", \"Basic\", \"Premium\", \"Enteprise\", \"Basic\", \"Enteprise\", \"Enteprise\", \"Basic\", \"Basic\", \"Basic\", \"Enteprise\", \"Premium\", \"Basic\", \"Enteprise\", \"Enteprise\", \"Premium\", \"Basic\", \"Basic\", \"Enteprise\", \"Basic\", \"Basic\", \"Enteprise\", \"Basic\", \"Premium\", \"Basic\", \"Enteprise\", \"Basic\", \"Enteprise\", \"Premium\", \"Premium\", \"Enteprise\", \"Basic\", \"Basic\", \"Basic\", \"Premium\", \"Basic\", \"Basic\", \"Basic\", \"Enteprise\", \"Basic\", \"Premium\", \"Enteprise\", \"Premium\", \"Basic\", \"Enteprise\", \"Enteprise\", \"Basic\", \"Premium\", \"Basic\", \"Basic\", \"Basic\", \"Enteprise\", \"Premium\", \"Basic\", \"Basic\", \"Enteprise\", \"Premium\", \"Basic\", \"Enteprise\", \"Enteprise\", \"Basic\", \"Premium\", \"Basic\", \"Basic\", \"Basic\", \"Enteprise\", \"Premium\", \"Basic\", \"Enteprise\", \"Enteprise\", \"Basic\", \"Enteprise\", \"Premium\", \"Basic\", \"Enteprise\", \"Enteprise\", \"Basic\", \"Premium\", \"Enteprise\", \"Premium\", \"Basic\", \"Basic\", \"Basic\", \"Enteprise\", \"Premium\", \"Enteprise\", \"Basic\", \"Basic\", \"Enteprise\", \"Basic\", \"Premium\", \"Basic\", \"Basic\", \"Premium\", \"Enteprise\", \"Basic\", \"Basic\", \"Basic\", \"Enteprise\", \"Premium\", \"Basic\", \"Enteprise\", \"Enteprise\", \"Basic\", \"Premium\", \"Basic\", \"Basic\", \"Enteprise\", \"Premium\", \"Basic\", \"Enteprise\", \"Basic\", \"Premium\", \"Basic\", \"Enteprise\", \"Premium\", \"Basic\", \"Enteprise\", \"Enteprise\", \"Basic\", \"Premium\", \"Basic\", \"Basic\", \"Enteprise\", \"Premium\", \"Basic\", \"Enteprise\", \"Basic\", \"Premium\", \"Premium\", \"Basic\", \"Enteprise\", \"Basic\", \"Premium\", \"Basic\", \"Basic\", \"Basic\", \"Basic\", \"Enteprise\", \"Enteprise\", \"Basic\", \"Premium\", \"Basic\", \"Premium\", \"Enteprise\", \"Basic\", \"Enteprise\", \"Premium\", \"Basic\", \"Basic\", \"Enteprise\", \"Enteprise\", \"Basic\", \"Premium\", \"Basic\", \"Premium\", \"Enteprise\", \"Basic\", \"Enteprise\", \"Enteprise\", \"Basic\", \"Basic\", \"Basic\", \"Enteprise\", \"Premium\", \"Basic\", \"Enteprise\", \"Premium\", \"Basic\", \"Enteprise\", \"Enteprise\", \"Basic\", \"Premium\", \"Basic\", \"Basic\", \"Basic\", \"Enteprise\", \"Premium\", \"Basic\", \"Basic\", \"Enteprise\", \"Premium\", \"Basic\", \"Enteprise\", \"Enteprise\", \"Basic\", \"Premium\", \"Basic\", \"Basic\", \"Basic\", \"Enteprise\", \"Premium\", \"Basic\", \"Enteprise\", \"Enteprise\", \"Basic\", \"Enteprise\", \"Premium\", \"Basic\", \"Enteprise\", \"Enteprise\", \"Basic\", \"Premium\", \"Enteprise\", \"Premium\", \"Basic\", \"Basic\", \"Basic\", \"Enteprise\", \"Premium\", \"Enteprise\", \"Basic\", \"Basic\", \"Enteprise\", \"Basic\", \"Premium\", \"Basic\", \"Basic\", \"Premium\", \"Enteprise\", \"Basic\", \"Basic\", \"Basic\", \"Enteprise\", \"Premium\", \"Basic\", \"Enteprise\", \"Enteprise\", \"Basic\", \"Premium\", \"Basic\", \"Basic\", \"Enteprise\", \"Premium\", \"Basic\", \"Enteprise\", \"Basic\", \"Premium\", \"Basic\", \"Enteprise\", \"Premium\", \"Basic\", \"Enteprise\", \"Enteprise\", \"Basic\", \"Premium\", \"Basic\", \"Basic\", \"Enteprise\", \"Premium\", \"Basic\", \"Enteprise\", \"Basic\", \"Premium\", \"Premium\", \"Basic\", \"Enteprise\", \"Basic\", \"Premium\", \"Basic\", \"Basic\", \"Basic\", \"Basic\", \"Enteprise\", \"Enteprise\", \"Basic\", \"Premium\", \"Basic\", \"Premium\", \"Enteprise\", \"Basic\", \"Enteprise\", \"Premium\", \"Basic\", \"Basic\", \"Enteprise\", \"Enteprise\", \"Basic\", \"Premium\", \"Basic\", \"Premium\", \"Enteprise\", \"Basic\", \"Premium\", \"Basic\", \"Basic\", \"Enteprise\", \"Basic\", \"Enteprise\", \"Premium\", \"Basic\", \"Enteprise\", \"Enteprise\", \"Basic\", \"Premium\", \"Enteprise\", \"Premium\", \"Basic\", \"Basic\", \"Basic\", \"Enteprise\", \"Premium\", \"Enteprise\", \"Basic\", \"Basic\", \"Enteprise\", \"Basic\", \"Premium\", \"Basic\", \"Basic\", \"Premium\", \"Enteprise\", \"Basic\", \"Basic\", \"Basic\", \"Enteprise\", \"Premium\", \"Basic\", \"Enteprise\", \"Enteprise\", \"Basic\", \"Premium\", \"Basic\", \"Basic\", \"Enteprise\", \"Premium\", \"Basic\", \"Enteprise\", \"Basic\", \"Premium\", \"Basic\", \"Enteprise\", \"Premium\", \"Basic\", \"Enteprise\", \"Enteprise\", \"Basic\", \"Premium\", \"Basic\", \"Basic\", \"Enteprise\", \"Premium\", \"Basic\", \"Enteprise\", \"Basic\", \"Premium\", \"Premium\", \"Basic\", \"Enteprise\", \"Basic\", \"Premium\", \"Basic\", \"Basic\", \"Basic\", \"Basic\", \"Enteprise\", \"Enteprise\", \"Basic\", \"Premium\", \"Basic\", \"Premium\", \"Enteprise\", \"Basic\", \"Enteprise\", \"Premium\", \"Basic\", \"Basic\", \"Enteprise\", \"Enteprise\", \"Basic\", \"Premium\", \"Basic\", \"Premium\", \"Enteprise\", \"Basic\", \"Enteprise\", \"Enteprise\", \"Basic\", \"Basic\", \"Basic\", \"Enteprise\", \"Premium\", \"Basic\", \"Enteprise\", \"Enteprise\", \"Premium\", \"Basic\", \"Basic\", \"Enteprise\", \"Basic\", \"Basic\", \"Enteprise\", \"Basic\", \"Premium\", \"Basic\", \"Enteprise\", \"Basic\", \"Enteprise\", \"Premium\", \"Premium\", \"Enteprise\", \"Basic\", \"Basic\", \"Basic\", \"Premium\", \"Basic\", \"Basic\", \"Basic\", \"Enteprise\", \"Basic\", \"Premium\", \"Enteprise\", \"Premium\", \"Basic\", \"Enteprise\", \"Enteprise\", \"Basic\", \"Premium\", \"Basic\", \"Basic\", \"Basic\", \"Enteprise\", \"Premium\", \"Basic\", \"Basic\", \"Enteprise\", \"Premium\", \"Basic\", \"Enteprise\", \"Enteprise\", \"Basic\", \"Premium\", \"Basic\", \"Basic\", \"Basic\", \"Enteprise\", \"Premium\", \"Basic\", \"Enteprise\", \"Enteprise\", \"Basic\", \"Enteprise\", \"Premium\", \"Basic\", \"Enteprise\", \"Enteprise\", \"Basic\", \"Premium\", \"Enteprise\", \"Premium\", \"Basic\", \"Basic\", \"Basic\", \"Enteprise\", \"Premium\", \"Enteprise\", \"Basic\", \"Basic\", \"Enteprise\", \"Basic\", \"Premium\", \"Basic\", \"Basic\", \"Premium\", \"Enteprise\", \"Basic\", \"Basic\", \"Basic\", \"Enteprise\", \"Premium\", \"Basic\", \"Enteprise\", \"Enteprise\", \"Basic\", \"Premium\", \"Basic\", \"Basic\", \"Enteprise\", \"Premium\", \"Basic\", \"Enteprise\", \"Basic\", \"Premium\", \"Basic\", \"Enteprise\", \"Premium\", \"Basic\", \"Enteprise\", \"Enteprise\", \"Basic\", \"Premium\", \"Basic\", \"Basic\", \"Enteprise\", \"Premium\", \"Basic\", \"Enteprise\", \"Basic\", \"Premium\", \"Premium\", \"Basic\", \"Enteprise\", \"Basic\", \"Premium\", \"Basic\", \"Basic\", \"Basic\", \"Basic\", \"Enteprise\", \"Enteprise\", \"Basic\", \"Premium\", \"Basic\", \"Premium\", \"Enteprise\", \"Basic\", \"Enteprise\", \"Premium\", \"Basic\", \"Basic\", \"Enteprise\", \"Enteprise\", \"Basic\", \"Premium\", \"Basic\", \"Premium\", \"Enteprise\", \"Basic\", \"Enteprise\", \"Enteprise\", \"Basic\", \"Basic\", \"Basic\", \"Enteprise\", \"Premium\", \"Basic\", \"Enteprise\", \"Premium\", \"Basic\", \"Enteprise\", \"Enteprise\", \"Basic\", \"Premium\", \"Basic\", \"Basic\", \"Basic\", \"Enteprise\", \"Premium\", \"Basic\", \"Basic\", \"Enteprise\", \"Premium\", \"Basic\", \"Enteprise\", \"Enteprise\", \"Basic\", \"Premium\", \"Basic\", \"Basic\", \"Basic\", \"Enteprise\", \"Premium\", \"Basic\", \"Enteprise\", \"Enteprise\", \"Basic\", \"Enteprise\", \"Premium\", \"Basic\", \"Enteprise\", \"Enteprise\", \"Basic\", \"Premium\", \"Enteprise\", \"Premium\", \"Basic\", \"Basic\", \"Basic\", \"Enteprise\", \"Premium\", \"Enteprise\", \"Basic\", \"Basic\", \"Enteprise\", \"Basic\", \"Premium\", \"Basic\", \"Basic\", \"Premium\", \"Enteprise\", \"Basic\", \"Basic\", \"Basic\", \"Enteprise\", \"Premium\", \"Basic\", \"Enteprise\", \"Enteprise\", \"Basic\", \"Premium\", \"Basic\", \"Basic\", \"Enteprise\", \"Premium\", \"Basic\", \"Enteprise\", \"Basic\", \"Premium\", \"Basic\", \"Enteprise\", \"Premium\", \"Basic\", \"Enteprise\", \"Enteprise\", \"Basic\", \"Premium\", \"Basic\", \"Basic\", \"Enteprise\", \"Premium\", \"Basic\", \"Enteprise\", \"Basic\", \"Premium\", \"Premium\", \"Basic\", \"Enteprise\", \"Basic\", \"Premium\", \"Basic\", \"Basic\", \"Basic\", \"Basic\", \"Enteprise\", \"Enteprise\", \"Basic\", \"Premium\", \"Basic\", \"Premium\", \"Enteprise\", \"Basic\", \"Enteprise\", \"Premium\", \"Basic\", \"Basic\", \"Enteprise\", \"Enteprise\", \"Basic\", \"Premium\", \"Basic\", \"Premium\", \"Enteprise\", \"Basic\", \"Enteprise\", \"Premium\", \"Basic\", \"Enteprise\", \"Enteprise\", \"Basic\", \"Enteprise\", \"Premium\", \"Basic\", \"Enteprise\", \"Enteprise\", \"Basic\", \"Premium\", \"Enteprise\", \"Premium\", \"Basic\", \"Basic\", \"Basic\", \"Enteprise\", \"Premium\", \"Enteprise\", \"Basic\", \"Basic\", \"Enteprise\", \"Basic\", \"Premium\", \"Basic\", \"Basic\", \"Premium\", \"Enteprise\", \"Basic\", \"Basic\", \"Basic\", \"Enteprise\", \"Premium\", \"Basic\", \"Enteprise\", \"Enteprise\", \"Basic\", \"Premium\", \"Basic\", \"Basic\", \"Enteprise\", \"Premium\", \"Basic\", \"Enteprise\", \"Basic\", \"Premium\", \"Basic\", \"Enteprise\", \"Premium\", \"Basic\", \"Enteprise\", \"Enteprise\", \"Basic\", \"Premium\", \"Basic\", \"Basic\", \"Enteprise\", \"Premium\", \"Basic\", \"Enteprise\", \"Basic\", \"Premium\", \"Premium\", \"Basic\", \"Enteprise\", \"Basic\", \"Premium\", \"Basic\", \"Basic\", \"Basic\", \"Basic\", \"Enteprise\", \"Enteprise\", \"Basic\", \"Premium\", \"Basic\", \"Premium\", \"Enteprise\", \"Basic\", \"Enteprise\", \"Premium\", \"Basic\", \"Basic\", \"Enteprise\", \"Enteprise\", \"Basic\", \"Premium\", \"Basic\", \"Premium\", \"Enteprise\", \"Basic\", \"Enteprise\", \"Enteprise\", \"Basic\", \"Basic\", \"Basic\", \"Enteprise\", \"Premium\", \"Basic\", \"Enteprise\", \"Enteprise\", \"Premium\", \"Basic\", \"Basic\", \"Enteprise\", \"Basic\", \"Basic\", \"Enteprise\", \"Basic\", \"Premium\", \"Basic\", \"Enteprise\", \"Basic\", \"Enteprise\", \"Premium\", \"Premium\", \"Enteprise\", \"Basic\", \"Basic\", \"Basic\", \"Premium\", \"Basic\", \"Basic\", \"Basic\", \"Enteprise\", \"Basic\", \"Premium\", \"Enteprise\", \"Premium\", \"Basic\", \"Enteprise\", \"Enteprise\", \"Basic\", \"Premium\", \"Basic\", \"Basic\", \"Basic\", \"Enteprise\", \"Premium\", \"Basic\", \"Basic\", \"Enteprise\", \"Premium\", \"Basic\", \"Enteprise\", \"Enteprise\", \"Basic\", \"Premium\", \"Basic\", \"Basic\", \"Basic\", \"Enteprise\", \"Premium\", \"Basic\", \"Enteprise\", \"Enteprise\", \"Basic\", \"Enteprise\", \"Premium\", \"Basic\", \"Enteprise\", \"Enteprise\", \"Basic\", \"Premium\", \"Enteprise\", \"Premium\", \"Basic\", \"Basic\", \"Basic\", \"Enteprise\", \"Premium\", \"Enteprise\", \"Basic\", \"Basic\", \"Enteprise\", \"Basic\", \"Premium\", \"Basic\", \"Basic\", \"Premium\", \"Enteprise\", \"Basic\", \"Basic\", \"Basic\", \"Enteprise\", \"Premium\", \"Basic\", \"Enteprise\", \"Enteprise\", \"Basic\", \"Premium\", \"Basic\", \"Basic\", \"Enteprise\", \"Premium\", \"Basic\", \"Enteprise\", \"Basic\", \"Premium\", \"Basic\", \"Enteprise\", \"Premium\", \"Basic\", \"Enteprise\", \"Enteprise\", \"Basic\", \"Premium\", \"Basic\", \"Basic\", \"Enteprise\", \"Premium\", \"Basic\", \"Enteprise\", \"Basic\", \"Premium\", \"Premium\", \"Basic\", \"Enteprise\", \"Basic\", \"Premium\", \"Basic\", \"Basic\", \"Basic\", \"Basic\", \"Enteprise\", \"Enteprise\", \"Basic\", \"Premium\", \"Basic\", \"Premium\", \"Enteprise\", \"Basic\", \"Enteprise\", \"Premium\", \"Basic\", \"Basic\", \"Enteprise\", \"Enteprise\", \"Basic\", \"Premium\", \"Basic\", \"Premium\", \"Enteprise\", \"Basic\", \"Enteprise\", \"Enteprise\", \"Basic\", \"Basic\", \"Basic\", \"Enteprise\", \"Premium\", \"Basic\", \"Enteprise\", \"Premium\", \"Basic\", \"Enteprise\", \"Enteprise\", \"Basic\", \"Premium\", \"Basic\", \"Basic\", \"Basic\", \"Enteprise\", \"Premium\", \"Basic\", \"Basic\", \"Enteprise\", \"Premium\", \"Basic\", \"Enteprise\", \"Enteprise\", \"Basic\", \"Premium\", \"Basic\", \"Basic\", \"Basic\", \"Enteprise\", \"Premium\", \"Basic\", \"Enteprise\", \"Enteprise\", \"Basic\", \"Enteprise\", \"Premium\", \"Basic\", \"Enteprise\", \"Enteprise\", \"Basic\", \"Premium\", \"Enteprise\", \"Premium\", \"Basic\", \"Basic\", \"Basic\", \"Enteprise\", \"Premium\", \"Enteprise\", \"Basic\", \"Basic\", \"Enteprise\", \"Basic\", \"Premium\", \"Basic\", \"Basic\", \"Premium\", \"Enteprise\", \"Basic\", \"Basic\", \"Basic\", \"Enteprise\", \"Premium\", \"Basic\", \"Enteprise\", \"Enteprise\", \"Basic\", \"Premium\", \"Basic\", \"Basic\", \"Enteprise\", \"Premium\", \"Basic\", \"Enteprise\", \"Basic\", \"Premium\", \"Basic\", \"Enteprise\", \"Premium\", \"Basic\", \"Enteprise\", \"Enteprise\", \"Basic\", \"Premium\", \"Basic\", \"Basic\", \"Enteprise\", \"Premium\", \"Basic\", \"Enteprise\", \"Basic\", \"Premium\", \"Premium\", \"Basic\", \"Enteprise\", \"Basic\", \"Premium\", \"Basic\", \"Basic\", \"Basic\", \"Basic\", \"Enteprise\", \"Enteprise\", \"Basic\", \"Premium\", \"Basic\", \"Premium\", \"Enteprise\", \"Basic\", \"Enteprise\", \"Premium\", \"Basic\", \"Basic\", \"Enteprise\", \"Enteprise\", \"Basic\", \"Premium\", \"Basic\", \"Premium\", \"Enteprise\", \"Basic\", \"Enteprise\", \"Premium\", \"Premium\", \"Basic\", \"Basic\", \"Enteprise\", \"Enteprise\", \"Basic\", \"Premium\", \"Basic\", \"Premium\", \"Enteprise\", \"Basic\", \"Enteprise\", \"Premium\", \"Basic\", \"Basic\", \"Enteprise\", \"Enteprise\", \"Basic\", \"Premium\", \"Basic\", \"Premium\", \"Enteprise\", \"Basic\", \"Enteprise\", \"Enteprise\", \"Basic\", \"Basic\", \"Basic\", \"Enteprise\", \"Premium\", \"Basic\", \"Enteprise\", \"Enteprise\", \"Premium\", \"Basic\", \"Basic\", \"Enteprise\", \"Basic\", \"Basic\", \"Enteprise\", \"Basic\", \"Premium\", \"Basic\", \"Enteprise\", \"Basic\", \"Enteprise\", \"Premium\", \"Premium\", \"Enteprise\", \"Basic\", \"Basic\", \"Basic\", \"Premium\", \"Basic\", \"Basic\", \"Basic\", \"Enteprise\", \"Basic\", \"Premium\", \"Enteprise\", \"Premium\", \"Basic\", \"Enteprise\", \"Enteprise\", \"Basic\", \"Premium\", \"Basic\", \"Basic\", \"Basic\", \"Enteprise\", \"Premium\", \"Basic\", \"Basic\", \"Enteprise\", \"Premium\", \"Basic\", \"Enteprise\", \"Enteprise\", \"Basic\", \"Premium\", \"Basic\", \"Basic\", \"Basic\", \"Enteprise\", \"Premium\", \"Basic\", \"Enteprise\", \"Enteprise\", \"Basic\", \"Enteprise\", \"Premium\", \"Basic\", \"Enteprise\", \"Enteprise\", \"Basic\", \"Premium\", \"Enteprise\", \"Premium\", \"Basic\", \"Basic\", \"Basic\", \"Enteprise\", \"Premium\", \"Enteprise\", \"Basic\", \"Basic\", \"Enteprise\", \"Basic\", \"Premium\", \"Basic\", \"Basic\", \"Premium\", \"Enteprise\", \"Basic\", \"Basic\", \"Basic\", \"Enteprise\", \"Premium\", \"Basic\", \"Enteprise\", \"Enteprise\", \"Basic\", \"Premium\", \"Basic\", \"Basic\", \"Enteprise\", \"Premium\", \"Basic\", \"Enteprise\", \"Basic\", \"Premium\", \"Basic\", \"Enteprise\", \"Premium\", \"Basic\", \"Enteprise\", \"Enteprise\", \"Basic\", \"Premium\", \"Basic\", \"Basic\", \"Enteprise\", \"Premium\", \"Basic\", \"Enteprise\", \"Basic\", \"Premium\", \"Premium\", \"Basic\", \"Enteprise\", \"Basic\", \"Premium\", \"Basic\", \"Basic\", \"Basic\", \"Basic\", \"Enteprise\", \"Enteprise\", \"Basic\", \"Premium\", \"Basic\", \"Premium\", \"Enteprise\", \"Basic\", \"Enteprise\", \"Premium\", \"Basic\", \"Basic\", \"Enteprise\", \"Enteprise\", \"Basic\", \"Premium\", \"Basic\", \"Premium\", \"Enteprise\", \"Basic\", \"Enteprise\", \"Enteprise\", \"Basic\", \"Basic\", \"Basic\", \"Enteprise\", \"Premium\", \"Basic\", \"Enteprise\", \"Premium\", \"Basic\", \"Enteprise\", \"Enteprise\", \"Basic\", \"Premium\", \"Basic\", \"Basic\", \"Basic\", \"Enteprise\", \"Premium\", \"Basic\", \"Basic\", \"Enteprise\", \"Premium\", \"Basic\", \"Enteprise\", \"Enteprise\", \"Basic\", \"Premium\", \"Basic\", \"Basic\", \"Basic\", \"Enteprise\", \"Premium\", \"Basic\", \"Enteprise\", \"Enteprise\", \"Basic\", \"Enteprise\", \"Premium\", \"Basic\", \"Enteprise\", \"Enteprise\", \"Basic\", \"Premium\", \"Enteprise\", \"Premium\", \"Basic\", \"Basic\", \"Basic\", \"Enteprise\", \"Premium\", \"Enteprise\", \"Basic\", \"Basic\", \"Enteprise\", \"Basic\", \"Premium\", \"Basic\", \"Basic\", \"Premium\", \"Enteprise\", \"Basic\", \"Basic\", \"Basic\", \"Enteprise\", \"Premium\", \"Basic\", \"Enteprise\", \"Enteprise\", \"Basic\", \"Premium\", \"Basic\", \"Basic\", \"Enteprise\", \"Premium\", \"Basic\", \"Enteprise\", \"Basic\", \"Premium\", \"Basic\", \"Enteprise\", \"Premium\", \"Basic\", \"Enteprise\", \"Enteprise\", \"Basic\", \"Premium\", \"Basic\", \"Basic\", \"Enteprise\", \"Premium\", \"Basic\", \"Enteprise\", \"Basic\", \"Premium\", \"Premium\", \"Basic\", \"Enteprise\", \"Basic\", \"Premium\", \"Basic\", \"Basic\", \"Basic\", \"Basic\", \"Enteprise\", \"Enteprise\", \"Basic\", \"Premium\", \"Basic\", \"Premium\", \"Enteprise\", \"Basic\", \"Enteprise\", \"Premium\", \"Basic\", \"Basic\", \"Enteprise\", \"Enteprise\", \"Basic\", \"Premium\", \"Basic\", \"Premium\", \"Enteprise\", \"Basic\", \"Premium\", \"Basic\", \"Basic\", \"Enteprise\", \"Basic\", \"Enteprise\", \"Premium\", \"Basic\", \"Enteprise\", \"Enteprise\", \"Basic\", \"Premium\", \"Enteprise\", \"Premium\", \"Basic\", \"Basic\", \"Basic\", \"Enteprise\", \"Premium\", \"Enteprise\", \"Basic\", \"Basic\", \"Enteprise\", \"Basic\", \"Premium\", \"Basic\", \"Basic\", \"Premium\", \"Enteprise\", \"Basic\", \"Basic\", \"Basic\", \"Enteprise\", \"Premium\", \"Basic\", \"Enteprise\", \"Enteprise\", \"Basic\", \"Premium\", \"Basic\", \"Basic\", \"Enteprise\", \"Premium\", \"Basic\", \"Enteprise\", \"Basic\", \"Premium\", \"Basic\", \"Enteprise\", \"Premium\", \"Basic\", \"Enteprise\", \"Enteprise\", \"Basic\", \"Premium\", \"Basic\", \"Basic\", \"Enteprise\", \"Premium\", \"Basic\", \"Enteprise\", \"Basic\", \"Premium\", \"Premium\", \"Basic\", \"Enteprise\", \"Basic\", \"Premium\", \"Basic\", \"Basic\", \"Basic\", \"Basic\", \"Enteprise\", \"Enteprise\", \"Basic\", \"Premium\", \"Basic\", \"Premium\", \"Enteprise\", \"Basic\", \"Enteprise\", \"Premium\", \"Basic\", \"Basic\", \"Enteprise\", \"Enteprise\", \"Basic\", \"Premium\", \"Basic\", \"Premium\", \"Enteprise\", \"Basic\", \"Enteprise\", \"Enteprise\", \"Basic\", \"Basic\", \"Basic\", \"Enteprise\", \"Premium\", \"Basic\", \"Enteprise\", \"Enteprise\", \"Premium\", \"Basic\", \"Basic\", \"Enteprise\", \"Basic\", \"Basic\", \"Enteprise\", \"Basic\", \"Premium\", \"Basic\", \"Enteprise\", \"Basic\", \"Enteprise\", \"Premium\", \"Premium\", \"Enteprise\", \"Basic\", \"Basic\", \"Basic\", \"Premium\", \"Basic\", \"Basic\", \"Basic\", \"Enteprise\", \"Basic\", \"Premium\", \"Enteprise\", \"Premium\", \"Basic\", \"Enteprise\", \"Enteprise\", \"Basic\", \"Premium\", \"Basic\", \"Basic\", \"Basic\", \"Enteprise\", \"Premium\", \"Basic\", \"Basic\", \"Enteprise\", \"Premium\", \"Basic\", \"Enteprise\", \"Enteprise\", \"Basic\", \"Premium\", \"Basic\", \"Basic\", \"Basic\", \"Enteprise\", \"Premium\", \"Basic\", \"Enteprise\", \"Enteprise\", \"Basic\", \"Enteprise\", \"Premium\", \"Basic\", \"Enteprise\", \"Enteprise\", \"Basic\", \"Premium\", \"Enteprise\", \"Premium\", \"Basic\", \"Basic\", \"Basic\", \"Enteprise\", \"Premium\", \"Enteprise\", \"Basic\", \"Basic\", \"Enteprise\", \"Basic\", \"Premium\", \"Basic\", \"Basic\", \"Premium\", \"Enteprise\", \"Basic\", \"Basic\", \"Basic\", \"Enteprise\", \"Premium\", \"Basic\", \"Enteprise\", \"Enteprise\", \"Basic\", \"Premium\", \"Basic\", \"Basic\", \"Enteprise\", \"Premium\", \"Basic\", \"Enteprise\", \"Basic\", \"Premium\", \"Basic\", \"Enteprise\", \"Premium\", \"Basic\", \"Enteprise\", \"Enteprise\", \"Basic\", \"Premium\", \"Basic\", \"Basic\", \"Enteprise\", \"Premium\", \"Basic\", \"Enteprise\", \"Basic\", \"Premium\", \"Premium\", \"Basic\", \"Enteprise\", \"Basic\", \"Premium\", \"Basic\", \"Basic\", \"Basic\", \"Basic\", \"Enteprise\", \"Enteprise\", \"Basic\", \"Premium\", \"Basic\", \"Premium\", \"Enteprise\", \"Basic\", \"Enteprise\", \"Premium\", \"Basic\", \"Basic\", \"Enteprise\", \"Enteprise\", \"Basic\", \"Premium\", \"Basic\", \"Premium\", \"Enteprise\", \"Basic\", \"Enteprise\", \"Enteprise\", \"Basic\", \"Basic\", \"Basic\", \"Enteprise\", \"Premium\", \"Basic\", \"Enteprise\", \"Premium\", \"Basic\", \"Enteprise\", \"Enteprise\", \"Basic\", \"Premium\", \"Basic\", \"Basic\", \"Basic\", \"Enteprise\", \"Premium\", \"Basic\", \"Basic\", \"Enteprise\", \"Premium\", \"Basic\", \"Enteprise\", \"Enteprise\", \"Basic\", \"Premium\", \"Basic\", \"Basic\", \"Basic\", \"Enteprise\", \"Premium\", \"Basic\", \"Enteprise\", \"Enteprise\", \"Basic\", \"Enteprise\", \"Premium\", \"Basic\", \"Enteprise\", \"Enteprise\", \"Basic\", \"Premium\", \"Enteprise\", \"Premium\", \"Basic\", \"Basic\", \"Basic\", \"Enteprise\", \"Premium\", \"Enteprise\", \"Basic\", \"Basic\", \"Enteprise\", \"Basic\", \"Premium\", \"Basic\", \"Basic\", \"Premium\", \"Enteprise\", \"Basic\", \"Basic\", \"Basic\", \"Enteprise\", \"Premium\", \"Basic\", \"Enteprise\", \"Enteprise\", \"Basic\", \"Premium\", \"Basic\", \"Basic\", \"Enteprise\", \"Premium\", \"Basic\", \"Enteprise\", \"Basic\", \"Premium\", \"Basic\", \"Enteprise\", \"Premium\", \"Basic\", \"Enteprise\", \"Enteprise\", \"Basic\", \"Premium\", \"Basic\", \"Basic\", \"Enteprise\", \"Premium\", \"Basic\", \"Enteprise\", \"Basic\", \"Premium\", \"Premium\", \"Basic\", \"Enteprise\", \"Basic\", \"Premium\", \"Basic\", \"Basic\", \"Basic\", \"Basic\", \"Enteprise\", \"Enteprise\", \"Basic\", \"Premium\", \"Basic\", \"Premium\", \"Enteprise\", \"Basic\", \"Enteprise\", \"Premium\", \"Basic\", \"Basic\", \"Enteprise\", \"Enteprise\", \"Basic\", \"Premium\", \"Basic\", \"Premium\", \"Enteprise\", \"Basic\", \"Enteprise\", \"Premium\", \"Basic\", \"Enteprise\", \"Enteprise\", \"Basic\", \"Enteprise\", \"Premium\", \"Basic\", \"Enteprise\", \"Enteprise\", \"Basic\", \"Premium\", \"Enteprise\", \"Premium\", \"Basic\", \"Basic\", \"Basic\", \"Enteprise\", \"Premium\", \"Enteprise\", \"Basic\", \"Basic\", \"Enteprise\", \"Basic\", \"Premium\", \"Basic\", \"Basic\", \"Premium\", \"Enteprise\", \"Basic\", \"Basic\", \"Basic\", \"Enteprise\", \"Premium\", \"Basic\", \"Enteprise\", \"Enteprise\", \"Basic\", \"Premium\", \"Basic\", \"Basic\", \"Enteprise\", \"Premium\", \"Basic\", \"Enteprise\", \"Basic\", \"Premium\", \"Basic\", \"Enteprise\", \"Premium\", \"Basic\", \"Enteprise\", \"Enteprise\", \"Basic\", \"Premium\", \"Basic\", \"Basic\", \"Enteprise\", \"Premium\", \"Basic\", \"Enteprise\", \"Basic\", \"Premium\", \"Premium\", \"Basic\", \"Enteprise\", \"Basic\", \"Premium\", \"Basic\", \"Basic\", \"Basic\", \"Basic\", \"Enteprise\", \"Enteprise\", \"Basic\", \"Premium\", \"Basic\", \"Premium\", \"Enteprise\", \"Basic\", \"Enteprise\", \"Premium\", \"Basic\", \"Basic\", \"Enteprise\", \"Enteprise\", \"Basic\", \"Premium\", \"Basic\", \"Premium\", \"Enteprise\", \"Basic\", \"Enteprise\", \"Enteprise\", \"Basic\", \"Basic\", \"Basic\", \"Enteprise\", \"Premium\", \"Basic\", \"Enteprise\", \"Enteprise\", \"Premium\", \"Basic\", \"Basic\", \"Enteprise\", \"Basic\", \"Basic\", \"Enteprise\", \"Basic\", \"Premium\", \"Basic\", \"Enteprise\", \"Basic\", \"Enteprise\", \"Premium\", \"Premium\", \"Enteprise\", \"Basic\", \"Basic\", \"Basic\", \"Premium\", \"Basic\", \"Basic\", \"Basic\", \"Enteprise\", \"Basic\", \"Premium\", \"Enteprise\", \"Premium\", \"Basic\", \"Enteprise\", \"Enteprise\", \"Basic\", \"Premium\", \"Basic\", \"Basic\", \"Basic\", \"Enteprise\", \"Premium\", \"Basic\", \"Basic\", \"Enteprise\", \"Premium\", \"Basic\", \"Enteprise\", \"Enteprise\", \"Basic\", \"Premium\", \"Basic\", \"Basic\", \"Basic\", \"Enteprise\", \"Premium\", \"Basic\", \"Enteprise\", \"Enteprise\", \"Basic\", \"Enteprise\", \"Premium\", \"Basic\", \"Enteprise\", \"Enteprise\", \"Basic\", \"Premium\", \"Enteprise\", \"Premium\", \"Basic\", \"Basic\", \"Basic\", \"Enteprise\", \"Premium\", \"Enteprise\", \"Basic\", \"Basic\", \"Enteprise\", \"Basic\", \"Premium\", \"Basic\", \"Basic\", \"Premium\", \"Enteprise\", \"Basic\", \"Basic\", \"Basic\", \"Enteprise\", \"Premium\", \"Basic\", \"Enteprise\", \"Enteprise\", \"Basic\", \"Premium\", \"Basic\", \"Basic\", \"Enteprise\", \"Premium\", \"Basic\", \"Enteprise\", \"Basic\", \"Premium\", \"Basic\", \"Enteprise\", \"Premium\", \"Basic\", \"Enteprise\", \"Enteprise\", \"Basic\", \"Premium\", \"Basic\", \"Basic\", \"Enteprise\", \"Premium\", \"Basic\", \"Enteprise\", \"Basic\", \"Premium\", \"Premium\", \"Basic\", \"Enteprise\", \"Basic\", \"Premium\", \"Basic\", \"Basic\", \"Basic\", \"Basic\", \"Enteprise\", \"Enteprise\", \"Basic\", \"Premium\", \"Basic\", \"Premium\", \"Enteprise\", \"Basic\", \"Enteprise\", \"Premium\", \"Basic\", \"Basic\", \"Enteprise\", \"Enteprise\", \"Basic\", \"Premium\", \"Basic\", \"Premium\", \"Enteprise\", \"Basic\", \"Enteprise\", \"Enteprise\", \"Basic\", \"Basic\", \"Basic\", \"Enteprise\", \"Premium\", \"Basic\", \"Enteprise\", \"Premium\", \"Basic\", \"Enteprise\", \"Enteprise\", \"Basic\", \"Premium\", \"Basic\", \"Basic\", \"Basic\", \"Enteprise\", \"Premium\", \"Basic\", \"Basic\", \"Enteprise\", \"Premium\", \"Basic\", \"Enteprise\", \"Enteprise\", \"Basic\", \"Premium\", \"Basic\", \"Basic\", \"Basic\", \"Enteprise\", \"Premium\", \"Basic\", \"Enteprise\", \"Enteprise\", \"Basic\", \"Enteprise\", \"Premium\", \"Basic\", \"Enteprise\", \"Enteprise\", \"Basic\", \"Premium\", \"Enteprise\", \"Premium\", \"Basic\", \"Basic\", \"Basic\", \"Enteprise\", \"Premium\", \"Enteprise\", \"Basic\", \"Basic\", \"Enteprise\", \"Basic\", \"Premium\", \"Basic\", \"Basic\", \"Premium\", \"Enteprise\", \"Basic\", \"Basic\", \"Basic\", \"Enteprise\", \"Premium\", \"Basic\", \"Enteprise\", \"Enteprise\", \"Basic\", \"Premium\", \"Basic\", \"Basic\", \"Enteprise\", \"Premium\", \"Basic\", \"Enteprise\", \"Basic\", \"Premium\", \"Basic\", \"Enteprise\", \"Premium\", \"Basic\", \"Enteprise\", \"Enteprise\", \"Basic\", \"Premium\", \"Basic\", \"Basic\", \"Enteprise\", \"Premium\", \"Basic\", \"Enteprise\", \"Basic\", \"Premium\", \"Premium\", \"Basic\", \"Enteprise\", \"Basic\", \"Premium\", \"Basic\", \"Basic\", \"Basic\", \"Basic\", \"Enteprise\", \"Enteprise\", \"Basic\", \"Premium\", \"Basic\", \"Premium\", \"Enteprise\", \"Basic\", \"Enteprise\", \"Premium\", \"Basic\", \"Basic\", \"Enteprise\", \"Enteprise\", \"Basic\", \"Premium\", \"Basic\", \"Premium\", \"Enteprise\", \"Basic\", \"Enteprise\", \"Enteprise\", \"Basic\", \"Basic\", \"Basic\", \"Basic\", \"Basic\", \"Basic\", \"Enteprise\", \"Enteprise\", \"Basic\", \"Premium\", \"Basic\", \"Premium\", \"Enteprise\", \"Basic\", \"Enteprise\", \"Premium\", \"Basic\", \"Basic\", \"Enteprise\", \"Enteprise\", \"Basic\", \"Premium\", \"Basic\", \"Premium\", \"Enteprise\", \"Basic\", \"Enteprise\", \"Enteprise\", \"Basic\", \"Basic\", \"Basic\", \"Enteprise\", \"Premium\", \"Basic\", \"Enteprise\", \"Enteprise\", \"Premium\", \"Basic\", \"Basic\", \"Enteprise\", \"Basic\", \"Basic\", \"Enteprise\", \"Basic\", \"Premium\", \"Basic\", \"Enteprise\", \"Basic\", \"Enteprise\", \"Premium\", \"Premium\", \"Enteprise\", \"Basic\", \"Basic\", \"Basic\", \"Premium\", \"Basic\", \"Basic\", \"Basic\", \"Enteprise\", \"Basic\", \"Premium\", \"Enteprise\", \"Premium\", \"Basic\", \"Enteprise\", \"Enteprise\", \"Basic\", \"Premium\", \"Basic\", \"Basic\", \"Basic\", \"Enteprise\", \"Premium\", \"Basic\", \"Basic\", \"Enteprise\", \"Premium\", \"Basic\", \"Enteprise\", \"Enteprise\", \"Basic\", \"Premium\", \"Basic\", \"Basic\", \"Basic\", \"Enteprise\", \"Premium\", \"Basic\", \"Enteprise\", \"Enteprise\", \"Basic\", \"Enteprise\", \"Premium\", \"Basic\", \"Enteprise\", \"Enteprise\", \"Basic\", \"Premium\", \"Enteprise\", \"Premium\", \"Basic\", \"Basic\", \"Basic\", \"Enteprise\", \"Premium\", \"Enteprise\", \"Basic\", \"Basic\", \"Enteprise\", \"Basic\", \"Premium\", \"Basic\", \"Basic\", \"Premium\", \"Enteprise\", \"Basic\", \"Basic\", \"Basic\", \"Enteprise\", \"Premium\", \"Basic\", \"Enteprise\", \"Enteprise\", \"Basic\", \"Premium\", \"Basic\", \"Basic\", \"Enteprise\", \"Premium\", \"Basic\", \"Enteprise\", \"Basic\", \"Premium\", \"Basic\", \"Enteprise\", \"Premium\", \"Basic\", \"Enteprise\", \"Enteprise\", \"Basic\", \"Premium\", \"Basic\", \"Basic\", \"Enteprise\", \"Premium\", \"Basic\", \"Enteprise\", \"Basic\", \"Premium\", \"Premium\", \"Basic\", \"Enteprise\", \"Basic\", \"Premium\", \"Basic\", \"Basic\", \"Basic\", \"Basic\", \"Enteprise\", \"Enteprise\", \"Basic\", \"Premium\", \"Basic\", \"Premium\", \"Enteprise\", \"Basic\", \"Enteprise\", \"Premium\", \"Basic\", \"Basic\", \"Enteprise\", \"Enteprise\", \"Basic\", \"Premium\", \"Basic\", \"Premium\", \"Enteprise\", \"Basic\", \"Enteprise\", \"Enteprise\", \"Basic\", \"Basic\", \"Basic\", \"Enteprise\", \"Premium\", \"Basic\", \"Enteprise\", \"Premium\", \"Basic\", \"Enteprise\", \"Enteprise\", \"Basic\", \"Premium\", \"Basic\", \"Basic\", \"Basic\", \"Enteprise\", \"Premium\", \"Basic\", \"Basic\", \"Enteprise\", \"Premium\", \"Basic\", \"Enteprise\", \"Enteprise\", \"Basic\", \"Premium\", \"Basic\", \"Basic\", \"Basic\", \"Enteprise\", \"Premium\", \"Basic\", \"Enteprise\", \"Enteprise\", \"Basic\", \"Enteprise\", \"Premium\", \"Basic\", \"Enteprise\", \"Enteprise\", \"Basic\", \"Premium\", \"Enteprise\", \"Premium\", \"Basic\", \"Basic\", \"Basic\", \"Enteprise\", \"Premium\", \"Enteprise\", \"Basic\", \"Basic\", \"Enteprise\", \"Basic\", \"Premium\", \"Basic\", \"Basic\", \"Premium\", \"Enteprise\", \"Basic\", \"Basic\", \"Basic\", \"Enteprise\", \"Premium\", \"Basic\", \"Enteprise\", \"Enteprise\", \"Basic\", \"Premium\", \"Basic\", \"Basic\", \"Enteprise\", \"Premium\", \"Basic\", \"Enteprise\", \"Basic\", \"Premium\", \"Basic\", \"Enteprise\", \"Premium\", \"Basic\", \"Enteprise\", \"Enteprise\", \"Basic\", \"Premium\", \"Basic\", \"Basic\", \"Enteprise\", \"Premium\", \"Basic\", \"Enteprise\", \"Basic\", \"Premium\", \"Premium\", \"Basic\", \"Enteprise\", \"Basic\", \"Premium\", \"Basic\", \"Basic\", \"Basic\", \"Basic\", \"Enteprise\", \"Enteprise\", \"Basic\", \"Premium\", \"Basic\", \"Premium\", \"Enteprise\", \"Basic\", \"Enteprise\", \"Premium\", \"Basic\", \"Basic\", \"Enteprise\", \"Enteprise\", \"Basic\", \"Premium\", \"Basic\", \"Premium\", \"Enteprise\", \"Basic\", \"Premium\", \"Basic\", \"Basic\", \"Enteprise\", \"Basic\", \"Enteprise\", \"Premium\", \"Basic\", \"Enteprise\", \"Enteprise\", \"Basic\", \"Premium\", \"Enteprise\", \"Premium\", \"Basic\", \"Basic\", \"Basic\", \"Enteprise\", \"Premium\", \"Enteprise\", \"Basic\", \"Basic\", \"Enteprise\", \"Basic\", \"Premium\", \"Basic\", \"Basic\", \"Premium\", \"Enteprise\", \"Basic\", \"Basic\", \"Basic\", \"Enteprise\", \"Premium\", \"Basic\", \"Enteprise\", \"Enteprise\", \"Basic\", \"Premium\", \"Basic\", \"Basic\", \"Enteprise\", \"Premium\", \"Basic\", \"Enteprise\", \"Basic\", \"Premium\", \"Basic\", \"Enteprise\", \"Premium\", \"Basic\", \"Enteprise\", \"Enteprise\", \"Basic\", \"Premium\", \"Basic\", \"Basic\", \"Enteprise\", \"Premium\", \"Basic\", \"Enteprise\", \"Basic\", \"Premium\", \"Premium\", \"Basic\", \"Enteprise\", \"Basic\", \"Premium\", \"Basic\", \"Basic\", \"Basic\", \"Basic\", \"Enteprise\", \"Enteprise\", \"Basic\", \"Premium\", \"Basic\", \"Premium\", \"Enteprise\", \"Basic\", \"Enteprise\", \"Premium\", \"Basic\", \"Basic\", \"Enteprise\", \"Enteprise\", \"Basic\", \"Premium\", \"Basic\", \"Premium\", \"Enteprise\", \"Basic\", \"Enteprise\", \"Enteprise\", \"Basic\", \"Basic\", \"Basic\", \"Enteprise\", \"Premium\", \"Basic\", \"Enteprise\", \"Enteprise\", \"Premium\", \"Basic\", \"Basic\", \"Enteprise\", \"Basic\", \"Basic\", \"Enteprise\", \"Basic\", \"Premium\", \"Basic\", \"Enteprise\", \"Basic\", \"Enteprise\", \"Premium\", \"Premium\", \"Enteprise\", \"Basic\", \"Basic\", \"Basic\", \"Premium\", \"Basic\", \"Basic\", \"Basic\", \"Enteprise\", \"Basic\", \"Premium\", \"Enteprise\", \"Premium\", \"Basic\", \"Enteprise\", \"Enteprise\", \"Basic\", \"Premium\", \"Basic\", \"Basic\", \"Basic\", \"Enteprise\", \"Premium\", \"Basic\", \"Basic\", \"Enteprise\", \"Premium\", \"Basic\", \"Enteprise\", \"Enteprise\", \"Basic\", \"Premium\", \"Basic\", \"Basic\", \"Basic\", \"Enteprise\", \"Premium\", \"Basic\", \"Enteprise\", \"Enteprise\", \"Basic\", \"Enteprise\", \"Premium\", \"Basic\", \"Enteprise\", \"Enteprise\", \"Basic\", \"Premium\", \"Enteprise\", \"Premium\", \"Basic\", \"Basic\", \"Basic\", \"Enteprise\", \"Premium\", \"Enteprise\", \"Basic\", \"Basic\", \"Enteprise\", \"Basic\", \"Premium\", \"Basic\", \"Basic\", \"Premium\", \"Enteprise\", \"Basic\", \"Basic\", \"Basic\", \"Enteprise\", \"Premium\", \"Basic\", \"Enteprise\", \"Enteprise\", \"Basic\", \"Premium\", \"Basic\", \"Basic\", \"Enteprise\", \"Premium\", \"Basic\", \"Enteprise\", \"Basic\", \"Premium\", \"Basic\", \"Enteprise\", \"Premium\", \"Basic\", \"Enteprise\", \"Enteprise\", \"Basic\", \"Premium\", \"Basic\", \"Basic\", \"Enteprise\", \"Premium\", \"Basic\", \"Enteprise\", \"Basic\", \"Premium\", \"Premium\", \"Basic\", \"Enteprise\", \"Basic\", \"Premium\", \"Basic\", \"Basic\", \"Basic\", \"Basic\", \"Enteprise\", \"Enteprise\", \"Basic\", \"Premium\", \"Basic\", \"Premium\", \"Enteprise\", \"Basic\", \"Enteprise\", \"Premium\", \"Basic\", \"Basic\", \"Enteprise\", \"Enteprise\", \"Basic\", \"Premium\", \"Basic\", \"Premium\", \"Enteprise\", \"Basic\", \"Enteprise\", \"Enteprise\", \"Basic\", \"Basic\", \"Basic\", \"Enteprise\", \"Premium\", \"Basic\", \"Enteprise\", \"Premium\", \"Basic\", \"Enteprise\", \"Enteprise\", \"Basic\", \"Premium\", \"Basic\", \"Basic\", \"Basic\", \"Enteprise\", \"Premium\", \"Basic\", \"Basic\", \"Enteprise\", \"Premium\", \"Basic\", \"Enteprise\", \"Enteprise\", \"Basic\", \"Premium\", \"Basic\", \"Basic\", \"Basic\", \"Enteprise\", \"Premium\", \"Basic\", \"Enteprise\", \"Enteprise\", \"Basic\", \"Enteprise\", \"Premium\", \"Basic\", \"Enteprise\", \"Enteprise\", \"Basic\", \"Premium\", \"Enteprise\", \"Premium\", \"Basic\", \"Basic\", \"Basic\", \"Enteprise\", \"Premium\", \"Enteprise\", \"Basic\", \"Basic\", \"Enteprise\", \"Basic\", \"Premium\", \"Basic\", \"Basic\", \"Premium\", \"Enteprise\", \"Basic\", \"Basic\", \"Basic\", \"Enteprise\", \"Premium\", \"Basic\", \"Enteprise\", \"Enteprise\", \"Basic\", \"Premium\", \"Basic\", \"Basic\", \"Enteprise\", \"Premium\", \"Basic\", \"Enteprise\", \"Basic\", \"Premium\", \"Basic\", \"Enteprise\", \"Premium\", \"Basic\", \"Enteprise\", \"Enteprise\", \"Basic\", \"Premium\", \"Basic\", \"Basic\", \"Enteprise\", \"Premium\", \"Basic\", \"Enteprise\", \"Basic\", \"Premium\", \"Premium\", \"Basic\", \"Enteprise\", \"Basic\", \"Premium\", \"Basic\", \"Basic\", \"Basic\", \"Basic\", \"Enteprise\", \"Enteprise\", \"Basic\", \"Premium\", \"Basic\", \"Premium\", \"Enteprise\", \"Basic\", \"Enteprise\", \"Premium\", \"Basic\", \"Basic\", \"Enteprise\", \"Enteprise\", \"Basic\", \"Premium\", \"Basic\", \"Premium\", \"Enteprise\", \"Basic\", \"Enteprise\", \"Premium\", \"Basic\", \"Enteprise\", \"Enteprise\", \"Basic\", \"Enteprise\", \"Premium\", \"Basic\", \"Enteprise\", \"Enteprise\", \"Basic\", \"Premium\", \"Enteprise\", \"Premium\", \"Basic\", \"Basic\", \"Basic\", \"Enteprise\", \"Premium\", \"Enteprise\", \"Basic\", \"Basic\", \"Enteprise\", \"Basic\", \"Premium\", \"Basic\", \"Basic\", \"Premium\", \"Enteprise\", \"Basic\", \"Basic\", \"Basic\", \"Enteprise\", \"Premium\", \"Basic\", \"Enteprise\", \"Enteprise\", \"Basic\", \"Premium\", \"Basic\", \"Basic\", \"Enteprise\", \"Premium\", \"Basic\", \"Enteprise\", \"Basic\", \"Premium\", \"Basic\", \"Enteprise\", \"Premium\", \"Basic\", \"Enteprise\", \"Enteprise\", \"Basic\", \"Premium\", \"Basic\", \"Basic\", \"Enteprise\", \"Premium\", \"Basic\", \"Enteprise\", \"Basic\", \"Premium\", \"Premium\", \"Basic\", \"Enteprise\", \"Basic\", \"Premium\", \"Basic\", \"Basic\", \"Basic\", \"Basic\", \"Enteprise\", \"Enteprise\", \"Basic\", \"Premium\", \"Basic\", \"Premium\", \"Enteprise\", \"Basic\", \"Enteprise\", \"Premium\", \"Basic\", \"Basic\", \"Enteprise\", \"Enteprise\", \"Basic\", \"Premium\", \"Basic\", \"Premium\", \"Enteprise\", \"Basic\", \"Enteprise\", \"Enteprise\", \"Basic\", \"Basic\", \"Basic\", \"Enteprise\", \"Premium\", \"Basic\", \"Enteprise\", \"Enteprise\", \"Premium\", \"Basic\", \"Basic\", \"Enteprise\", \"Basic\", \"Basic\", \"Enteprise\", \"Basic\", \"Premium\", \"Basic\", \"Enteprise\", \"Basic\", \"Enteprise\", \"Premium\", \"Premium\", \"Enteprise\", \"Basic\", \"Basic\", \"Basic\", \"Premium\", \"Basic\", \"Basic\", \"Basic\", \"Enteprise\", \"Basic\", \"Premium\", \"Enteprise\", \"Premium\", \"Basic\", \"Enteprise\", \"Enteprise\", \"Basic\", \"Premium\", \"Basic\", \"Basic\", \"Basic\", \"Enteprise\", \"Premium\", \"Basic\", \"Basic\", \"Enteprise\", \"Premium\", \"Basic\", \"Enteprise\", \"Enteprise\", \"Basic\", \"Premium\", \"Basic\", \"Basic\", \"Basic\", \"Enteprise\", \"Premium\", \"Basic\", \"Enteprise\", \"Enteprise\", \"Basic\", \"Enteprise\", \"Premium\", \"Basic\", \"Enteprise\", \"Enteprise\", \"Basic\", \"Premium\", \"Enteprise\", \"Premium\", \"Basic\", \"Basic\", \"Basic\", \"Enteprise\", \"Premium\", \"Enteprise\", \"Basic\", \"Basic\", \"Enteprise\", \"Basic\", \"Premium\", \"Basic\", \"Basic\", \"Premium\", \"Enteprise\", \"Basic\", \"Basic\", \"Basic\", \"Enteprise\", \"Premium\", \"Basic\", \"Enteprise\", \"Enteprise\", \"Basic\", \"Premium\", \"Basic\", \"Basic\", \"Enteprise\", \"Premium\", \"Basic\", \"Enteprise\", \"Basic\", \"Premium\", \"Basic\", \"Enteprise\", \"Premium\", \"Basic\", \"Enteprise\", \"Enteprise\", \"Basic\", \"Premium\", \"Basic\", \"Basic\", \"Enteprise\", \"Premium\", \"Basic\", \"Enteprise\", \"Basic\", \"Premium\", \"Premium\", \"Basic\", \"Enteprise\", \"Basic\", \"Premium\", \"Basic\", \"Basic\", \"Basic\", \"Basic\", \"Enteprise\", \"Enteprise\", \"Basic\", \"Premium\", \"Basic\", \"Premium\", \"Enteprise\", \"Basic\", \"Enteprise\", \"Premium\", \"Basic\", \"Basic\", \"Enteprise\", \"Enteprise\", \"Basic\", \"Premium\", \"Basic\", \"Premium\", \"Enteprise\", null, \"Enteprise\", \"Enteprise\", \"Basic\", \"Basic\", \"Basic\", \"Enteprise\", \"Premium\", \"Basic\", \"Enteprise\", \"Premium\", \"Basic\", \"Enteprise\", \"Enteprise\", \"Basic\", \"Premium\", \"Basic\", \"Basic\", \"Basic\", \"Enteprise\", \"Premium\", \"Basic\", \"Basic\", \"Enteprise\", \"Premium\", \"Basic\", \"Enteprise\", \"Enteprise\", \"Basic\", \"Premium\", \"Basic\", \"Basic\", \"Basic\", \"Enteprise\", \"Premium\", \"Basic\", \"Enteprise\", \"Enteprise\", \"Basic\", \"Enteprise\", \"Premium\", \"Basic\", \"Enteprise\", \"Enteprise\", \"Basic\", \"Premium\", \"Enteprise\", \"Premium\", \"Basic\", \"Basic\", \"Basic\", \"Enteprise\", \"Premium\", \"Enteprise\", \"Basic\", \"Basic\", \"Enteprise\", \"Basic\", \"Premium\", \"Basic\", \"Basic\", \"Premium\", \"Enteprise\", \"Basic\", \"Basic\", \"Basic\", \"Enteprise\", \"Premium\", \"Basic\", \"Enteprise\", \"Enteprise\", \"Basic\", \"Premium\", \"Basic\", \"Basic\", \"Enteprise\", \"Premium\", \"Basic\", \"Enteprise\", \"Basic\", \"Premium\", \"Basic\", \"Enteprise\", \"Premium\", \"Basic\", \"Enteprise\", \"Enteprise\", \"Basic\", \"Premium\", \"Basic\", \"Basic\", \"Enteprise\", \"Premium\", \"Basic\", \"Enteprise\", \"Basic\", \"Premium\", \"Premium\", \"Basic\", \"Enteprise\", \"Basic\", \"Premium\", \"Basic\", \"Basic\", \"Basic\", \"Basic\", \"Enteprise\", \"Enteprise\", \"Basic\", \"Premium\", \"Basic\", \"Premium\", \"Enteprise\", \"Basic\", \"Enteprise\", \"Premium\", \"Basic\", \"Basic\", \"Enteprise\", \"Enteprise\", \"Basic\", \"Premium\", \"Basic\", \"Premium\", \"Enteprise\", \"Basic\", \"Enteprise\", \"Enteprise\", \"Basic\", \"Basic\", \"Enteprise\", \"Enteprise\", \"Basic\", \"Premium\", \"Basic\", \"Premium\", \"Enteprise\", \"Basic\", \"Enteprise\", \"Premium\", \"Basic\", \"Basic\", \"Enteprise\", \"Enteprise\", \"Basic\", \"Premium\", \"Basic\", \"Premium\", \"Enteprise\", \"Basic\", \"Enteprise\", \"Enteprise\", \"Basic\", \"Basic\", \"Basic\", \"Enteprise\", \"Premium\", \"Basic\", \"Enteprise\", \"Enteprise\", \"Premium\", \"Basic\", \"Basic\", \"Enteprise\", \"Basic\", \"Basic\", \"Enteprise\", \"Basic\", \"Premium\", \"Basic\", \"Enteprise\", \"Basic\", \"Enteprise\", \"Premium\", \"Premium\", \"Enteprise\", \"Basic\", \"Basic\", \"Basic\", \"Premium\", \"Basic\", \"Basic\", \"Basic\", \"Enteprise\", \"Basic\", \"Premium\", \"Enteprise\", \"Premium\", \"Basic\", \"Enteprise\", \"Enteprise\", \"Basic\", \"Premium\", \"Basic\", \"Basic\", \"Basic\", \"Enteprise\", \"Premium\", \"Basic\", \"Basic\", \"Enteprise\", \"Premium\", \"Basic\", \"Enteprise\", \"Enteprise\", \"Basic\", \"Premium\", \"Basic\", \"Basic\", \"Basic\", \"Enteprise\", \"Premium\", \"Basic\", \"Enteprise\", \"Enteprise\", \"Basic\", \"Enteprise\", \"Premium\", \"Basic\", \"Enteprise\", \"Enteprise\", \"Basic\", \"Premium\", \"Enteprise\", \"Premium\", \"Basic\", \"Basic\", \"Basic\", \"Enteprise\", \"Premium\", \"Enteprise\", \"Basic\", \"Basic\", \"Enteprise\", \"Basic\", \"Premium\", \"Basic\", \"Basic\", \"Premium\", \"Enteprise\", \"Basic\", \"Basic\", \"Basic\", \"Enteprise\", \"Premium\", \"Basic\", \"Enteprise\", \"Enteprise\", \"Basic\", \"Premium\", \"Basic\", \"Basic\", \"Enteprise\", \"Premium\", \"Basic\", \"Enteprise\", \"Basic\", \"Premium\", \"Basic\", \"Enteprise\", \"Premium\", \"Basic\", \"Enteprise\", \"Enteprise\", \"Basic\", \"Premium\", \"Basic\", \"Basic\", \"Enteprise\", \"Premium\", \"Basic\", \"Enteprise\", \"Basic\", \"Premium\", \"Premium\", \"Basic\", \"Enteprise\", \"Basic\", \"Premium\", \"Basic\", \"Basic\", \"Basic\", \"Basic\", \"Enteprise\", \"Enteprise\", \"Basic\", \"Premium\", \"Basic\", \"Premium\", \"Enteprise\", \"Basic\", \"Enteprise\", \"Premium\", \"Basic\", \"Basic\", \"Enteprise\", \"Enteprise\", \"Basic\", \"Premium\", \"Basic\", \"Premium\", \"Enteprise\", \"Basic\", \"Enteprise\", \"Enteprise\", \"Basic\", \"Basic\", \"Basic\", \"Enteprise\", \"Premium\", \"Basic\", \"Enteprise\", \"Premium\", \"Basic\", \"Enteprise\", \"Enteprise\", \"Basic\", \"Premium\", \"Basic\", \"Basic\", \"Basic\", \"Enteprise\", \"Premium\", \"Basic\", \"Basic\", \"Enteprise\", \"Premium\", \"Basic\", \"Enteprise\", \"Enteprise\", \"Basic\", \"Premium\", \"Basic\", \"Basic\", \"Basic\", \"Enteprise\", \"Premium\", \"Basic\", \"Enteprise\", \"Enteprise\", \"Basic\", \"Enteprise\", \"Premium\", \"Basic\", \"Enteprise\", \"Enteprise\", \"Basic\", \"Premium\", \"Enteprise\", \"Premium\", \"Basic\", \"Basic\", \"Basic\", \"Enteprise\", \"Premium\", \"Enteprise\", \"Basic\", \"Basic\", \"Enteprise\", \"Basic\", \"Premium\", \"Basic\", \"Basic\", \"Premium\", \"Enteprise\", \"Basic\", \"Basic\", \"Basic\", \"Enteprise\", \"Premium\", \"Basic\", \"Enteprise\", \"Enteprise\", \"Basic\", \"Premium\", \"Basic\", \"Basic\", \"Enteprise\", \"Premium\", \"Basic\", \"Enteprise\", \"Basic\", \"Premium\", \"Basic\", \"Enteprise\", \"Premium\", \"Basic\", \"Enteprise\", \"Enteprise\", \"Basic\", \"Premium\", \"Basic\", \"Basic\", \"Enteprise\", \"Premium\", \"Basic\", \"Enteprise\", \"Basic\", \"Premium\", \"Premium\", \"Basic\", \"Enteprise\", \"Basic\", \"Premium\", \"Basic\", \"Basic\", \"Basic\", \"Basic\", \"Enteprise\", \"Enteprise\", \"Basic\", \"Premium\", \"Basic\", \"Premium\", \"Enteprise\", \"Basic\", \"Enteprise\", \"Premium\", \"Basic\", \"Basic\", \"Enteprise\", \"Enteprise\", \"Basic\", \"Premium\", \"Basic\", \"Premium\", \"Enteprise\", \"Basic\", \"Premium\", \"Basic\", \"Basic\", \"Enteprise\", \"Basic\", \"Enteprise\", \"Premium\", \"Basic\", \"Enteprise\", \"Enteprise\", \"Basic\", \"Premium\", \"Enteprise\", \"Premium\", \"Basic\", \"Basic\", \"Basic\", \"Enteprise\", \"Premium\", \"Enteprise\", \"Basic\", \"Basic\", \"Enteprise\", \"Basic\", \"Premium\", \"Basic\", \"Basic\", \"Premium\", \"Enteprise\", \"Basic\", \"Basic\", \"Basic\", \"Enteprise\", \"Premium\", \"Basic\", \"Enteprise\", \"Enteprise\", \"Basic\", \"Premium\", \"Basic\", \"Basic\", \"Enteprise\", \"Premium\", \"Basic\", \"Enteprise\", \"Basic\", \"Premium\", \"Basic\", \"Enteprise\", \"Premium\", \"Basic\", \"Enteprise\", \"Enteprise\", \"Basic\", \"Premium\", \"Basic\", \"Basic\", \"Enteprise\", \"Premium\", \"Basic\", \"Enteprise\", \"Basic\", \"Premium\", \"Premium\", \"Basic\", \"Enteprise\", \"Basic\", \"Premium\", \"Basic\", \"Basic\", \"Basic\", \"Basic\", \"Enteprise\", \"Enteprise\", \"Basic\", \"Premium\", \"Basic\", \"Premium\", \"Enteprise\", \"Basic\", \"Enteprise\", \"Premium\", \"Basic\", \"Basic\", \"Enteprise\", \"Enteprise\", \"Basic\", \"Premium\", \"Basic\", \"Premium\", \"Enteprise\", \"Basic\", \"Enteprise\", \"Enteprise\", \"Basic\", \"Basic\", \"Basic\", \"Enteprise\", \"Premium\", \"Basic\", \"Enteprise\", \"Enteprise\", \"Premium\", \"Basic\", \"Basic\", \"Enteprise\", \"Basic\", \"Basic\", \"Enteprise\", \"Basic\", \"Premium\", \"Basic\", \"Enteprise\", \"Basic\", \"Enteprise\", \"Premium\", \"Premium\", \"Enteprise\", \"Basic\", \"Basic\", \"Basic\", \"Premium\", \"Basic\", \"Basic\", \"Basic\", \"Enteprise\", \"Basic\", \"Premium\", \"Enteprise\", \"Premium\", \"Basic\", \"Enteprise\", \"Enteprise\", \"Basic\", \"Premium\", \"Basic\", \"Basic\", \"Basic\", \"Enteprise\", \"Premium\", \"Basic\", \"Basic\", \"Enteprise\", \"Premium\", \"Basic\", \"Enteprise\", \"Enteprise\", \"Basic\", \"Premium\", \"Basic\", \"Basic\", \"Basic\", \"Enteprise\", \"Premium\", \"Basic\", \"Enteprise\", \"Enteprise\", \"Basic\", \"Enteprise\", \"Premium\", \"Basic\", \"Enteprise\", \"Enteprise\", \"Basic\", \"Premium\", \"Enteprise\", \"Premium\", \"Basic\", \"Basic\", \"Basic\", \"Enteprise\", \"Premium\", \"Enteprise\", \"Basic\", \"Basic\", \"Enteprise\", \"Basic\", \"Premium\", \"Basic\", \"Basic\", \"Premium\", \"Enteprise\", \"Basic\", \"Basic\", \"Basic\", \"Enteprise\", \"Premium\", \"Basic\", \"Enteprise\", \"Enteprise\", \"Basic\", \"Premium\", \"Basic\", \"Basic\", \"Enteprise\", \"Premium\", \"Basic\", \"Enteprise\", \"Basic\", \"Premium\", \"Basic\", \"Enteprise\", \"Premium\", \"Basic\", \"Enteprise\", \"Enteprise\", \"Basic\", \"Premium\", \"Basic\", \"Basic\", \"Enteprise\", \"Premium\", \"Basic\", \"Enteprise\", \"Basic\", \"Premium\", \"Premium\", \"Basic\", \"Enteprise\", \"Basic\", \"Premium\", \"Basic\", \"Basic\", \"Basic\", \"Basic\", \"Enteprise\", \"Enteprise\", \"Basic\", \"Premium\", \"Basic\", \"Premium\", \"Enteprise\", \"Basic\", \"Enteprise\", \"Premium\", \"Basic\", \"Basic\", \"Enteprise\", \"Enteprise\", \"Basic\", \"Premium\", \"Basic\", \"Premium\", \"Enteprise\", \"Basic\", \"Enteprise\", \"Enteprise\", \"Basic\", \"Basic\", \"Basic\", \"Enteprise\", \"Premium\", \"Basic\", \"Enteprise\", \"Premium\", \"Basic\", \"Enteprise\", \"Enteprise\", \"Basic\", \"Premium\", \"Basic\", \"Basic\", \"Basic\", \"Enteprise\", \"Premium\", \"Basic\", \"Basic\", \"Enteprise\", \"Premium\", \"Basic\", \"Enteprise\", \"Enteprise\", \"Basic\", \"Premium\", \"Basic\", \"Basic\", \"Basic\", \"Enteprise\", \"Premium\", \"Basic\", \"Enteprise\", \"Enteprise\", \"Basic\", \"Enteprise\", \"Premium\", \"Basic\", \"Enteprise\", \"Enteprise\", \"Basic\", \"Premium\", \"Enteprise\", \"Premium\", \"Basic\", \"Basic\", \"Basic\", \"Enteprise\", \"Premium\", \"Enteprise\", \"Basic\", \"Basic\", \"Enteprise\", \"Basic\", \"Premium\", \"Basic\", \"Basic\", \"Premium\", \"Enteprise\", \"Basic\", \"Basic\", \"Basic\", \"Enteprise\", \"Premium\", \"Basic\", \"Enteprise\", \"Enteprise\", \"Basic\", \"Premium\", \"Basic\", \"Basic\", \"Enteprise\", \"Premium\", \"Basic\", \"Enteprise\", \"Basic\", \"Premium\", \"Basic\", \"Enteprise\", \"Premium\", \"Basic\", \"Enteprise\", \"Enteprise\", \"Basic\", \"Premium\", \"Basic\", \"Basic\", \"Enteprise\", \"Premium\", \"Basic\", \"Enteprise\", \"Basic\", \"Premium\", \"Premium\", \"Basic\", \"Enteprise\", \"Basic\", \"Premium\", \"Basic\", \"Basic\", \"Basic\", \"Basic\", \"Enteprise\", \"Enteprise\", \"Basic\", \"Premium\", \"Basic\", \"Premium\", \"Enteprise\", \"Basic\", \"Enteprise\", \"Premium\", \"Basic\", \"Basic\", \"Enteprise\", \"Enteprise\", \"Basic\", \"Premium\", \"Basic\", \"Premium\", \"Enteprise\", \"Basic\", \"Enteprise\", \"Premium\", \"Basic\", \"Enteprise\", \"Enteprise\", \"Basic\", \"Enteprise\", \"Premium\", \"Basic\", \"Enteprise\", \"Enteprise\", \"Basic\", \"Premium\", \"Enteprise\", \"Premium\", \"Basic\", \"Basic\", \"Basic\", \"Enteprise\", \"Premium\", \"Enteprise\", \"Basic\", \"Basic\", \"Enteprise\", \"Basic\", \"Premium\", \"Basic\", \"Basic\", \"Premium\", \"Enteprise\", \"Basic\", \"Basic\", \"Basic\", \"Enteprise\", \"Premium\", \"Basic\", \"Enteprise\", \"Enteprise\", \"Basic\", \"Premium\", \"Basic\", \"Basic\", \"Enteprise\", \"Premium\", \"Basic\", \"Enteprise\", \"Basic\", \"Premium\", \"Basic\", \"Enteprise\", \"Premium\", \"Basic\", \"Enteprise\", \"Enteprise\", \"Basic\", \"Premium\", \"Basic\", \"Basic\", \"Enteprise\", \"Premium\", \"Basic\", \"Enteprise\", \"Basic\", \"Premium\", \"Premium\", \"Basic\", \"Enteprise\", \"Basic\", \"Premium\", \"Basic\", \"Basic\", \"Basic\", \"Basic\", \"Enteprise\", \"Enteprise\", \"Basic\", \"Premium\", \"Basic\", \"Premium\", \"Enteprise\", \"Basic\", \"Enteprise\", \"Premium\", \"Basic\", \"Basic\", \"Enteprise\", \"Enteprise\", \"Basic\", \"Premium\", \"Basic\", \"Premium\", \"Enteprise\", \"Basic\", \"Enteprise\", \"Enteprise\", \"Basic\", \"Basic\", \"Basic\", \"Enteprise\", \"Premium\", \"Basic\", \"Enteprise\", \"Enteprise\", \"Premium\", \"Basic\", \"Basic\", \"Enteprise\", \"Basic\", \"Basic\", \"Enteprise\", \"Basic\", \"Premium\", \"Basic\", \"Enteprise\", \"Basic\", \"Enteprise\", \"Premium\", \"Premium\", \"Enteprise\", \"Basic\", \"Basic\", \"Basic\", \"Premium\", \"Basic\", \"Basic\", \"Basic\", \"Enteprise\", \"Basic\", \"Premium\", \"Enteprise\", \"Premium\", \"Basic\", \"Enteprise\", \"Enteprise\", \"Basic\", \"Premium\", \"Basic\", \"Basic\", \"Basic\", \"Enteprise\", \"Premium\", \"Basic\", \"Basic\", \"Enteprise\", \"Premium\", \"Basic\", \"Enteprise\", \"Enteprise\", \"Basic\", \"Premium\", \"Basic\", \"Basic\", \"Basic\", \"Enteprise\", \"Premium\", \"Basic\", \"Enteprise\", \"Enteprise\", \"Basic\", \"Enteprise\", \"Premium\", \"Basic\", \"Enteprise\", \"Enteprise\", \"Basic\", \"Premium\", \"Enteprise\", \"Premium\", \"Basic\", \"Basic\", \"Basic\", \"Enteprise\", \"Premium\", \"Enteprise\", \"Basic\", \"Basic\", \"Enteprise\", \"Basic\", \"Premium\", \"Basic\", \"Basic\", \"Premium\", \"Enteprise\", \"Basic\", \"Basic\", \"Basic\", \"Enteprise\", \"Premium\", \"Basic\", \"Enteprise\", \"Enteprise\", \"Basic\", \"Premium\", \"Basic\", \"Basic\", \"Enteprise\", \"Premium\", \"Basic\", \"Enteprise\", \"Basic\", \"Premium\", \"Basic\", \"Enteprise\", \"Premium\", \"Basic\", \"Enteprise\", \"Enteprise\", \"Basic\", \"Premium\", \"Basic\", \"Basic\", \"Enteprise\", \"Premium\", \"Basic\", \"Enteprise\", \"Basic\", \"Premium\", \"Premium\", \"Basic\", \"Enteprise\", \"Basic\", \"Premium\", \"Basic\", \"Basic\", \"Basic\", \"Basic\", \"Enteprise\", \"Enteprise\", \"Basic\", \"Premium\", \"Basic\", \"Premium\", \"Enteprise\", \"Basic\", \"Enteprise\", \"Premium\", \"Basic\", \"Basic\", \"Enteprise\", \"Enteprise\", \"Basic\", \"Premium\", \"Basic\", \"Premium\", \"Enteprise\", \"Basic\", \"Enteprise\", \"Enteprise\", \"Basic\", \"Basic\", \"Basic\", \"Enteprise\", \"Premium\", \"Basic\", \"Enteprise\", \"Premium\", \"Basic\", \"Enteprise\", \"Enteprise\", \"Basic\", \"Premium\", \"Basic\", \"Basic\", \"Basic\", \"Enteprise\", \"Premium\", \"Basic\", \"Basic\", \"Enteprise\", \"Premium\", \"Basic\", \"Enteprise\", \"Enteprise\", \"Basic\", \"Premium\", \"Basic\", \"Basic\", \"Basic\", \"Enteprise\", \"Premium\", \"Basic\", \"Enteprise\", \"Enteprise\", \"Basic\", \"Enteprise\", \"Premium\", \"Basic\", \"Enteprise\", \"Enteprise\", \"Basic\", \"Premium\", \"Enteprise\", \"Premium\", \"Basic\", \"Basic\", \"Basic\", \"Enteprise\", \"Premium\", \"Enteprise\", \"Basic\", \"Basic\", \"Enteprise\", \"Basic\", \"Premium\", \"Basic\", \"Basic\", \"Premium\", \"Enteprise\", \"Basic\", \"Basic\", \"Basic\", \"Enteprise\", \"Premium\", \"Basic\", \"Enteprise\", \"Enteprise\", \"Basic\", \"Premium\", \"Basic\", \"Basic\", \"Enteprise\", \"Premium\", \"Basic\", \"Enteprise\", \"Basic\", \"Premium\", \"Basic\", \"Enteprise\", \"Premium\", \"Basic\", \"Enteprise\", \"Enteprise\", \"Basic\", \"Premium\", \"Basic\", \"Basic\", \"Enteprise\", \"Premium\", \"Basic\", \"Enteprise\", \"Basic\", \"Premium\", \"Premium\", \"Basic\", \"Enteprise\", \"Basic\", \"Premium\", \"Basic\", \"Basic\", \"Basic\", \"Basic\", \"Enteprise\", \"Enteprise\", \"Basic\", \"Premium\", \"Basic\", \"Premium\", \"Enteprise\", \"Basic\", \"Enteprise\", \"Premium\", \"Basic\", \"Basic\", \"Enteprise\", \"Enteprise\", \"Basic\", \"Premium\", \"Basic\", \"Premium\", \"Enteprise\", \"Basic\", \"Enteprise\", \"Premium\", \"Basic\", \"Basic\", \"Enteprise\", \"Enteprise\", \"Basic\", \"Premium\", \"Basic\", \"Premium\", \"Enteprise\", \"Basic\", \"Enteprise\", \"Premium\", \"Basic\", \"Basic\", \"Enteprise\", \"Enteprise\", \"Basic\", \"Premium\", \"Basic\", \"Premium\", \"Enteprise\", \"Basic\", \"Enteprise\", \"Enteprise\", \"Basic\", \"Basic\", \"Basic\", \"Enteprise\", \"Premium\", \"Basic\", \"Enteprise\", \"Enteprise\", \"Premium\", \"Basic\", \"Basic\", \"Enteprise\", \"Basic\", \"Basic\", \"Enteprise\", \"Basic\", \"Premium\", \"Basic\", \"Enteprise\", \"Basic\", \"Enteprise\", \"Premium\", \"Premium\", \"Enteprise\", \"Basic\", \"Basic\", \"Basic\", \"Premium\", \"Basic\", \"Basic\", \"Basic\", \"Enteprise\", \"Basic\", \"Premium\", \"Enteprise\", \"Premium\", \"Basic\", \"Enteprise\", \"Enteprise\", \"Basic\", \"Premium\", \"Basic\", \"Basic\", \"Basic\", \"Enteprise\", \"Premium\", \"Basic\", \"Basic\", \"Enteprise\", \"Premium\", \"Basic\", \"Enteprise\", \"Enteprise\", \"Basic\", \"Premium\", \"Basic\", \"Basic\", \"Basic\", \"Enteprise\", \"Premium\", \"Basic\", \"Enteprise\", \"Enteprise\", \"Basic\", \"Enteprise\", \"Premium\", \"Basic\", \"Enteprise\", \"Enteprise\", \"Basic\", \"Premium\", \"Enteprise\", \"Premium\", \"Basic\", \"Basic\", \"Basic\", \"Enteprise\", \"Premium\", \"Enteprise\", \"Basic\", \"Basic\", \"Enteprise\", \"Basic\", \"Premium\", \"Basic\", \"Basic\", \"Premium\", \"Enteprise\", \"Basic\", \"Basic\", \"Basic\", \"Enteprise\", \"Premium\", \"Basic\", \"Enteprise\", \"Enteprise\", \"Basic\", \"Premium\", \"Basic\", \"Basic\", \"Enteprise\", \"Premium\", \"Basic\", \"Enteprise\", \"Basic\", \"Premium\", \"Basic\", \"Enteprise\", \"Premium\", \"Basic\", \"Enteprise\", \"Enteprise\", \"Basic\", \"Premium\", \"Basic\", \"Basic\", \"Enteprise\", \"Premium\", \"Basic\", \"Enteprise\", \"Basic\", \"Premium\", \"Premium\", \"Basic\", \"Enteprise\", \"Basic\", \"Premium\", \"Basic\", \"Basic\", \"Basic\", \"Basic\", \"Enteprise\", \"Enteprise\", \"Basic\", \"Premium\", \"Basic\", \"Premium\", \"Enteprise\", \"Basic\", \"Enteprise\", \"Premium\", \"Basic\", \"Basic\", \"Enteprise\", \"Enteprise\", \"Basic\", \"Premium\", \"Basic\", \"Premium\", \"Enteprise\", \"Basic\", \"Enteprise\", \"Enteprise\", \"Basic\", \"Basic\", \"Basic\", \"Enteprise\", \"Premium\", \"Basic\", \"Enteprise\", \"Premium\", \"Basic\", \"Enteprise\", \"Enteprise\", \"Basic\", \"Premium\", \"Basic\", \"Basic\", \"Basic\", \"Enteprise\", \"Premium\", \"Basic\", \"Basic\", \"Enteprise\", \"Premium\", \"Basic\", \"Enteprise\", \"Enteprise\", \"Basic\", \"Premium\", \"Basic\", \"Basic\", \"Basic\", \"Enteprise\", \"Premium\", \"Basic\", \"Enteprise\", \"Enteprise\", \"Basic\", \"Enteprise\", \"Premium\", \"Basic\", \"Enteprise\", \"Enteprise\", \"Basic\", \"Premium\", \"Enteprise\", \"Premium\", \"Basic\", \"Basic\", \"Basic\", \"Enteprise\", \"Premium\", \"Enteprise\", \"Basic\", \"Basic\", \"Enteprise\", \"Basic\", \"Premium\", \"Basic\", \"Basic\", \"Premium\", \"Enteprise\", \"Basic\", \"Basic\", \"Basic\", \"Enteprise\", \"Premium\", \"Basic\", \"Enteprise\", \"Enteprise\", \"Basic\", \"Premium\", \"Basic\", \"Basic\", \"Enteprise\", \"Premium\", \"Basic\", \"Enteprise\", \"Basic\", \"Premium\", \"Basic\", \"Enteprise\", \"Premium\", \"Basic\", \"Enteprise\", \"Enteprise\", \"Basic\", \"Premium\", \"Basic\", \"Basic\", \"Enteprise\", \"Premium\", \"Basic\", \"Enteprise\", \"Basic\", \"Premium\", \"Premium\", \"Basic\", \"Enteprise\", \"Basic\", \"Premium\", \"Basic\", \"Basic\", \"Basic\", \"Basic\", \"Enteprise\", \"Enteprise\", \"Basic\", \"Premium\", \"Basic\", \"Premium\", \"Enteprise\", \"Basic\", \"Enteprise\", \"Premium\", \"Basic\", \"Basic\", \"Enteprise\", \"Enteprise\", \"Basic\", \"Premium\", \"Basic\", \"Premium\", \"Enteprise\", \"Basic\", \"Premium\", \"Basic\", \"Basic\", \"Enteprise\", \"Basic\", \"Enteprise\", \"Premium\", \"Basic\", \"Enteprise\", \"Enteprise\", \"Basic\", \"Premium\", \"Enteprise\", \"Premium\", \"Basic\", \"Basic\", \"Basic\", \"Enteprise\", \"Premium\", \"Enteprise\", \"Basic\", \"Basic\", \"Enteprise\", \"Basic\", \"Premium\", \"Basic\", \"Basic\", \"Premium\", \"Enteprise\", \"Basic\", \"Basic\", \"Basic\", \"Enteprise\", \"Premium\", \"Basic\", \"Enteprise\", \"Enteprise\", \"Basic\", \"Premium\", \"Basic\", \"Basic\", \"Enteprise\", \"Premium\", \"Basic\", \"Enteprise\", \"Basic\", \"Premium\", \"Basic\", \"Enteprise\", \"Premium\", \"Basic\", \"Enteprise\", \"Enteprise\", \"Basic\", \"Premium\", \"Basic\", \"Basic\", \"Enteprise\", \"Premium\", \"Basic\", \"Enteprise\", \"Basic\", \"Premium\", \"Premium\", \"Basic\", \"Enteprise\", \"Basic\", \"Premium\", \"Basic\", \"Basic\", \"Basic\", \"Basic\", \"Enteprise\", \"Enteprise\", \"Basic\", \"Premium\", \"Basic\", \"Premium\", \"Enteprise\", \"Basic\", \"Enteprise\", \"Premium\", \"Basic\", \"Basic\", \"Enteprise\", \"Enteprise\", \"Basic\", \"Premium\", \"Basic\", \"Premium\", \"Enteprise\", \"Basic\", \"Enteprise\", \"Enteprise\", \"Basic\", \"Basic\", \"Basic\", \"Enteprise\", \"Premium\", \"Basic\", \"Enteprise\", \"Enteprise\", \"Premium\", \"Basic\", \"Basic\", \"Enteprise\", \"Basic\", \"Basic\", \"Enteprise\", \"Basic\", \"Premium\", \"Basic\", \"Enteprise\", \"Basic\", \"Enteprise\", \"Premium\", \"Premium\", \"Enteprise\", \"Basic\", \"Basic\", \"Basic\", \"Premium\", \"Basic\", \"Basic\", \"Basic\", \"Enteprise\", \"Basic\", \"Premium\", \"Enteprise\", \"Premium\", \"Basic\", \"Enteprise\", \"Enteprise\", \"Basic\", \"Premium\", \"Basic\", \"Basic\", \"Basic\", \"Enteprise\", \"Premium\", \"Basic\", \"Basic\", \"Enteprise\", \"Premium\", \"Basic\", \"Enteprise\", \"Enteprise\", \"Basic\", \"Premium\", \"Basic\", \"Basic\", \"Basic\", \"Enteprise\", \"Premium\", \"Basic\", \"Enteprise\", \"Enteprise\", \"Basic\", \"Enteprise\", \"Premium\", \"Basic\", \"Enteprise\", \"Enteprise\", \"Basic\", \"Premium\", \"Enteprise\", \"Premium\", \"Basic\", \"Basic\", \"Basic\", \"Enteprise\", \"Premium\", \"Enteprise\", \"Basic\", \"Basic\", \"Enteprise\", \"Basic\", \"Premium\", \"Basic\", \"Basic\", \"Premium\", \"Enteprise\", \"Basic\", \"Basic\", \"Basic\", \"Enteprise\", \"Premium\", \"Basic\", \"Enteprise\", \"Enteprise\", \"Basic\", \"Premium\", \"Basic\", \"Basic\", \"Enteprise\", \"Premium\", \"Basic\", \"Enteprise\", \"Basic\", \"Premium\", \"Basic\", \"Enteprise\", \"Premium\", \"Basic\", \"Enteprise\", \"Enteprise\", \"Basic\", \"Premium\", \"Basic\", \"Basic\", \"Enteprise\", \"Premium\", \"Basic\", \"Enteprise\", \"Basic\", \"Premium\", \"Premium\", \"Basic\", \"Enteprise\", \"Basic\", \"Premium\", \"Basic\", \"Basic\", \"Basic\", \"Basic\", \"Enteprise\", \"Enteprise\", \"Basic\", \"Premium\", \"Basic\", \"Premium\", \"Enteprise\", \"Basic\", \"Enteprise\", \"Premium\", \"Basic\", \"Basic\", \"Enteprise\", \"Enteprise\", \"Basic\", \"Premium\", \"Basic\", \"Premium\", \"Enteprise\", \"Basic\", \"Enteprise\", \"Enteprise\", \"Basic\", \"Basic\", \"Basic\", \"Enteprise\", \"Premium\", \"Basic\", \"Enteprise\", \"Premium\", \"Basic\", \"Enteprise\", \"Enteprise\", \"Basic\", \"Premium\", \"Basic\", \"Basic\", \"Basic\", \"Enteprise\", \"Premium\", \"Basic\", \"Basic\", \"Enteprise\", \"Premium\", \"Basic\", \"Enteprise\", \"Enteprise\", \"Basic\", \"Premium\", \"Basic\", \"Basic\", \"Basic\", \"Enteprise\", \"Premium\", \"Basic\", \"Enteprise\", \"Enteprise\", \"Basic\", \"Enteprise\", \"Premium\", \"Basic\", \"Enteprise\", \"Enteprise\", \"Basic\", \"Premium\", \"Enteprise\", \"Premium\", \"Basic\", \"Basic\", \"Basic\", \"Enteprise\", \"Premium\", \"Enteprise\", \"Basic\", \"Basic\", \"Enteprise\", \"Basic\", \"Premium\", \"Basic\", \"Basic\", \"Premium\", \"Enteprise\", \"Basic\", \"Basic\", \"Basic\", \"Enteprise\", \"Premium\", \"Basic\", \"Enteprise\", \"Enteprise\", \"Basic\", \"Premium\", \"Basic\", \"Basic\", \"Enteprise\", \"Premium\", \"Basic\", \"Enteprise\", \"Basic\", \"Premium\", \"Basic\", \"Enteprise\", \"Premium\", \"Basic\", \"Enteprise\", \"Enteprise\", \"Basic\", \"Premium\", \"Basic\", \"Basic\", \"Enteprise\", \"Premium\", \"Basic\", \"Enteprise\", \"Basic\", \"Premium\", \"Premium\", \"Basic\", \"Enteprise\", \"Basic\", \"Premium\", \"Basic\", \"Basic\", \"Basic\", \"Basic\", \"Enteprise\", \"Enteprise\", \"Basic\", \"Premium\", \"Basic\", \"Premium\", \"Enteprise\", \"Basic\", \"Enteprise\", \"Premium\", \"Basic\", \"Basic\", \"Enteprise\", \"Enteprise\", \"Basic\", \"Premium\", \"Basic\", \"Premium\", \"Enteprise\", \"Basic\", \"Enteprise\", \"Premium\", \"Basic\", \"Enteprise\", \"Enteprise\", \"Basic\", \"Enteprise\", \"Premium\", \"Basic\", \"Enteprise\", \"Enteprise\", \"Basic\", \"Premium\", \"Enteprise\", \"Premium\", \"Basic\", \"Basic\", \"Basic\", \"Enteprise\", \"Premium\", \"Enteprise\", \"Basic\", \"Basic\", \"Enteprise\", \"Basic\", \"Premium\", \"Basic\", \"Basic\", \"Premium\", \"Enteprise\", \"Basic\", \"Basic\", \"Basic\", \"Enteprise\", \"Premium\", \"Basic\", \"Enteprise\", \"Enteprise\", \"Basic\", \"Premium\", \"Basic\", \"Basic\", \"Enteprise\", \"Premium\", \"Basic\", \"Enteprise\", \"Basic\", \"Premium\", \"Basic\", \"Enteprise\", \"Premium\", \"Basic\", \"Enteprise\", \"Enteprise\", \"Basic\", \"Premium\", \"Basic\", \"Basic\", \"Enteprise\", \"Premium\", \"Basic\", \"Enteprise\", \"Basic\", \"Premium\", \"Premium\", \"Basic\", \"Enteprise\", \"Basic\", \"Premium\", \"Basic\", \"Basic\", \"Basic\", \"Basic\", \"Enteprise\", \"Enteprise\", \"Basic\", \"Premium\", \"Basic\", \"Premium\", \"Enteprise\", \"Basic\", \"Enteprise\", \"Premium\", \"Basic\", \"Basic\", \"Enteprise\", \"Enteprise\", \"Basic\", \"Premium\", \"Basic\", \"Premium\", \"Enteprise\", \"Basic\", \"Enteprise\", \"Enteprise\", \"Basic\", \"Basic\", \"Basic\", \"Enteprise\", \"Premium\", \"Basic\", \"Enteprise\", \"Enteprise\", \"Premium\", \"Basic\", \"Basic\", \"Enteprise\", \"Basic\", \"Basic\", \"Enteprise\", \"Basic\", \"Premium\", \"Basic\", \"Enteprise\", \"Basic\", \"Enteprise\", \"Premium\", \"Premium\", \"Enteprise\", \"Basic\", \"Basic\", \"Basic\", \"Premium\", \"Basic\", \"Basic\", \"Basic\", \"Enteprise\", \"Basic\", \"Premium\", \"Enteprise\", \"Premium\", \"Basic\", \"Enteprise\", \"Enteprise\", \"Basic\", \"Premium\", \"Basic\", \"Basic\", \"Basic\", \"Enteprise\", \"Premium\", \"Basic\", \"Basic\", \"Enteprise\", \"Premium\", \"Basic\", \"Enteprise\", \"Enteprise\", \"Basic\", \"Premium\", \"Basic\", \"Basic\", \"Basic\", \"Enteprise\", \"Premium\", \"Basic\", \"Enteprise\", \"Enteprise\", \"Basic\", \"Enteprise\", \"Premium\", \"Basic\", \"Enteprise\", \"Enteprise\", \"Basic\", \"Premium\", \"Enteprise\", \"Premium\", \"Basic\", \"Basic\", \"Basic\", \"Enteprise\", \"Premium\", \"Enteprise\", \"Basic\", \"Basic\", \"Enteprise\", \"Basic\", \"Premium\", \"Basic\", \"Basic\", \"Premium\", \"Enteprise\", \"Basic\", \"Basic\", \"Basic\", \"Enteprise\", \"Premium\", \"Basic\", \"Enteprise\", \"Enteprise\", \"Basic\", \"Premium\", \"Basic\", \"Basic\", \"Enteprise\", \"Premium\", \"Basic\", \"Enteprise\", \"Basic\", \"Premium\", \"Basic\", \"Enteprise\", \"Premium\", \"Basic\", \"Enteprise\", \"Enteprise\", \"Basic\", \"Premium\", \"Basic\", \"Basic\", \"Enteprise\", \"Premium\", \"Basic\", \"Enteprise\", \"Basic\", \"Premium\", \"Premium\", \"Basic\", \"Enteprise\", \"Basic\", \"Premium\", \"Basic\", \"Basic\", \"Basic\", \"Basic\", \"Enteprise\", \"Enteprise\", \"Basic\", \"Premium\", \"Basic\", \"Premium\", \"Enteprise\", \"Basic\", \"Enteprise\", \"Premium\", null, \"Basic\", \"Enteprise\", \"Enteprise\", \"Basic\", \"Premium\", \"Basic\", \"Premium\", \"Enteprise\", \"Basic\", \"Enteprise\", \"Enteprise\", \"Basic\", \"Basic\", \"Basic\", \"Enteprise\", \"Premium\", \"Basic\", \"Enteprise\", \"Premium\", \"Basic\", \"Enteprise\", \"Enteprise\", \"Basic\", \"Premium\", \"Basic\", \"Basic\", \"Basic\", \"Enteprise\", \"Premium\", \"Basic\", \"Basic\", \"Enteprise\", \"Premium\", \"Basic\", \"Enteprise\", \"Enteprise\", \"Basic\", \"Premium\", \"Basic\", \"Basic\", \"Basic\", \"Enteprise\", \"Premium\", \"Basic\", \"Enteprise\", \"Enteprise\", \"Basic\", \"Enteprise\", \"Premium\", \"Basic\", \"Enteprise\", \"Enteprise\", \"Basic\", \"Premium\", \"Enteprise\", \"Premium\", \"Basic\", \"Basic\", \"Basic\", \"Enteprise\", \"Premium\", \"Enteprise\", \"Basic\", \"Basic\", \"Enteprise\", \"Basic\", \"Premium\", \"Basic\", \"Basic\", \"Premium\", \"Enteprise\", \"Basic\", \"Basic\", \"Basic\", \"Enteprise\", \"Premium\", \"Basic\", \"Enteprise\", \"Enteprise\", \"Basic\", \"Premium\", \"Basic\", \"Basic\", \"Enteprise\", \"Premium\", \"Basic\", \"Enteprise\", \"Basic\", \"Premium\", \"Basic\", \"Enteprise\", \"Premium\", \"Basic\", \"Enteprise\", \"Enteprise\", \"Basic\", \"Premium\", \"Basic\", \"Basic\", \"Enteprise\", \"Premium\", \"Basic\", \"Enteprise\", \"Basic\", \"Premium\", \"Premium\", \"Basic\", \"Enteprise\", \"Basic\", \"Premium\", \"Basic\", \"Basic\", \"Basic\", \"Basic\", \"Enteprise\", \"Enteprise\", \"Basic\", \"Premium\", \"Basic\", \"Premium\", \"Enteprise\", \"Basic\", \"Enteprise\", \"Premium\", \"Basic\", \"Basic\", \"Enteprise\", \"Enteprise\", \"Basic\", \"Premium\", \"Basic\", \"Premium\", \"Enteprise\", \"Basic\", \"Enteprise\", \"Enteprise\"], \"x0\": \" \", \"xaxis\": \"x\", \"y\": [7, 5, 7, 5, 7, 5, 10, 10, 5, 5, 7, 7, 9, 6, 9, 9, 8, 5, 6, 9, 9, 5, 6, 8, 10, 8, 10, 6, 5, 6, 10, 8, 8, 7, 7, 8, 8, 10, 7, 6, 5, 5, 6, 8, 7, 9, 6, 9, 7, 7, 5, 6, 8, 8, 5, 6, 8, 8, 9, 5, 10, 6, 7, 9, 6, 6, 9, 5, 5, 10, 5, 5, 7, 7, 8, 6, 8, 5, 9, 9, 7, 8, 8, 9, 5, 10, 10, 8, 6, 10, 7, 7, 9, 8, 6, 8, 10, 10, 8, 10, 9, 8, 10, 5, 9, 7, 10, 10, 6, 5, 5, 6, 10, 5, 8, 5, 8, 8, 5, 10, 6, 7, 5, 9, 8, 7, 6, 7, 9, 8, 8, 10, 9, 8, 5, 10, 7, 10, 6, 7, 5, 6, 8, 9, 8, 9, 5, 10, 6, 7, 10, 7, 10, 10, 9, 8, 5, 7, 6, 6, 5, 6, 6, 8, 10, 8, 5, 9, 10, 8, 8, 9, 5, 7, 9, 5, 7, 10, 7, 7, 5, 9, 8, 5, 6, 8, 10, 8, 6, 10, 6, 9, 8, 9, 5, 8, 10, 7, 7, 10, 7, 6, 8, 5, 5, 6, 6, 6, 5, 6, 5, 8, 8, 9, 7, 9, 8, 6, 7, 6, 10, 9, 5, 5, 5, 10, 9, 10, 9, 8, 10, 5, 5, 9, 6, 9, 6, 5, 5, 8, 7, 8, 8, 6, 9, 8, 10, 9, 7, 5, 7, 8, 8, 9, 5, 7, 10, 9, 7, 6, 9, 6, 6, 7, 8, 7, 8, 5, 7, 6, 6, 10, 9, 10, 9, 7, 6, 6, 6, 8, 7, 5, 7, 8, 9, 10, 10, 8, 5, 6, 8, 7, 9, 8, 5, 6, 10, 8, 7, 9, 5, 9, 9, 9, 7, 10, 7, 10, 5, 10, 8, 6, 9, 9, 10, 10, 9, 5, 8, 6, 10, 9, 6, 10, 6, 7, 5, 9, 9, 8, 9, 8, 9, 5, 7, 5, 7, 9, 10, 10, 9, 6, 9, 9, 10, 10, 7, 6, 6, 7, 5, 6, 9, 8, 8, 7, 10, 10, 10, 5, 7, 5, 6, 8, 6, 5, 10, 8, 5, 5, 6, 5, 5, 6, 9, 5, 6, 6, 8, 9, 6, 10, 8, 6, 10, 9, 5, 5, 6, 5, 5, 8, 8, 10, 7, 9, 6, 9, 9, 7, 9, 10, 5, 9, 9, 9, 10, 9, 10, 6, 9, 8, 9, 8, 5, 9, 7, 5, 9, 8, 10, 7, 8, 5, 7, 5, 7, 9, 9, 10, 6, 8, 5, 7, 9, 7, 5, 8, 8, 8, 5, 6, 9, 5, 8, 5, 8, 7, 8, 10, 5, 10, 10, 6, 6, 7, 7, 5, 8, 6, 6, 7, 9, 6, 7, 10, 10, 7, 8, 9, 5, 7, 8, 9, 9, 10, 5, 5, 6, 9, 9, 8, 8, 7, 8, 5, 7, 7, 8, 8, 5, 7, 10, 10, 5, 9, 5, 6, 8, 9, 7, 8, 7, 10, 5, 5, 6, 5, 9, 5, 9, 10, 6, 10, 10, 9, 7, 10, 8, 5, 10, 8, 7, 9, 6, 10, 7, 9, 8, 5, 8, 5, 10, 7, 10, 5, 5, 5, 8, 10, 5, 10, 7, 5, 9, 7, 5, 9, 10, 8, 6, 9, 9, 5, 10, 5, 9, 5, 10, 7, 8, 5, 5, 8, 7, 5, 8, 10, 9, 9, 6, 5, 8, 10, 7, 6, 7, 6, 10, 6, 8, 8, 9, 8, 10, 9, 5, 6, 10, 7, 10, 9, 7, 5, 7, 7, 10, 8, 8, 6, 10, 6, 10, 7, 5, 10, 9, 9, 9, 7, 6, 5, 7, 10, 5, 6, 8, 8, 10, 9, 5, 8, 8, 10, 5, 9, 5, 7, 9, 10, 5, 10, 10, 8, 5, 6, 7, 8, 6, 8, 10, 10, 8, 5, 8, 9, 8, 10, 7, 8, 5, 6, 10, 6, 9, 9, 8, 8, 9, 8, 6, 7, 7, 5, 7, 6, 6, 9, 9, 6, 10, 7, 7, 7, 6, 10, 8, 9, 8, 7, 8, 5, 8, 9, 5, 9, 10, 9, 10, 7, 6, 5, 9, 7, 10, 7, 8, 8, 7, 7, 6, 5, 7, 6, 10, 10, 6, 6, 9, 7, 8, 8, 9, 10, 10, 5, 10, 9, 10, 7, 7, 8, 5, 5, 7, 6, 7, 5, 5, 6, 8, 5, 9, 8, 9, 5, 5, 7, 10, 7, 10, 10, 10, 10, 5, 7, 8, 8, 8, 6, 7, 8, 5, 9, 6, 8, 10, 8, 6, 10, 8, 5, 10, 5, 10, 5, 10, 9, 8, 5, 8, 9, 8, 9, 5, 6, 5, 9, 10, 10, 5, 5, 5, 5, 5, 10, 8, 7, 8, 5, 10, 9, 8, 10, 7, 10, 8, 8, 8, 10, 6, 9, 6, 10, 7, 7, 10, 8, 10, 9, 9, 5, 8, 9, 9, 7, 6, 8, 10, 10, 8, 10, 5, 10, 10, 10, 6, 5, 10, 6, 8, 9, 5, 9, 5, 10, 7, 5, 9, 8, 8, 7, 9, 6, 7, 8, 7, 9, 10, 10, 5, 6, 7, 6, 6, 5, 8, 5, 10, 5, 8, 6, 10, 10, 7, 7, 6, 6, 8, 5, 7, 8, 9, 9, 6, 9, 8, 7, 7, 7, 5, 10, 8, 9, 10, 5, 6, 10, 5, 7, 8, 10, 9, 10, 8, 8, 10, 8, 6, 9, 10, 8, 9, 6, 8, 10, 9, 8, 8, 8, 5, 8, 9, 5, 6, 5, 8, 7, 7, 10, 10, 10, 7, 8, 6, 8, 7, 8, 10, 9, 9, 9, 5, 7, 6, 7, 5, 7, 7, 7, 9, 9, 7, 8, 7, 7, 5, 9, 10, 6, 8, 10, 6, 9, 8, 6, 6, 8, 5, 9, 9, 9, 6, 10, 8, 7, 8, 8, 7, 8, 5, 8, 5, 7, 7, 5, 6, 6, 10, 5, 6, 7, 8, 9, 6, 9, 5, 6, 9, 9, 10, 8, 9, 5, 9, 8, 9, 7, 5, 7, 8, 10, 7, 5, 5, 7, 5, 5, 5, 5, 8, 6, 7, 7, 6, 6, 6, 7, 6, 10, 10, 10, 5, 5, 8, 7, 8, 5, 7, 7, 8, 8, 9, 10, 10, 9, 10, 9, 5, 8, 5, 7, 10, 7, 8, 5, 9, 8, 6, 8, 10, 7, 8, 7, 6, 7, 5, 6, 10, 10, 5, 9, 9, 7, 7, 10, 10, 9, 5, 9, 10, 8, 10, 8, 5, 9, 8, 7, 8, 7, 9, 9, 7, 5, 5, 5, 9, 10, 5, 10, 10, 10, 9, 8, 9, 10, 5, 9, 5, 7, 7, 5, 10, 9, 5, 5, 6, 10, 7, 9, 6, 5, 9, 9, 7, 9, 8, 7, 8, 7, 7, 10, 9, 8, 5, 5, 8, 8, 10, 10, 10, 9, 6, 5, 5, 7, 9, 6, 7, 5, 7, 9, 6, 5, 7, 7, 7, 9, 6, 10, 8, 5, 7, 6, 6, 8, 9, 9, 8, 6, 8, 7, 10, 7, 9, 8, 6, 7, 10, 10, 6, 8, 10, 9, 8, 7, 5, 8, 9, 6, 5, 8, 8, 10, 9, 7, 5, 8, 6, 7, 7, 10, 10, 8, 5, 9, 5, 9, 10, 9, 7, 6, 10, 10, 9, 6, 10, 5, 10, 7, 9, 9, 7, 10, 10, 9, 6, 10, 10, 9, 8, 10, 7, 5, 10, 9, 9, 5, 6, 5, 6, 9, 10, 7, 5, 8, 10, 5, 10, 5, 6, 8, 6, 6, 7, 10, 6, 8, 8, 5, 10, 9, 5, 5, 6, 7, 6, 9, 6, 6, 10, 5, 8, 7, 7, 9, 7, 10, 9, 6, 6, 10, 6, 9, 8, 8, 7, 9, 10, 8, 8, 10, 9, 9, 5, 10, 9, 6, 5, 9, 7, 8, 9, 5, 5, 10, 10, 9, 5, 6, 10, 10, 8, 10, 9, 7, 7, 9, 7, 9, 6, 6, 10, 9, 9, 5, 10, 8, 5, 5, 9, 9, 8, 7, 6, 6, 10, 5, 6, 6, 10, 7, 8, 6, 5, 8, 8, 8, 8, 6, 9, 6, 5, 10, 10, 9, 7, 8, 3, 4, 7, 4, 8, 2, 1, 6, 5, 1, 4, 7, 7, 5, 3, 1, 8, 9, 9, 7, 9, 2, 3, 3, 6, 8, 10, 10, 10, 3, 5, 3, 2, 9, 4, 2, 7, 5, 10, 9, 9, 8, 8, 10, 9, 10, 3, 6, 8, 8, 2, 1, 5, 1, 3, 5, 5, 6, 8, 9, 2, 9, 5, 3, 10, 5, 8, 1, 1, 4, 6, 2, 8, 1, 5, 1, 1, 8, 8, 5, 5, 7, 9, 8, 9, 7, 9, 5, 2, 2, 1, 8, 3, 3, 10, 4, 2, 3, 6, 6, 1, 10, 7, 2, 6, 7, 6, 6, 5, 4, 8, 6, 4, 10, 8, 5, 1, 9, 7, 7, 2, 10, 7, 5, 3, 8, 10, 10, 1, 4, 8, 3, 10, 5, 4, 6, 4, 2, 6, 4, 10, 2, 4, 9, 9, 3, 1, 9, 9, 2, 6, 8, 9, 8, 6, 8, 5, 5, 8, 6, 9, 6, 4, 8, 10, 10, 9, 4, 10, 9, 5, 9, 1, 3, 5, 8, 4, 7, 6, 4, 2, 5, 4, 10, 3, 9, 5, 3, 3, 2, 1, 4, 10, 4, 9, 2, 6, 5, 8, 5, 10, 3, 5, 6, 5, 4, 10, 4, 8, 4, 6, 10, 5, 9, 6, 8, 8, 8, 9, 6, 9, 7, 5, 10, 4, 10, 4, 4, 8, 9, 8, 7, 5, 8, 10, 5, 5, 4, 8, 8, 7, 4, 9, 7, 5, 6, 5, 6, 6, 10, 4, 8, 4, 5, 5, 4, 6, 5, 7, 8, 6, 10, 5, 7, 8, 4, 6, 5, 8, 9, 9, 8, 10, 8, 4, 8, 8, 4, 4, 4, 7, 6, 7, 10, 10, 9, 7, 8, 8, 10, 7, 7, 10, 4, 9, 4, 9, 10, 7, 6, 5, 9, 8, 9, 6, 5, 5, 6, 9, 4, 10, 6, 7, 6, 6, 6, 9, 4, 6, 6, 4, 10, 10, 6, 8, 5, 8, 10, 6, 5, 8, 6, 8, 6, 9, 10, 5, 5, 8, 10, 8, 6, 8, 9, 5, 7, 7, 6, 9, 9, 8, 7, 9, 10, 9, 7, 7, 4, 8, 8, 7, 10, 4, 6, 6, 10, 6, 5, 9, 8, 8, 9, 10, 4, 5, 9, 4, 7, 5, 7, 5, 5, 10, 10, 6, 8, 6, 8, 8, 9, 9, 10, 5, 8, 10, 6, 10, 6, 10, 9, 8, 5, 10, 6, 10, 10, 8, 8, 7, 9, 5, 7, 10, 6, 9, 5, 5, 7, 8, 8, 5, 9, 7, 8, 8, 8, 8, 6, 6, 6, 9, 8, 10, 8, 8, 5, 7, 7, 6, 9, 6, 10, 5, 5, 10, 7, 9, 7, 7, 9, 5, 9, 7, 8, 6, 8, 6, 9, 8, 6, 7, 8, 7, 9, 10, 6, 10, 8, 7, 5, 10, 5, 7, 8, 5, 7, 10, 9, 8, 8, 7, 9, 9, 10, 9, 8, 9, 5, 9, 7, 10, 5, 9, 5, 9, 8, 9, 10, 7, 6, 10, 9, 7, 7, 6, 1, 10, 9, 6, 9, 8, 5, 3, 6, 1, 5, 3, 1, 10, 7, 3, 4, 1, 8, 9, 4, 10, 5, 6, 9, 8, 6, 5, 10, 9, 7, 7, 3, 2, 9, 8, 2, 3, 9, 7, 9, 4, 2, 5, 10, 8, 4, 3, 4, 1, 10, 10, 3, 8, 5, 10, 3, 1, 6, 3, 5, 7, 4, 7, 4, 9, 4, 4, 10, 5, 8, 3, 10, 4, 6, 9, 8, 8, 2, 1, 2, 3, 3, 10, 5, 10, 10, 2, 2, 7, 1, 6, 7, 8, 8, 5, 6, 4, 9, 8, 1, 2, 9, 2, 1, 6, 6, 10, 6, 9, 4, 3, 4, 2, 10, 9, 8, 7, 5, 3, 3, 1, 1, 10, 9, 3, 5, 7, 7, 10, 10, 10, 7, 5, 8, 8, 7, 3, 8, 2, 9, 8, 9, 5, 1, 2, 4, 6, 2, 1, 5, 10, 1, 9, 1, 2, 5, 5, 7, 9, 1, 2, 3, 3, 7, 10, 3, 10, 8, 2, 4, 3, 2, 6, 2, 8, 1, 1, 5, 9, 8, 7, 5, 10, 9, 10, 8, 3, 8, 7, 8, 2, 7, 2, 3, 3, 3, 3, 9, 7, 9, 8, 7, 5, 5, 9, 7, 9, 10, 10, 10, 5, 9, 4, 10, 9, 10, 8, 9, 7, 6, 4, 8, 7, 4, 6, 4, 6, 5, 8, 6, 5, 8, 8, 8, 10, 4, 10, 9, 8, 4, 6, 10, 4, 6, 4, 7, 4, 6, 6, 7, 7, 9, 7, 6, 9, 6, 10, 5, 4, 7, 5, 5, 9, 10, 9, 6, 4, 9, 8, 9, 9, 10, 10, 9, 6, 6, 9, 4, 5, 4, 6, 7, 5, 8, 4, 6, 4, 8, 8, 4, 5, 4, 7, 4, 6, 6, 6, 6, 5, 7, 9, 6, 5, 9, 4, 5, 8, 8, 7, 5, 5, 7, 7, 9, 6, 10, 10, 7, 5, 5, 4, 4, 6, 8, 9, 4, 10, 10, 4, 7, 8, 8, 5, 9, 7, 6, 4, 5, 5, 4, 8, 9, 8, 8, 9, 9, 10, 4, 5, 10, 9, 10, 7, 5, 9, 4, 6, 6, 6, 5, 6, 8, 8, 6, 6, 10, 7, 10, 4, 10, 8, 5, 10, 7, 9, 5, 5, 5, 5, 6, 10, 7, 9, 8, 7, 5, 10, 8, 6, 8, 8, 7, 5, 6, 9, 5, 5, 6, 6, 9, 5, 8, 9, 9, 7, 8, 7, 8, 5, 6, 9, 8, 6, 5, 10, 7, 7, 5, 9, 5, 10, 9, 7, 7, 10, 7, 10, 9, 8, 10, 5, 8, 8, 6, 6, 7, 9, 10, 6, 5, 9, 6, 7, 6, 7, 7, 10, 10, 10, 7, 8, 7, 8, 9, 9, 8, 9, 6, 6, 10, 6, 6, 8, 9, 10, 7, 5, 6, 6, 7, 6, 7, 10, 6, 7, 6, 6, 6, 6, 10, 5, 8, 8, 6, 7, 7, 6, 10, 8, 8, 8, 5, 10, 7, 6, 8, 6, 8, 10, 5, 6, 4, 10, 10, 3, 3, 4, 6, 9, 8, 9, 10, 10, 3, 10, 3, 5, 5, 5, 10, 10, 8, 3, 8, 3, 1, 4, 5, 6, 8, 10, 3, 2, 10, 7, 2, 4, 9, 3, 10, 3, 4, 2, 8, 5, 8, 6, 7, 10, 10, 7, 4, 6, 5, 9, 2, 10, 10, 3, 1, 6, 2, 4, 5, 8, 5, 8, 3, 7, 6, 1, 9, 2, 4, 8, 6, 7, 10, 8, 5, 5, 3, 5, 10, 7, 4, 4, 2, 5, 9, 2, 2, 2, 10, 8, 7, 3, 10, 7, 10, 1, 10, 10, 6, 2, 4, 1, 8, 10, 4, 2, 9, 1, 6, 7, 5, 2, 10, 4, 6, 1, 5, 6, 8, 1, 5, 6, 5, 3, 10, 5, 9, 10, 8, 4, 7, 4, 9, 4, 6, 2, 9, 1, 4, 5, 1, 2, 5, 2, 6, 2, 9, 2, 5, 1, 6, 2, 6, 8, 3, 9, 3, 8, 5, 5, 4, 4, 5, 5, 5, 3, 2, 10, 6, 9, 7, 6, 1, 6, 9, 8, 8, 2, 9, 9, 8, 3, 4, 5, 3, 5, 6, 10, 10, 4, 3, 1, 1, 1, 4, 7, 6, 5, 7, 9, 7, 9, 9, 7, 7, 7, 4, 4, 5, 4, 9, 6, 6, 10, 8, 4, 9, 9, 9, 10, 9, 9, 6, 8, 9, 6, 8, 10, 4, 4, 7, 10, 8, 8, 9, 6, 9, 10, 4, 6, 10, 10, 7, 10, 10, 5, 7, 6, 6, 7, 10, 7, 6, 6, 7, 8, 4, 5, 5, 5, 4, 5, 8, 7, 8, 9, 4, 6, 8, 7, 4, 7, 4, 7, 6, 7, 9, 7, 4, 10, 9, 9, 7, 7, 9, 7, 9, 9, 9, 7, 9, 6, 9, 4, 5, 5, 10, 8, 8, 5, 8, 8, 9, 9, 6, 7, 7, 7, 8, 6, 6, 10, 10, 9, 7, 10, 8, 4, 6, 10, 8, 9, 7, 8, 9, 7, 5, 4, 4, 5, 9, 4, 7, 10, 8, 5, 7, 10, 4, 4, 5, 8, 6, 7, 9, 5, 5, 7, 7, 6, 6, 4, 4, 10, 5, 7, 8, 5, 4, 4, 4, 9, 10, 6, 8, 10, 5, 9, 8, 6, 4, 10, 6, 10, 10, 10, 4, 7, 10, 9, 9, 8, 9, 5, 7, 7, 5, 8, 6, 9, 10, 7, 5, 9, 10, 8, 8, 9, 9, 8, 9, 5, 10, 10, 5, 10, 6, 10, 5, 9, 7, 9, 8, 7, 5, 10, 6, 10, 10, 9, 5, 9, 7, 9, 5, 5, 7, 10, 10, 8, 5, 9, 7, 5, 6, 6, 7, 5, 9, 10, 10, 9, 7, 8, 9, 10, 5, 8, 6, 10, 6, 7, 9, 5, 9, 9, 5, 5, 6, 8, 6, 5, 9, 10, 7, 5, 5, 6, 8, 9, 5, 5, 9, 8, 6, 5, 8, 6, 6, 8, 9, 5, 10, 6, 9, 7, 6, 10, 5, 10, 8, 8, 10, 5, 10, 5, 7, 3, 9, 2, 4, 6, 4, 1, 4, 8, 3, 7, 4, 5, 8, 10, 5, 6, 3, 7, 10, 6, 3, 3, 6, 8, 5, 5, 5, 3, 3, 5, 6, 3, 5, 9, 3, 5, 7, 2, 10, 7, 7, 2, 7, 4, 6, 6, 4, 5, 5, 2, 7, 1, 4, 6, 6, 2, 4, 4, 6, 7, 7, 5, 1, 10, 2, 2, 9, 8, 7, 9, 7, 2, 4, 4, 7, 1, 3, 10, 5, 7, 2, 4, 10, 7, 1, 7, 8, 9, 3, 10, 3, 1, 6, 6, 3, 9, 9, 2, 7, 7, 7, 8, 2, 5, 4, 5, 1, 10, 5, 3, 8, 2, 3, 6, 5, 5, 2, 8, 3, 7, 8, 9, 6, 3, 9, 10, 8, 4, 2, 5, 5, 1, 2, 4, 10, 10, 7, 5, 6, 6, 9, 9, 8, 5, 5, 5, 7, 5, 8, 6, 9, 5, 10, 10, 6, 9, 10, 8, 5, 7, 5, 7, 7, 10, 8, 5, 9, 6, 8, 6, 7, 6, 10, 8, 10, 7, 7, 7, 6, 5, 9, 7, 7, 7, 9, 7, 8, 7, 9, 7, 6, 8, 8, 8, 9, 6, 5, 6, 9, 5, 6, 8, 5, 9, 5, 5, 7, 6, 8, 8, 5, 7, 9, 10, 8, 7, 10, 5, 5, 9, 9, 6, 6, 9, 5, 10, 6, 7, 9, 6, 6, 7, 9, 6, 10, 10, 5, 8, 8, 10, 5, 7, 6, 10, 9, 7, 7, 8, 9, 6, 5, 10, 7, 5, 6, 9, 6, 9, 7, 7, 10, 10, 8, 10, 7, 8, 5, 7, 5, 6, 10, 6, 5, 7, 7, 7, 8, 5, 6, 8, 9, 10, 6, 5, 9, 10, 5, 6, 9, 8, 7, 8, 9, 9, 7, 9, 9, 6, 10, 10, 6, 6, 6, 10, 6, 8, 9, 7, 6, 8, 8, 9, 5, 7, 8, 8, 7, 5, 7, 5, 5, 10, 10, 10, 8, 5, 5, 5, 6, 10, 5, 6, 7, 8, 8, 10, 7, 10, 9, 10, 6, 6, 8, 5, 7, 7, 9, 10, 7, 6, 8, 5, 9, 9, 9, 9, 5, 9, 6, 6, 8, 7, 5, 8, 10, 9, 6, 5, 10, 9, 6, 8, 7, 8, 6, 9, 10, 5, 6, 10, 7, 6, 9, 8, 7, 10, 9, 8, 7, 9, 5, 5, 7, 8, 6, 8, 8, 9, 10, 6, 6, 7, 8, 7, 10, 8, 7, 7, 8, 9, 7, 9, 9, 7, 9, 5, 6, 6, 10, 8, 10, 9, 10, 5, 6, 6, 5, 5, 7, 6, 5, 10, 5, 7, 9, 10, 7, 8, 7, 9, 9, 8, 8, 7, 6, 8, 6, 6, 5, 6, 5, 8, 7, 9, 5, 5, 8, 10, 10, 7, 5, 8, 10, 9, 10, 10, 5, 10, 10, 8, 9, 10, 7, 5, 5, 10, 9, 8, 9, 7, 7, 7, 9, 9, 5, 10, 9, 9, 6, 10, 7, 6, 9, 9, 10, 9, 8, 10, 6, 5, 9, 9, 8, 6, 7, 6, 8, 9, 7, 6, 5, 9, 5, 5, 7, 9, 9, 9, 7, 10, 9, 10, 6, 8, 5, 7, 9, 8, 8, 5, 5, 7, 9, 5, 5, 7, 7, 10, 7, 8, 5, 9, 10, 9, 6, 9, 5, 8, 7, 7, 10, 9, 8, 7, 7, 9, 8, 6, 8, 8, 7, 9, 5, 6, 7, 10, 10, 9, 7, 6, 10, 8, 7, 8, 5, 9, 6, 7, 5, 9, 7, 9, 10, 10, 5, 8, 9, 7, 7, 5, 10, 9, 5, 5, 6, 7, 9, 9, 10, 6, 7, 7, 7, 5, 10, 9, 7, 5, 7, 7, 6, 9, 7, 6, 5, 9, 9, 8, 5, 8, 6, 9, 5, 9, 9, 7, 7, 10, 7, 5, 9, 6, 10, 10, 9, 5, 6, 7, 9, 5, 6, 7, 5, 5, 9, 7, 8, 6, 10, 9, 9, 10, 5, 7, 6, 10, 7, 9, 9, 10, 6, 10, 10, 10, 9, 10, 10, 9, 10, 9, 8, 10, 7, 9, 7, 10, 7, 6, 10, 5, 9, 8, 10, 6, 6, 7, 10, 5, 8, 7, 10, 6, 8, 6, 9, 6, 7, 6, 9, 8, 8, 5, 10, 10, 8, 9, 5, 9, 6, 5, 5, 7, 5, 8, 9, 8, 9, 6, 5, 10, 10, 8, 6, 8, 8, 8, 7, 9, 9, 9, 5, 5, 8, 10, 9, 9, 6, 6, 6, 5, 7, 9, 5, 7, 6, 6, 9, 10, 7, 6, 8, 9, 5, 6, 7, 7, 6, 5, 7, 9, 10, 5, 6, 7, 5, 10, 8, 8, 6, 10, 7, 9, 5, 7, 6, 10, 9, 7, 7, 10, 9, 5, 5, 8, 7, 7, 10, 7, 10, 5, 5, 6, 7, 5, 10, 10, 5, 8, 10, 9, 5, 6, 7, 8, 9, 5, 6, 6, 6, 7, 8, 10, 9, 9, 10, 5, 9, 10, 5, 5, 6, 10, 10, 7, 9, 5, 6, 10, 6, 5, 9, 5, 9, 9, 8, 10, 5, 6, 9, 6, 5, 10, 8, 7, 10, 10, 6, 9, 5, 9, 10, 9, 6, 8, 5, 10, 10, 8, 5, 10, 7, 5, 9, 10, 7, 5, 6, 5, 6, 10, 9, 8, 9, 5, 8, 5, 9, 8, 5, 10, 6, 5, 5, 6, 8, 6, 5, 5, 10, 9, 8, 9, 10, 9, 5, 10, 6, 9, 7, 10, 9, 5, 5, 10, 5, 6, 6, 7, 9, 5, 5, 5, 7, 10, 8, 9, 10, 8, 7, 9, 5, 6, 8, 7, 6, 9, 7, 8, 9, 6, 5, 5, 5, 7, 10, 10, 9, 8, 10, 8, 7, 7, 9, 6, 7, 5, 7, 9, 9, 9, 5, 7, 10, 9, 7, 5, 7, 5, 10, 5, 6, 10, 9, 9, 9, 8, 9, 9, 8, 9, 8, 10, 7, 10, 10, 6, 9, 5, 6, 7, 10, 9, 6, 6, 9, 6, 9, 8, 10, 10, 5, 5, 9, 9, 10, 9, 6, 9, 9, 9, 5, 5, 7, 8, 6, 9, 5, 10, 6, 8, 10, 8, 10, 5, 10, 8, 8, 5, 6, 6, 9, 8, 6, 9, 6, 7, 8, 6, 9, 8, 8, 9, 10, 5, 10, 10, 10, 7, 5, 7, 7, 9, 10, 5, 7, 7, 10, 5, 6, 10, 6, 8, 5, 8, 9, 9, 8, 8, 9, 10, 9, 5, 5, 9, 10, 8, 9, 10, 8, 8, 10, 6, 10, 5, 7, 5, 8, 7, 5, 10, 10, 8, 8, 9, 8, 10, 5, 9, 5, 10, 7, 9, 9, 6, 6, 6, 8, 6, 6, 8, 9, 9, 5, 10, 5, 5, 7, 7, 10, 6, 10, 5, 5, 9, 9, 9, 9, 7, 6, 5, 7, 7, 7, 9, 8, 10, 5, 10, 7, 10, 6, 6, 6, 6, 8, 8, 7, 7, 8, 8, 6, 6, 6, 7, 10, 10, 8, 5, 10, 8, 6, 5, 7, 9, 10, 10, 8, 9, 7, 8, 9, 6, 8, 7, 8, 10, 6, 6, 5, 9, 9, 6, 9, 9, 8, 6, 8, 10, 7, 6, 10, 8, 10, 6, 9, 9, 9, 9, 10, 10, 6, 6, 6, 9, 7, 5, 9, 6, 5, 10, 8, 9, 5, 5, 5, 8, 9, 8, 7, 7, 8, 5, 10, 6, 8, 9, 9, 8, 9, 6, 8, 7, 6, 10, 5, 9, 7, 7, 5, 6, 8, 6, 5, 10, 10, 6, 6, 5, 5, 5, 10, 7, 10, 10, 9, 5, 7, 6, 8, 6, 9, 9, 6, 10, 9, 9, 7, 5, 10, 7, 9, 5, 5, 8, 9, 6, 7, 10, 5, 7, 8, 6, 6, 7, 5, 8, 10, 7, 7, 6, 5, 7, 6, 7, 6, 8, 8, 5, 5, 8, 6, 8, 9, 5, 9, 6, 10, 5, 9, 10, 9, 7, 8, 9, 5, 5, 5, 5, 6, 5, 6, 8, 5, 5, 5, 7, 9, 9, 5, 8, 5, 5, 5, 7, 10, 8, 10, 9, 9, 5, 8, 9, 10, 10, 6, 7, 9, 8, 7, 5, 6, 9, 7, 5, 8, 7, 7, 6, 10, 8, 10, 10, 6, 8, 9, 5, 5, 8, 9, 9, 7, 5, 6, 8, 9, 8, 5, 8, 7, 9, 5, 5, 7, 6, 8, 8, 9, 5, 9, 5, 5, 7, 5, 8, 10, 6, 10, 7, 5, 8, 7, 6, 10, 5, 10, 6, 10, 9, 9, 7, 10, 6, 5, 7, 5, 10, 10, 9, 8, 7, 8, 6, 10, 9, 7, 5, 7, 5, 6, 10, 5, 7, 10, 10, 10, 10, 6, 7, 7, 5, 7, 10, 5, 7, 5, 7, 5, 9, 10, 9, 9, 9, 8, 5, 6, 10, 9, 7, 5, 9, 5, 6, 8, 9, 8, 9, 9, 7, 7, 7, 8, 7, 7, 7, 8, 10, 5, 10, 5, 7, 8, 6, 6, 6, 8, 5, 7, 10, 6, 9, 9, 7, 5, 9, 6, 7, 9, 8, 8, 5, 10, 6, 10, 6, 5, 10, 6, 5, 10, 7, 7, 5, 7, 8, 9, 8, 9, 6, 6, 10, 7, 5, 9, 10, 7, 8, 6, 8, 9, 9, 9, 8, 5, 5, 5, 7, 6, 5, 8, 9, 9, 6, 10, 9, 8, 9, 9, 9, 8, 6, 10, 7, 6, 7, 10, 8, 8, 7, 7, 7, 10, 8, 5, 6, 9, 9, 6, 10, 9, 9, 5, 7, 8, 9, 7, 9, 9, 8, 6, 10, 8, 6, 7, 5, 8, 9, 6, 9, 5, 7, 9, 6, 7, 7, 6, 5, 10, 6, 7, 7, 7, 7, 6, 9, 7, 6, 6, 7, 10, 9, 8, 5, 7, 10, 6, 8, 9, 6, 9, 10, 7, 7, 10, 8, 10, 6, 7, 5, 9, 10, 5, 8, 9, 7, 6, 10, 6, 7, 8, 5, 6, 10, 5, 6, 7, 5, 6, 7, 5, 8, 9, 10, 10, 10, 8, 9, 8, 6, 9, 10, 5, 6, 5, 5, 8, 5, 6, 9, 8, 10, 6, 7, 10, 5, 5, 6, 7, 10, 7, 6, 8, 8, 8, 5, 9, 7, 9, 6, 9, 8, 10, 6, 10, 8, 10, 9, 6, 8, 5, 8, 5, 8, 5, 10, 9, 10, 7, 10, 9, 10, 5, 9, 7, 8, 6, 9, 5, 10, 9, 8, 7, 5, 6, 10, 6, 7, 8, 7, 10, 7, 9, 5, 7, 9, 7, 7, 9, 8, 8, 7, 10, 6, 7, 6, 9, 10, 7, 8, 8, 8, 5, 8, 8, 9, 5, 9, 5, 5, 8, 10, 10, 8, 8, 6, 6, 8, 9, 8, 8, 8, 7, 7, 8, 8, 5, 7, 5, 6, 6, 7, 7, 7, 8, 8, 9, 8, 5, 7, 5, 10, 6, 5, 5, 5, 6, 5, 9, 9, 9, 7, 10, 6, 7, 10, 9, 10, 6, 6, 8, 8, 8, 10, 6, 7, 6, 8, 8, 6, 6, 5, 5, 6, 6, 10, 10, 9, 7, 9, 5, 5, 5, 7, 10, 9, 9, 9, 5, 5, 5, 5, 5, 7, 5, 7, 8, 7, 9, 8, 8, 10, 7, 7, 7, 10, 6, 10, 10, 9, 9, 5, 10, 8, 9, 5, 10, 5, 5, 8, 5, 5, 6, 9, 6, 6, 9, 9, 9, 7, 8, 7, 7, 6, 7, 7, 7, 10, 6, 8, 7, 7, 4, 4, 7, 4, 5, 10, 10, 6, 10, 10, 7, 7, 6, 6, 5, 9, 5, 8, 9, 9, 5, 8, 8, 6, 7, 5, 9, 9, 7, 9, 7, 8, 8, 9, 6, 9, 7, 7, 10, 5, 10, 10, 10, 6, 10, 7, 5, 9, 8, 6, 7, 6, 6, 10, 8, 8, 9, 5, 9, 10, 7, 7, 5, 5, 8, 6, 9, 6, 7, 6, 9, 10, 8, 8, 7, 6, 6, 7, 5, 6, 5, 10, 10, 9, 5, 10, 9, 8, 5, 5, 9, 10, 6, 10, 10, 10, 10, 7, 8, 8, 5, 9, 8, 7, 8, 6, 5, 7, 6, 6, 5, 6, 10, 10, 6, 9, 8, 9, 6, 8, 8, 7, 7, 5, 9, 3, 7, 6, 2, 7, 3, 10, 5, 7, 2, 10, 1, 1, 2, 10, 2, 4, 5, 2, 8, 10, 7, 1, 6, 7, 9, 2, 3, 10, 2, 7, 2, 6, 8, 3, 5, 6, 6, 2, 1, 8, 6, 6, 6, 4, 8, 7, 7, 5, 6, 2, 2, 7, 9, 2, 9, 7, 2, 8, 9, 10, 6, 2, 1, 10, 9, 10, 7, 10, 9, 6, 1, 4, 1, 5, 3, 6, 3, 2, 8, 10, 7, 5, 3, 2, 5, 5, 7, 8, 7, 2, 9, 1, 7, 2, 5, 4, 9, 10, 3, 7, 5, 2, 8, 5, 5, 7, 9, 5, 2, 3, 10, 6, 5, 1, 2, 5, 2, 10, 5, 7, 9, 7, 9, 4, 3, 10, 10, 4, 4, 9, 5, 7, 6, 7, 7, 2, 7, 3, 7, 2, 6, 8, 4, 5, 1, 4, 7, 3, 8, 6, 4, 7, 3, 4, 8, 1, 9, 7, 10, 4, 4, 1, 2, 6, 6, 2, 9, 6, 6, 10, 6, 4, 3, 1, 5, 1, 6, 6, 4, 6, 4, 4, 6, 5, 9, 6, 9, 2, 8, 8, 10, 10, 10, 4, 6, 8, 8, 8, 9, 9, 5, 7, 4, 7, 7, 4, 8, 7, 5, 8, 9, 9, 6, 10, 10, 4, 9, 9, 9, 4, 6, 9, 8, 7, 10, 7, 9, 5, 10, 10, 10, 10, 9, 8, 10, 6, 6, 7, 5, 7, 4, 7, 6, 7, 10, 4, 4, 8, 4, 6, 5, 9, 9, 10, 9, 9, 7, 9, 5, 8, 5, 10, 10, 9, 7, 5, 10, 10, 9, 8, 5, 4, 9, 8, 6, 4, 6, 4, 4, 9, 7, 10, 8, 6, 8, 5, 8, 6, 6, 7, 5, 7, 6, 9, 10, 7, 7, 9, 6, 10, 7, 7, 6, 8, 9, 8, 4, 8, 8, 8, 9, 5, 6, 4, 8, 9, 8, 6, 4, 4, 9, 6, 4, 5, 10, 8, 5, 10, 6, 9, 10, 6, 10, 5, 4, 6, 7, 6, 9, 6, 8, 5, 7, 6, 8, 4, 8, 10, 5, 7, 6, 9, 4, 4, 7, 8, 10, 5, 4, 10, 7, 10, 10, 10, 10, 8, 4, 5, 6, 8, 5, 6, 10, 9, 4, 7, 10, 5, 7, 8, 5, 8, 8, 7, 7, 6, 7, 5, 8, 9, 5, 5, 9, 9, 8, 7, 9, 10, 5, 10, 9, 5, 6, 8, 10, 8, 6, 5, 5, 6, 8, 7, 10, 6, 9, 6, 5, 8, 5, 6, 6, 7, 8, 8, 10, 10, 7, 9, 8, 10, 5, 7, 5, 5, 8, 8, 8, 7, 9, 7, 6, 10, 10, 10, 5, 6, 5, 9, 8, 5, 5, 8, 5, 8, 10, 7, 10, 9, 10, 9, 9, 7, 9, 6, 8, 6, 5, 7, 9, 9, 10, 9, 7, 5, 9, 6, 5, 5, 10, 10, 7, 10, 7, 7, 10, 9, 7, 9, 8, 9, 9, 7, 5, 8, 7, 6, 10, 8, 9, 7, 9, 6, 10, 5, 8, 10, 2, 9, 1, 8, 4, 9, 4, 7, 2, 7, 10, 1, 10, 5, 9, 10, 6, 10, 2, 10, 1, 1, 6, 2, 6, 4, 4, 6, 2, 2, 2, 8, 6, 4, 10, 3, 3, 9, 2, 5, 1, 8, 10, 10, 4, 7, 7, 6, 6, 7, 6, 6, 1, 8, 10, 1, 6, 3, 3, 6, 10, 10, 5, 9, 3, 9, 8, 6, 4, 7, 10, 4, 7, 8, 2, 10, 9, 7, 10, 2, 9, 7, 7, 8, 5, 1, 8, 1, 7, 1, 9, 7, 10, 2, 5, 1, 6, 5, 3, 2, 8, 7, 7, 8, 9, 9, 9, 2, 9, 7, 10, 6, 3, 1, 9, 8, 10, 8, 7, 1, 10, 4, 2, 8, 5, 1, 8, 1, 3, 9, 7, 6, 5, 5, 1, 9, 10, 4, 2, 7, 2, 6, 3, 7, 5, 1, 7, 7, 4, 1, 2, 1, 7, 2, 6, 10, 4, 4, 3, 2, 4, 5, 4, 8, 8, 6, 1, 6, 9, 7, 6, 7, 6, 4, 10, 1, 5, 4, 6, 5, 1, 4, 7, 10, 5, 7, 5, 7, 5, 9, 10, 3, 1, 8, 7, 8, 10, 4, 7, 5, 6, 7, 5, 7, 8, 8, 5, 7, 6, 8, 5, 7, 9, 6, 7, 7, 7, 8, 10, 7, 10, 10, 8, 7, 7, 5, 6, 7, 5, 5, 9, 7, 4, 8, 10, 8, 8, 6, 8, 4, 7, 10, 10, 6, 8, 9, 5, 5, 7, 7, 7, 7, 8, 7, 6, 9, 10, 9, 8, 9, 8, 9, 8, 5, 7, 7, 9, 10, 4, 9, 4, 10, 9, 9, 6, 5, 10, 4, 8, 9, 8, 10, 6, 10, 5, 6, 5, 5, 10, 7, 5, 5, 5, 5, 5, 6, 5, 10, 10, 10, 9, 5, 8, 4, 10, 10, 9, 4, 4, 10, 9, 10, 6, 9, 7, 10, 5, 9, 10, 10, 10, 7, 10, 7, 5, 6, 7, 8, 10, 7, 7, 10, 10, 9, 10, 8, 4, 5, 8, 5, 7, 5, 4, 9, 5, 10, 8, 6, 7, 4, 4, 7, 5, 10, 7, 8, 10, 10, 6, 4, 5, 10, 10, 4, 4, 9, 8, 10, 5, 7, 4, 4, 8, 10, 6, 7, 9, 4, 10, 8, 10, 5, 5, 9, 5, 7, 10, 5, 5, 7, 8, 8, 5, 7, 6, 10, 6, 8, 6, 10, 5, 6, 8, 9, 9, 5, 8, 7, 9, 9, 6, 5, 5, 10, 7, 9, 10, 10, 8, 6, 8, 9, 10, 10, 9, 7, 5, 7, 10, 6, 6, 8, 6, 5, 7, 7, 10, 7, 7, 8, 5, 10, 7, 6, 7, 9, 8, 10, 10, 9, 9, 8, 8, 10, 9, 8, 9, 9, 9, 9, 10, 10, 6, 5, 9, 8, 7, 5, 5, 7, 7, 9, 9, 5, 9, 9, 5, 8, 6, 5, 5, 10, 10, 6, 6, 5, 5, 10, 9, 8, 5, 9, 8, 6, 9, 10, 3, 3, 5, 10, 2, 10, 10, 4, 8, 4, 2, 3, 8, 8, 5, 10, 10, 4, 4, 9, 10, 8, 7, 2, 10, 10, 5, 10, 8, 7, 3, 6, 6, 1, 1, 6, 7, 3, 6, 1, 2, 2, 10, 6, 4, 10, 1, 2, 4, 4, 7, 10, 6, 6, 5, 1, 3, 8, 8, 8, 6, 8, 5, 1, 4, 3, 7, 1, 3, 9, 5, 1, 10, 2, 8, 3, 8, 2, 1, 10, 5, 5, 7, 1, 1, 9, 7, 8, 2, 2, 7, 2, 1, 5, 2, 7, 4, 9, 8, 3, 1, 3, 4, 5, 7, 5, 6, 4, 2, 7, 10, 8, 6, 4, 7, 4, 10, 5, 8, 5, 3, 5, 3, 4, 3, 9, 10, 1, 4, 10, 1, 9, 7, 4, 1, 1, 3, 9, 2, 5, 10, 4, 5, 6, 10, 6, 3, 10, 10, 3, 3, 7, 1, 9, 2, 4, 6, 5, 5, 2, 5, 9, 4, 2, 5, 7, 9, 2, 8, 7, 4, 6, 4, 6, 5, 4, 10, 9, 2, 9, 3, 9, 9, 2, 8, 8, 9, 9, 7, 1, 5, 8, 7, 10, 7, 5, 2, 8, 2, 7, 6, 2, 7, 9, 9, 8, 10, 9, 10, 8, 10, 4, 8, 8, 7, 5, 10, 7, 4, 4, 5, 5, 4, 4, 7, 8, 9, 6, 7, 7, 7, 6, 9, 10, 8, 7, 4, 6, 8, 10, 4, 7, 10, 10, 6, 10, 8, 7, 5, 6, 7, 6, 5, 9, 6, 6, 7, 8, 7, 4, 10, 6, 6, 10, 8, 6, 9, 7, 5, 10, 10, 8, 4, 4, 7, 4, 9, 10, 7, 5, 6, 7, 9, 9, 8, 8, 5, 9, 9, 10, 10, 6, 9, 9, 9, 10, 9, 8, 9, 9, 6, 4, 8, 4, 9, 10, 10, 5, 8, 6, 8, 7, 4, 5, 4, 4, 5, 10, 6, 8, 9, 8, 9, 10, 5, 4, 7, 4, 7, 6, 9, 9, 7, 7, 10, 10, 5, 10, 7, 4, 8, 7, 4, 8, 6, 5, 5, 4, 8, 10, 6, 5, 10, 10, 9, 6, 5, 8, 6, 8, 8, 9, 10, 7, 7, 5, 10, 5, 6, 8, 5, 9, 7, 7, 6, 4, 4, 7, 6, 6, 9, 8, 8, 10, 4, 8, 7, 8, 7, 5, 6, 9, 5, 6, 8, 10, 6, 10, 9, 6, 6, 5, 9, 8, 10, 8, 7, 9, 6, 5, 8, 6, 8, 9, 10, 8, 7, 8, 5, 8, 7, 9, 5, 6, 5, 7, 6, 7, 9, 8, 8, 9, 9, 8, 9, 10, 10, 9, 7, 5, 6, 10, 6, 6, 7, 6, 6, 9, 5, 6, 5, 6, 7, 9, 9, 7, 8, 6, 8, 8, 6, 5, 7, 6, 6, 6, 5, 8, 10, 6, 6, 9, 8, 6, 7, 10, 8, 7, 6, 10, 5, 8, 10, 7, 9, 9, 5, 9, 10, 8, 8, 8, 8, 9, 9, 6, 9, 8, 9, 9, 8, 9, 4, 4, 9, 4, 2, 8, 9, 2, 1, 3, 1, 6, 9, 9, 4, 6, 5, 6, 3, 5, 6, 2, 1, 3, 1, 10, 8, 2, 5, 6, 7, 2, 5, 2, 6, 6, 3, 10, 2, 4, 6, 9, 5, 5, 5, 1, 7, 4, 7, 3, 5, 10, 4, 10, 8, 9, 2, 2, 5, 2, 3, 5, 8, 4, 6, 7, 4, 6, 1, 10, 4, 7, 10, 7, 4, 1, 2, 9, 5, 6, 10, 10, 8, 7, 7, 2, 3, 6, 4, 6, 5, 8, 9, 3, 5, 5, 10, 5, 7, 8, 6, 5, 3, 4, 4, 1, 7, 6, 1, 2, 8, 5, 7, 3, 8, 1, 4, 8, 1, 8, 4, 3, 10, 4, 9, 5, 9, 8, 8, 6, 9, 10, 4, 3, 3, 3, 2, 7, 2, 8, 6, 9, 8, 5, 3, 9, 8, 10, 10, 10, 5, 4, 3, 8, 2, 8, 5, 7, 9, 10, 9, 3, 4, 4, 6, 4, 7, 2, 2, 9, 5, 7, 1, 9, 10, 7, 9, 10, 10, 4, 8, 3, 6, 4, 8, 1, 2, 5, 10, 7, 7, 1, 7, 5, 6, 8, 2, 1, 5, 3, 8, 9, 5, 5, 4, 7, 7, 4, 9, 8, 6, 7, 9, 4, 5, 4, 8, 9, 6, 9, 8, 5, 7, 9, 5, 7, 7, 4, 4, 10, 9, 6, 6, 6, 7, 5, 4, 6, 9, 10, 10, 9, 10, 9, 9, 10, 9, 9, 8, 4, 5, 9, 6, 7, 8, 7, 4, 7, 6, 4, 10, 6, 4, 5, 4, 7, 7, 4, 7, 5, 10, 7, 10, 6, 10, 8, 5, 4, 5, 7, 7, 5, 7, 9, 6, 6, 6, 10, 7, 10, 9, 10, 8, 4, 7, 9, 10, 10, 4, 7, 5, 9, 9, 9, 6, 10, 5, 7, 10, 8, 6, 10, 5, 8, 7, 8, 5, 8, 8, 7, 9, 8, 5, 6, 4, 10, 4, 5, 7, 6, 6, 4, 5, 10, 8, 9, 4, 5, 10, 8, 9, 7, 4, 7, 7, 10, 9, 9, 4, 8, 8, 7, 8, 7, 7, 10, 6, 9, 9, 6, 8, 10, 5, 10, 7, 5, 5, 9, 8, 9, 8, 4, 7, 9, 7, 5, 8, 5, 7, 9, 8, 8, 4, 10, 5, 10, 9, 8, 7, 8, 7, 10, 9, 8, 6, 10, 10, 5, 6, 5, 9, 7, 7, 9, 5, 7, 9, 10, 6, 5, 8, 10, 6, 9, 9, 8, 10, 10, 10, 7, 9, 5, 9, 10, 8, 6, 9, 8, 6, 9, 7, 10, 5, 5, 5, 10, 5, 7, 7, 8, 10, 6, 8, 8, 7, 6, 10, 6, 8, 5, 7, 10, 8, 7, 9, 6, 7, 7, 6, 10, 6, 10, 7, 8, 9, 7, 10, 5, 8, 7, 10, 10, 9, 5, 9, 8, 7, 9, 9, 7, 9, 5, 7, 10, 6, 8, 5, 6, 6, 9, 8, 10, 8, 6, 8, 8, 5, 6, 7, 5, 9, 6, 3, 9, 10, 8, 10, 1, 3, 3, 8, 1, 6, 1, 7, 3, 8, 5, 4, 8, 10, 7, 9, 4, 4, 2, 5, 6, 8, 2, 2, 7, 7, 3, 10, 1, 4, 6, 9, 7, 4, 8, 6, 7, 4, 2, 4, 8, 3, 7, 6, 3, 10, 3, 10, 7, 3, 3, 10, 2, 2, 5, 1, 4, 6, 10, 1, 2, 1, 10, 4, 10, 6, 4, 7, 2, 10, 3, 7, 2, 1, 2, 1, 1, 4, 4, 4, 2, 2, 5, 5, 10, 9, 10, 4, 3, 3, 4, 1, 7, 1, 4, 8, 6, 3, 10, 10, 5, 2, 10, 5, 4, 6, 7, 2, 6, 8, 8, 7, 9, 2, 3, 8, 10, 8, 2, 4, 4, 9, 8, 6, 2, 2, 6, 5, 2, 2, 1, 8, 2, 1, 1, 5, 9, 3, 6, 2, 2, 6, 5, 6, 10, 4, 7, 1, 8, 7, 7, 2, 4, 1, 5, 8, 9, 4, 3, 8, 1, 10, 7, 9, 4, 10, 2, 8, 3, 9, 2, 6, 5, 10, 4, 10, 10, 1, 5, 5, 1, 3, 3, 10, 1, 2, 5, 2, 1, 7, 5, 7, 6, 1, 10, 3, 2, 3, 7, 6, 9, 4, 10, 9, 4, 7, 6, 4, 5, 7, 6, 6, 7, 5, 10, 4, 4, 9, 6, 10, 9, 7, 10, 5, 5, 7, 4, 9, 8, 8, 8, 9, 6, 9, 8, 7, 6, 10, 10, 4, 8, 6, 6, 6, 9, 6, 6, 10, 5, 8, 9, 7, 5, 9, 5, 5, 9, 9, 4, 9, 9, 8, 6, 8, 5, 10, 6, 6, 5, 8, 4, 5, 8, 8, 8, 6, 4, 7, 4, 8, 8, 8, 7, 8, 6, 4, 6, 7, 7, 6, 8, 8, 7, 4, 10, 7, 6, 8, 6, 8, 4, 10, 10, 9, 4, 4, 7, 10, 10, 4, 5, 6, 6, 9, 8, 10, 7, 10, 6, 7, 4, 8, 7, 10, 8, 6, 9, 4, 6, 5, 4, 8, 4, 7, 4, 10, 7, 10, 9, 10, 4, 4, 8, 6, 5, 5, 4, 7, 7, 8, 6, 4, 6, 9, 4, 10, 8, 8, 9, 5, 8, 9, 8, 6, 5, 4, 6, 4, 8, 8, 10, 4, 10, 4, 10, 10, 4, 4, 7, 7, 4, 4, 9, 6, 6, 6, 5, 10, 8, 6, 10, 6, 5, 5, 8, 7, 10, 9, 9, 5, 6, 7, 6, 5, 9, 5, 9, 5, 10, 8, 9, 5, 6, 7, 6, 10, 10, 6, 9, 8, 6, 5, 9, 9, 5, 7, 6, 5, 5, 7, 7, 7, 9, 10, 8, 7, 6, 9, 10, 9, 7, 10, 8, 8, 5, 9, 8, 9, 5, 7, 10, 6, 10, 7, 9, 7, 8, 9, 9, 9, 6, 10, 6, 7, 8, 8, 8, 8, 6, 7, 6, 8, 6, 5, 5, 8, 8, 6, 8, 8, 8, 6, 10, 6, 6, 5, 5, 9, 10, 8, 9, 9, 7, 5, 5, 8, 7, 5, 7, 5, 2, 6, 1, 10, 3, 8, 3, 7, 9, 2, 10, 9, 3, 4, 10, 3, 8, 7, 4, 7, 1, 5, 7, 10, 8, 2, 5, 6, 6, 7, 7, 10, 7, 9, 8, 1, 1, 6, 8, 8, 4, 6, 8, 5, 8, 5, 4, 3, 2, 1, 8, 8, 1, 7, 10, 7, 2, 1, 4, 1, 2, 6, 2, 8, 7, 10, 7, 5, 3, 1, 10, 3, 3, 8, 10, 5, 3, 3, 9, 3, 10, 3, 10, 9, 10, 3, 2, 9, 2, 2, 4, 7, 1, 2, 1, 1, 3, 8, 5, 5, 5, 5, 3, 7, 1, 1, 3, 9, 3, 3, 1, 4, 4, 7, 8, 7, 1, 7, 5, 7, 4, 8, 5, 6, 8, 9, 7, 6, 5, 1, 10, 7, 6, 3, 10, 3, 9, 3, 4, 8, 10, 1, 3, 8, 1, 9, 2, 10, 2, 4, 1, 6, 2, 5, 6, 2, 7, 7, 4, 10, 2, 4, 1, 6, 6, 8, 4, 7, 4, 7, 1, 7, 3, 8, 8, 1, 5, 7, 2, 2, 1, 9, 9, 5, 10, 2, 3, 3, 5, 10, 1, 7, 9, 2, 9, 1, 7, 7, 5, 9, 4, 8, 10, 8, 8, 8, 8, 8, 5, 9, 7, 6, 4, 10, 6, 6, 6, 8, 6, 6, 7, 5, 6, 5, 6, 9, 5, 9, 9, 10, 5, 4, 6, 8, 4, 9, 5, 10, 8, 8, 8, 9, 6, 7, 7, 6, 7, 4, 6, 8, 6, 4, 9, 10, 6, 4, 4, 10, 5, 5, 4, 10, 8, 5, 8, 5, 10, 6, 8, 6, 10, 6, 5, 6, 7, 9, 9, 6, 7, 5, 6, 7, 9, 6, 7, 7, 6, 10, 7, 4, 6, 6, 8, 4, 5, 5, 9, 10, 4, 8, 6, 4, 10, 4, 7, 4, 10, 9, 5, 9, 9, 8, 6, 8, 8, 9, 7, 9, 7, 8, 6, 8, 10, 10, 6, 8, 6, 6, 4, 10, 7, 5, 10, 6, 4, 10, 4, 9, 4, 8, 9, 5, 9, 6, 9, 4, 6, 7, 7, 4, 8, 5, 8, 5, 10, 7, 4, 10, 5, 6, 6, 7, 6, 4, 4, 9, 8, 4, 7, 7, 7, 7, 8, 7, 9, 6, 10, 4, 5, 8, 5, 5, 6, 6, 10, 7, 5, 8, 7, 10, 5, 5, 9, 10, 8, 8, 7, 8, 6, 8, 7, 9, 5, 7, 10, 10, 7, 9, 7, 6, 6, 5, 6, 7, 7, 7, 9, 10, 8, 10, 10, 10, 6, 7, 10, 10, 9, 6, 8, 10, 7, 6, 8, 8, 5, 6, 7, 7, 9, 10, 5, 6, 5, 5, 6, 8, 10, 8, 6, 8, 9, 6, 10, 6, 7, 5, 9, 9, 6, 6, 5, 9, 6, 8, 8, 6, 8, 7, 6, 6, 6, 6, 8, 8, 5, 7, 10, 7, 7, 5, 10, 6, 5, 9, 6, 5, 6, 9, 6, 6, 9, 10, 5, 8, 8, 10, 9, 8, 8, 9, 4, 4, 6, 4, 5, 9, 1, 3, 4, 4, 7, 3, 4, 4, 1, 9, 6, 4, 10, 8, 10, 9, 6, 9, 5, 6, 10, 2, 6, 9, 6, 6, 9, 4, 5, 2, 9, 7, 9, 10, 1, 5, 9, 8, 9, 7, 9, 7, 1, 3, 6, 4, 4, 1, 6, 3, 4, 4, 7, 3, 9, 6, 9, 6, 5, 8, 9, 6, 1, 8, 2, 9, 9, 6, 2, 8, 3, 8, 9, 5, 10, 3, 5, 8, 10, 8, 10, 7, 8, 4, 10, 10, 4, 3, 2, 10, 5, 5, 3, 5, 4, 1, 1, 5, 4, 1, 10, 6, 10, 3, 2, 2, 5, 1, 6, 2, 8, 4, 5, 9, 4, 1, 9, 5, 9, 5, 9, 1, 2, 10, 2, 2, 4, 10, 3, 10, 8, 4, 6, 1, 7, 4, 10, 5, 6, 9, 9, 5, 1, 7, 1, 10, 10, 6, 5, 7, 7, 9, 3, 6, 8, 10, 1, 5, 2, 3, 6, 5, 9, 1, 2, 7, 5, 10, 8, 1, 9, 8, 4, 6, 2, 1, 4, 1, 4, 1, 5, 6, 4, 7, 2, 2, 8, 4, 6, 10, 1, 1, 7, 3, 1, 7, 4, 8, 6, 5, 5, 8, 7, 4, 10, 6, 4, 7, 5, 7, 7, 6, 5, 10, 9, 10, 9, 4, 7, 10, 9, 7, 8, 8, 6, 10, 8, 5, 8, 8, 4, 9, 4, 5, 8, 8, 7, 10, 10, 4, 8, 7, 6, 4, 6, 8, 7, 4, 9, 5, 9, 9, 7, 5, 4, 8, 10, 7, 6, 7, 8, 8, 5, 10, 7, 8, 4, 7, 5, 4, 6, 9, 10, 5, 8, 5, 5, 10, 9, 6, 5, 7, 10, 6, 9, 4, 8, 4, 9, 5, 10, 5, 10, 8, 5, 9, 5, 4, 10, 8, 10, 7, 6, 8, 8, 8, 6, 7, 8, 7, 6, 9, 9, 10, 7, 9, 8, 8, 9, 5, 4, 7, 8, 9, 5, 8, 8, 4, 7, 10, 9, 7, 7, 4, 9, 7, 10, 9, 10, 5, 7, 10, 5, 6, 6, 9, 5, 9, 4, 4, 9, 10, 8, 8, 9, 9, 4, 8, 10, 6, 9, 7, 5, 9, 8, 10, 4, 4, 7, 8, 7, 9, 7, 7, 9, 6, 8, 7, 6, 10, 7, 7, 6, 6, 8, 10, 5, 7, 5, 5, 7, 7, 7, 10, 5, 8, 7, 10, 8, 7, 6, 9, 7, 8, 7, 8, 6, 9, 5, 8, 6, 7, 7, 5, 7, 10, 5, 10, 9, 8, 5, 9, 7, 10, 8, 8, 8, 9, 8, 5, 10, 9, 10, 5, 7, 8, 7, 6, 10, 9, 5, 8, 9, 8, 10, 10, 6, 5, 6, 8, 9, 7, 7, 10, 6, 10, 10, 7, 10, 9, 8, 8, 7, 5, 7, 8, 8, 9, 9, 10, 7, 7, 6, 7, 5, 7, 6, 9, 8, 5, 5, 5, 8, 6, 9, 10, 7, 7, 6, 7, 8, 6, 8, 9, 5, 6, 3, 8, 8, 5, 2, 3, 6, 7, 8, 6, 6, 4, 2, 8, 2, 9, 5, 7, 7, 9, 8, 9, 1, 1, 9, 10, 10, 5, 5, 10, 6, 8, 4, 8, 2, 1, 8, 9, 8, 3, 4, 2, 10, 7, 2, 4, 1, 5, 6, 7, 3, 1, 10, 1, 5, 6, 4, 9, 5, 3, 3, 4, 10, 4, 5, 3, 8, 1, 1, 6, 10, 10, 6, 10, 9, 3, 9, 4, 4, 1, 8, 9, 10, 10, 6, 6, 3, 9, 6, 3, 8, 10, 4, 10, 10, 4, 7, 8, 6, 2, 4, 3, 8, 2, 6, 1, 5, 6, 8, 7, 1, 1, 10, 4, 10, 6, 5, 1, 8, 7, 10, 8, 3, 3, 1, 6, 1, 6, 3, 9, 7, 4, 9, 7, 9, 3, 4, 3, 4, 9, 1, 1, 6, 1, 1, 5, 5, 10, 5, 2, 6, 6, 6, 5, 3, 4, 6, 2, 3, 8, 9, 3, 7, 6, 1, 2, 10, 1, 2, 8, 2, 1, 9, 9, 2, 8, 10, 3, 1, 3, 7, 10, 2, 5, 6, 5, 1, 3, 3, 8, 1, 7, 6, 3, 8, 4, 3, 1, 5, 7, 4, 3, 6, 7, 8, 8, 10, 5, 7, 9, 10, 7, 9, 9, 4, 10, 8, 6, 4, 4, 9, 10, 5, 7, 5, 8, 7, 5, 5, 10, 8, 4, 6, 4, 10, 7, 6, 7, 8, 9, 5, 5, 9, 5, 9, 9, 8, 9, 7, 4, 9, 9, 10, 8, 8, 8, 4, 10, 8, 5, 8, 7, 5, 10, 9, 9, 9, 9, 4, 10, 8, 6, 8, 7, 10, 4, 4, 6, 7, 9, 9, 4, 5, 7, 7, 7, 9, 5, 4, 8, 6, 4, 8, 8, 10, 6, 7, 8, 4, 4, 10, 8, 5, 6, 4, 5, 7, 5, 10, 7, 7, 10, 6, 8, 7, 5, 8, 7, 9, 9, 7, 7, 9, 6, 5, 5, 7, 6, 4, 9, 7, 5, 5, 10, 10, 10, 6, 6, 9, 9, 5, 8, 4, 8, 5, 8, 5, 5, 5, 7, 6, 6, 8, 4, 6, 9, 7, 9, 10, 5, 5, 10, 9, 6, 8, 7, 8, 4, 7, 10, 6, 4, 7, 9, 9, 8, 6, 10, 10, 5, 6, 6, 10, 10, 10, 4, 8, 8, 8, 6, 9, 5, 6, 8, 7, 8, 5, 9, 6, 10, 9, 8, 5, 10, 8, 6, 10, 5, 9, 6, 5, 8, 7, 5, 6, 5, 5, 10, 5, 8, 8, 6, 8, 5, 9, 7, 8, 8, 10, 5, 5, 6, 8, 8, 10, 9, 9, 9, 6, 10, 9, 8, 7, 6, 6, 9, 5, 6, 6, 10, 9, 9, 7, 6, 9, 9, 10, 9, 5, 8, 7, 5, 5, 6, 5, 6, 10, 9, 8, 9, 9, 9, 5, 10, 5, 9, 6, 8, 7, 9, 9, 6, 7, 8, 10, 7, 7, 10, 7, 10, 9, 9, 7, 9, 6, 5, 7, 9, 8, 9, 7, 4, 9, 8, 5, 1, 6, 7, 2, 7, 3, 4, 1, 3, 4, 2, 2, 3, 8, 1, 10, 9, 7, 7, 2, 2, 7, 7, 9, 3, 9, 3, 8, 10, 6, 2, 9, 5, 6, 5, 7, 6, 3, 9, 6, 6, 1, 9, 1, 9, 7, 6, 6, 8, 9, 8, 6, 5, 7, 2, 5, 10, 9, 9, 9, 2, 9, 9, 4, 10, 1, 2, 1, 1, 10, 5, 10, 4, 5, 7, 5, 3, 2, 10, 3, 1, 6, 9, 6, 5, 6, 4, 6, 7, 8, 6, 2, 3, 5, 7, 3, 2, 6, 3, 8, 8, 7, 4, 4, 3, 9, 2, 7, 10, 2, 2, 2, 7, 1, 10, 3, 6, 2, 4, 2, 2, 9, 2, 6, 5, 9, 2, 1, 6, 6, 7, 10, 4, 3, 3, 5, 2, 2, 3, 9, 3, 5, 6, 9, 6, 4, 1, 9, 1, 8, 3, 6, 2, 9, 4, 3, 3, 4, 9, 5, 1, 10, 6, 10, 3, 3, 10, 8, 4, 9, 4, 8, 5, 5, 5, 7, 3, 10, 7, 2, 3, 7, 9, 9, 9, 10, 3, 7, 7, 7, 9, 7, 3, 3, 3, 4, 10, 10, 10, 6, 4, 10, 5, 9, 4, 7, 9, 5, 5, 6, 9, 10, 9, 6, 9, 8, 6, 7, 8, 6, 8, 10, 6, 9, 4, 4, 5, 6, 10, 9, 9, 6, 4, 7, 4, 6, 5, 7, 5, 4, 8, 5, 9, 10, 5, 5, 4, 10, 7, 4, 4, 8, 8, 4, 8, 10, 7, 10, 7, 10, 9, 5, 8, 10, 6, 10, 9, 6, 6, 10, 5, 5, 5, 8, 8, 4, 8, 10, 6, 4, 10, 8, 9, 5, 5, 6, 5, 10, 8, 8, 7, 9, 9, 8, 9, 9, 10, 9, 10, 4, 6, 10, 9, 4, 8, 10, 6, 7, 9, 6, 5, 8, 4, 8, 4, 4, 6, 4, 5, 6, 8, 7, 6, 8, 8, 6, 8, 7, 7, 6, 4, 9, 5, 7, 7, 5, 4, 8, 4, 7, 6, 5, 10, 5, 6, 7, 9, 7, 9, 9, 10, 4, 6, 7, 9, 8, 9, 5, 6, 4, 9, 6, 8, 10, 5, 5, 8, 8, 8, 8, 10, 4, 5, 7, 4, 5, 7, 7, 5], \"y0\": \" \", \"yaxis\": \"y\"}],\n",
              "                        {\"boxmode\": \"group\", \"legend\": {\"tracegroupgap\": 0}, \"margin\": {\"t\": 60}, \"template\": {\"data\": {\"bar\": [{\"error_x\": {\"color\": \"#2a3f5f\"}, \"error_y\": {\"color\": \"#2a3f5f\"}, \"marker\": {\"line\": {\"color\": \"#E5ECF6\", \"width\": 0.5}}, \"type\": \"bar\"}], \"barpolar\": [{\"marker\": {\"line\": {\"color\": \"#E5ECF6\", \"width\": 0.5}}, \"type\": \"barpolar\"}], \"carpet\": [{\"aaxis\": {\"endlinecolor\": \"#2a3f5f\", \"gridcolor\": \"white\", \"linecolor\": \"white\", \"minorgridcolor\": \"white\", \"startlinecolor\": \"#2a3f5f\"}, \"baxis\": {\"endlinecolor\": \"#2a3f5f\", \"gridcolor\": \"white\", \"linecolor\": \"white\", \"minorgridcolor\": \"white\", \"startlinecolor\": \"#2a3f5f\"}, \"type\": \"carpet\"}], \"choropleth\": [{\"colorbar\": {\"outlinewidth\": 0, \"ticks\": \"\"}, \"type\": \"choropleth\"}], \"contour\": [{\"colorbar\": {\"outlinewidth\": 0, \"ticks\": \"\"}, \"colorscale\": [[0.0, \"#0d0887\"], [0.1111111111111111, \"#46039f\"], [0.2222222222222222, \"#7201a8\"], [0.3333333333333333, \"#9c179e\"], [0.4444444444444444, \"#bd3786\"], [0.5555555555555556, \"#d8576b\"], [0.6666666666666666, \"#ed7953\"], [0.7777777777777778, \"#fb9f3a\"], [0.8888888888888888, \"#fdca26\"], [1.0, \"#f0f921\"]], \"type\": \"contour\"}], \"contourcarpet\": [{\"colorbar\": {\"outlinewidth\": 0, \"ticks\": \"\"}, \"type\": \"contourcarpet\"}], \"heatmap\": [{\"colorbar\": {\"outlinewidth\": 0, \"ticks\": \"\"}, \"colorscale\": [[0.0, \"#0d0887\"], [0.1111111111111111, \"#46039f\"], [0.2222222222222222, \"#7201a8\"], [0.3333333333333333, \"#9c179e\"], [0.4444444444444444, \"#bd3786\"], [0.5555555555555556, \"#d8576b\"], [0.6666666666666666, \"#ed7953\"], [0.7777777777777778, \"#fb9f3a\"], [0.8888888888888888, \"#fdca26\"], [1.0, \"#f0f921\"]], \"type\": \"heatmap\"}], \"heatmapgl\": [{\"colorbar\": {\"outlinewidth\": 0, \"ticks\": \"\"}, \"colorscale\": [[0.0, \"#0d0887\"], [0.1111111111111111, \"#46039f\"], [0.2222222222222222, \"#7201a8\"], [0.3333333333333333, \"#9c179e\"], [0.4444444444444444, \"#bd3786\"], [0.5555555555555556, \"#d8576b\"], [0.6666666666666666, \"#ed7953\"], [0.7777777777777778, \"#fb9f3a\"], [0.8888888888888888, \"#fdca26\"], [1.0, \"#f0f921\"]], \"type\": \"heatmapgl\"}], \"histogram\": [{\"marker\": {\"colorbar\": {\"outlinewidth\": 0, \"ticks\": \"\"}}, \"type\": \"histogram\"}], \"histogram2d\": [{\"colorbar\": {\"outlinewidth\": 0, \"ticks\": \"\"}, \"colorscale\": [[0.0, \"#0d0887\"], [0.1111111111111111, \"#46039f\"], [0.2222222222222222, \"#7201a8\"], [0.3333333333333333, \"#9c179e\"], [0.4444444444444444, \"#bd3786\"], [0.5555555555555556, \"#d8576b\"], [0.6666666666666666, \"#ed7953\"], [0.7777777777777778, \"#fb9f3a\"], [0.8888888888888888, \"#fdca26\"], [1.0, \"#f0f921\"]], \"type\": \"histogram2d\"}], \"histogram2dcontour\": [{\"colorbar\": {\"outlinewidth\": 0, \"ticks\": \"\"}, \"colorscale\": [[0.0, \"#0d0887\"], [0.1111111111111111, \"#46039f\"], [0.2222222222222222, \"#7201a8\"], [0.3333333333333333, \"#9c179e\"], [0.4444444444444444, \"#bd3786\"], [0.5555555555555556, \"#d8576b\"], [0.6666666666666666, \"#ed7953\"], [0.7777777777777778, \"#fb9f3a\"], [0.8888888888888888, \"#fdca26\"], [1.0, \"#f0f921\"]], \"type\": \"histogram2dcontour\"}], \"mesh3d\": [{\"colorbar\": {\"outlinewidth\": 0, \"ticks\": \"\"}, \"type\": \"mesh3d\"}], \"parcoords\": [{\"line\": {\"colorbar\": {\"outlinewidth\": 0, \"ticks\": \"\"}}, \"type\": \"parcoords\"}], \"pie\": [{\"automargin\": true, \"type\": \"pie\"}], \"scatter\": [{\"marker\": {\"colorbar\": {\"outlinewidth\": 0, \"ticks\": \"\"}}, \"type\": \"scatter\"}], \"scatter3d\": [{\"line\": {\"colorbar\": {\"outlinewidth\": 0, \"ticks\": \"\"}}, \"marker\": {\"colorbar\": {\"outlinewidth\": 0, \"ticks\": \"\"}}, \"type\": \"scatter3d\"}], \"scattercarpet\": [{\"marker\": {\"colorbar\": {\"outlinewidth\": 0, \"ticks\": \"\"}}, \"type\": \"scattercarpet\"}], \"scattergeo\": [{\"marker\": {\"colorbar\": {\"outlinewidth\": 0, \"ticks\": \"\"}}, \"type\": \"scattergeo\"}], \"scattergl\": [{\"marker\": {\"colorbar\": {\"outlinewidth\": 0, \"ticks\": \"\"}}, \"type\": \"scattergl\"}], \"scattermapbox\": [{\"marker\": {\"colorbar\": {\"outlinewidth\": 0, \"ticks\": \"\"}}, \"type\": \"scattermapbox\"}], \"scatterpolar\": [{\"marker\": {\"colorbar\": {\"outlinewidth\": 0, \"ticks\": \"\"}}, \"type\": \"scatterpolar\"}], \"scatterpolargl\": [{\"marker\": {\"colorbar\": {\"outlinewidth\": 0, \"ticks\": \"\"}}, \"type\": \"scatterpolargl\"}], \"scatterternary\": [{\"marker\": {\"colorbar\": {\"outlinewidth\": 0, \"ticks\": \"\"}}, \"type\": \"scatterternary\"}], \"surface\": [{\"colorbar\": {\"outlinewidth\": 0, \"ticks\": \"\"}, \"colorscale\": [[0.0, \"#0d0887\"], [0.1111111111111111, \"#46039f\"], [0.2222222222222222, \"#7201a8\"], [0.3333333333333333, \"#9c179e\"], [0.4444444444444444, \"#bd3786\"], [0.5555555555555556, \"#d8576b\"], [0.6666666666666666, \"#ed7953\"], [0.7777777777777778, \"#fb9f3a\"], [0.8888888888888888, \"#fdca26\"], [1.0, \"#f0f921\"]], \"type\": \"surface\"}], \"table\": [{\"cells\": {\"fill\": {\"color\": \"#EBF0F8\"}, \"line\": {\"color\": \"white\"}}, \"header\": {\"fill\": {\"color\": \"#C8D4E3\"}, \"line\": {\"color\": \"white\"}}, \"type\": \"table\"}]}, \"layout\": {\"annotationdefaults\": {\"arrowcolor\": \"#2a3f5f\", \"arrowhead\": 0, \"arrowwidth\": 1}, \"coloraxis\": {\"colorbar\": {\"outlinewidth\": 0, \"ticks\": \"\"}}, \"colorscale\": {\"diverging\": [[0, \"#8e0152\"], [0.1, \"#c51b7d\"], [0.2, \"#de77ae\"], [0.3, \"#f1b6da\"], [0.4, \"#fde0ef\"], [0.5, \"#f7f7f7\"], [0.6, \"#e6f5d0\"], [0.7, \"#b8e186\"], [0.8, \"#7fbc41\"], [0.9, \"#4d9221\"], [1, \"#276419\"]], \"sequential\": [[0.0, \"#0d0887\"], [0.1111111111111111, \"#46039f\"], [0.2222222222222222, \"#7201a8\"], [0.3333333333333333, \"#9c179e\"], [0.4444444444444444, \"#bd3786\"], [0.5555555555555556, \"#d8576b\"], [0.6666666666666666, \"#ed7953\"], [0.7777777777777778, \"#fb9f3a\"], [0.8888888888888888, \"#fdca26\"], [1.0, \"#f0f921\"]], \"sequentialminus\": [[0.0, \"#0d0887\"], [0.1111111111111111, \"#46039f\"], [0.2222222222222222, \"#7201a8\"], [0.3333333333333333, \"#9c179e\"], [0.4444444444444444, \"#bd3786\"], [0.5555555555555556, \"#d8576b\"], [0.6666666666666666, \"#ed7953\"], [0.7777777777777778, \"#fb9f3a\"], [0.8888888888888888, \"#fdca26\"], [1.0, \"#f0f921\"]]}, \"colorway\": [\"#636efa\", \"#EF553B\", \"#00cc96\", \"#ab63fa\", \"#FFA15A\", \"#19d3f3\", \"#FF6692\", \"#B6E880\", \"#FF97FF\", \"#FECB52\"], \"font\": {\"color\": \"#2a3f5f\"}, \"geo\": {\"bgcolor\": \"white\", \"lakecolor\": \"white\", \"landcolor\": \"#E5ECF6\", \"showlakes\": true, \"showland\": true, \"subunitcolor\": \"white\"}, \"hoverlabel\": {\"align\": \"left\"}, \"hovermode\": \"closest\", \"mapbox\": {\"style\": \"light\"}, \"paper_bgcolor\": \"white\", \"plot_bgcolor\": \"#E5ECF6\", \"polar\": {\"angularaxis\": {\"gridcolor\": \"white\", \"linecolor\": \"white\", \"ticks\": \"\"}, \"bgcolor\": \"#E5ECF6\", \"radialaxis\": {\"gridcolor\": \"white\", \"linecolor\": \"white\", \"ticks\": \"\"}}, \"scene\": {\"xaxis\": {\"backgroundcolor\": \"#E5ECF6\", \"gridcolor\": \"white\", \"gridwidth\": 2, \"linecolor\": \"white\", \"showbackground\": true, \"ticks\": \"\", \"zerolinecolor\": \"white\"}, \"yaxis\": {\"backgroundcolor\": \"#E5ECF6\", \"gridcolor\": \"white\", \"gridwidth\": 2, \"linecolor\": \"white\", \"showbackground\": true, \"ticks\": \"\", \"zerolinecolor\": \"white\"}, \"zaxis\": {\"backgroundcolor\": \"#E5ECF6\", \"gridcolor\": \"white\", \"gridwidth\": 2, \"linecolor\": \"white\", \"showbackground\": true, \"ticks\": \"\", \"zerolinecolor\": \"white\"}}, \"shapedefaults\": {\"line\": {\"color\": \"#2a3f5f\"}}, \"ternary\": {\"aaxis\": {\"gridcolor\": \"white\", \"linecolor\": \"white\", \"ticks\": \"\"}, \"baxis\": {\"gridcolor\": \"white\", \"linecolor\": \"white\", \"ticks\": \"\"}, \"bgcolor\": \"#E5ECF6\", \"caxis\": {\"gridcolor\": \"white\", \"linecolor\": \"white\", \"ticks\": \"\"}}, \"title\": {\"x\": 0.05}, \"xaxis\": {\"automargin\": true, \"gridcolor\": \"white\", \"linecolor\": \"white\", \"ticks\": \"\", \"title\": {\"standoff\": 15}, \"zerolinecolor\": \"white\", \"zerolinewidth\": 2}, \"yaxis\": {\"automargin\": true, \"gridcolor\": \"white\", \"linecolor\": \"white\", \"ticks\": \"\", \"title\": {\"standoff\": 15}, \"zerolinecolor\": \"white\", \"zerolinewidth\": 2}}}, \"xaxis\": {\"anchor\": \"y\", \"domain\": [0.0, 1.0], \"title\": {\"text\": \"Plano fechado\"}}, \"yaxis\": {\"anchor\": \"x\", \"domain\": [0.0, 1.0], \"title\": {\"text\": \"NPS\"}}},\n",
              "                        {\"responsive\": true}\n",
              "                    ).then(function(){\n",
              "                            \n",
              "var gd = document.getElementById('c6411f67-f1b0-4bac-bdf8-7286edd89a83');\n",
              "var x = new MutationObserver(function (mutations, observer) {{\n",
              "        var display = window.getComputedStyle(gd).display;\n",
              "        if (!display || display === 'none') {{\n",
              "            console.log([gd, 'removed!']);\n",
              "            Plotly.purge(gd);\n",
              "            observer.disconnect();\n",
              "        }}\n",
              "}});\n",
              "\n",
              "// Listen for the removal of the full notebook cells\n",
              "var notebookContainer = gd.closest('#notebook-container');\n",
              "if (notebookContainer) {{\n",
              "    x.observe(notebookContainer, {childList: true});\n",
              "}}\n",
              "\n",
              "// Listen for the clearing of the current output cell\n",
              "var outputEl = gd.closest('.output');\n",
              "if (outputEl) {{\n",
              "    x.observe(outputEl, {childList: true});\n",
              "}}\n",
              "\n",
              "                        })\n",
              "                };\n",
              "                \n",
              "            </script>\n",
              "        </div>\n",
              "</body>\n",
              "</html>"
            ]
          },
          "metadata": {
            "tags": []
          }
        }
      ]
    },
    {
      "cell_type": "code",
      "metadata": {
        "colab": {
          "base_uri": "https://localhost:8080/",
          "height": 264
        },
        "id": "4GOvmQCRLxOP",
        "outputId": "abf88d30-dde6-42c3-c12a-a8a9d4637942"
      },
      "source": [
        "labels = '1-6', '7-8', '9-10'\n",
        "sizes=[Basic_Red_porc, Basic_Yellow_porc, Basic_Green_porc]\n",
        "explode=(0,0,0.1)\n",
        "\n",
        "fig1,ax1=plt.subplots()\n",
        "ax1.pie(sizes,explode=explode, labels=labels, shadow= True, autopct='%1.1f%%',colors=['r', 'y','g'])\n",
        "ax1.axis('equal')\n",
        "plt.title('NPS para a categoria BASIC')\n",
        "plt.show()"
      ],
      "execution_count": null,
      "outputs": [
        {
          "output_type": "display_data",
          "data": {
            "image/png": "[encoded data removed]",
            "text/plain": [
              "<Figure size 432x288 with 1 Axes>"
            ]
          },
          "metadata": {
            "tags": []
          }
        }
      ]
    },
    {
      "cell_type": "code",
      "metadata": {
        "colab": {
          "base_uri": "https://localhost:8080/",
          "height": 264
        },
        "id": "pTVGtNeQNpAz",
        "outputId": "aabb72d8-dac1-4344-c1d4-c2200274b71b"
      },
      "source": [
        "labels = '1-6', '7-8', '9-10'\n",
        "sizes=[Enterprise_Red_porc, Enterprise_Yellow_porc, Enterprise_Green_porc]\n",
        "explode=(0,0,0.1)\n",
        "\n",
        "fig1,ax1=plt.subplots()\n",
        "ax1.pie(sizes,explode=explode, labels=labels, shadow= True, autopct='%1.1f%%',colors=['r', 'y','g'])\n",
        "ax1.axis('equal')\n",
        "plt.title('NPS para a categoria ENTERPRISE')\n",
        "plt.show()"
      ],
      "execution_count": null,
      "outputs": [
        {
          "output_type": "display_data",
          "data": {
            "image/png": "[encoded data removed]",
            "text/plain": [
              "<Figure size 432x288 with 1 Axes>"
            ]
          },
          "metadata": {
            "tags": []
          }
        }
      ]
    },
    {
      "cell_type": "code",
      "metadata": {
        "colab": {
          "base_uri": "https://localhost:8080/",
          "height": 264
        },
        "id": "4VXDfhyyNyJK",
        "outputId": "dd249f12-fd3b-4e46-c6da-0089e2a414b4"
      },
      "source": [
        "labels = '1-6', '7-8', '9-10'\n",
        "sizes=[Premium_Red_porc, Premium_Yellow_porc, Premium_Green_porc]\n",
        "explode=(0,0,0.1)\n",
        "\n",
        "fig1,ax1=plt.subplots()\n",
        "ax1.pie(sizes,explode=explode, labels=labels, shadow= True, autopct='%1.1f%%', colors=['r', 'y','g'])\n",
        "ax1.axis('equal')\n",
        "plt.title('NPS para a categoria PREMIUM')\n",
        "plt.show()"
      ],
      "execution_count": null,
      "outputs": [
        {
          "output_type": "display_data",
          "data": {
            "image/png": "[encoded data removed]",
            "text/plain": [
              "<Figure size 432x288 with 1 Axes>"
            ]
          },
          "metadata": {
            "tags": []
          }
        }
      ]
    },
    {
      "cell_type": "markdown",
      "metadata": {
        "id": "I-ut0suOOoBV"
      },
      "source": [
        "#Conclusão"
      ]
    },
    {
      "cell_type": "markdown",
      "metadata": {
        "id": "_RtDOTHjOt_-"
      },
      "source": [
        "De acordo com os dados levantados, o serviço Basic apresenta a maior porcentagem de NPS promotor (notas 9 e 10) quando comparado com os serviços Enterprise e Premium. \n",
        "\n",
        "Observa-se ainda , que o serviço Premium apresenta a maior porcentagem detratora (notas 1 a 6) quando comparado com os outros serviços\n",
        "\n",
        "Ao supor uma diferença de preço considerável entre os serviços Basic, Enterprise e Premium, a empresa deveria focar nos serviços menos caros, uma vez que tem agradado mais a sua clientela."
      ]
    }
  ]
}